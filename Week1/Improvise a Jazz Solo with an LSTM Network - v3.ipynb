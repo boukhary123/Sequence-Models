{
 "cells": [
  {
   "cell_type": "markdown",
   "metadata": {},
   "source": [
    "# Improvise a Jazz Solo with an LSTM Network\n",
    "\n",
    "Welcome to your final programming assignment of this week! In this notebook, you will implement a model that uses an LSTM to generate music. You will even be able to listen to your own music at the end of the assignment. \n",
    "\n",
    "**You will learn to:**\n",
    "- Apply an LSTM to music generation.\n",
    "- Generate your own jazz music with deep learning.\n",
    "\n",
    "Please run the following cell to load all the packages required in this assignment. This may take a few minutes. "
   ]
  },
  {
   "cell_type": "code",
   "execution_count": 1,
   "metadata": {},
   "outputs": [
    {
     "name": "stderr",
     "output_type": "stream",
     "text": [
      "C:\\Users\\Alaa Boukhary\\Anaconda3\\envs\\tf15\\lib\\site-packages\\h5py\\__init__.py:36: FutureWarning: Conversion of the second argument of issubdtype from `float` to `np.floating` is deprecated. In future, it will be treated as `np.float64 == np.dtype(float).type`.\n",
      "  from ._conv import register_converters as _register_converters\n",
      "Using TensorFlow backend.\n"
     ]
    }
   ],
   "source": [
    "from __future__ import print_function\n",
    "import IPython\n",
    "import sys\n",
    "from music21 import *\n",
    "import numpy as np\n",
    "from grammar import *\n",
    "from qa import *\n",
    "from preprocess import * \n",
    "from music_utils import *\n",
    "from data_utils import *\n",
    "from keras.models import load_model, Model\n",
    "from keras.layers import Dense, Activation, Dropout, Input, LSTM, Reshape, Lambda, RepeatVector\n",
    "from keras.initializers import glorot_uniform\n",
    "from keras.utils import to_categorical\n",
    "from keras.optimizers import Adam\n",
    "from keras import backend as K"
   ]
  },
  {
   "cell_type": "markdown",
   "metadata": {},
   "source": [
    "## 1 - Problem statement\n",
    "\n",
    "You would like to create a jazz music piece specially for a friend's birthday. However, you don't know any instruments or music composition. Fortunately, you know deep learning and will solve this problem using an LSTM netwok.  \n",
    "\n",
    "You will train a network to generate novel jazz solos in a style representative of a body of performed work.\n",
    "\n",
    "<img src=\"images/jazz.jpg\" style=\"width:450;height:300px;\">\n",
    "\n",
    "\n",
    "### 1.1 - Dataset\n",
    "\n",
    "You will train your algorithm on a corpus of Jazz music. Run the cell below to listen to a snippet of the audio from the training set:"
   ]
  },
  {
   "cell_type": "code",
   "execution_count": null,
   "metadata": {},
   "outputs": [],
   "source": [
    "IPython.display.Audio('./data/30s_seq.mp3')"
   ]
  },
  {
   "cell_type": "markdown",
   "metadata": {},
   "source": [
    "We have taken care of the preprocessing of the musical data to render it in terms of musical \"values.\" You can informally think of each \"value\" as a note, which comprises a pitch and a duration. For example, if you press down a specific piano key for 0.5 seconds, then you have just played a note. In music theory, a \"value\" is actually more complicated than this--specifically, it also captures the information needed to play multiple notes at the same time. For example, when playing a music piece, you might press down two piano keys at the same time (playng multiple notes at the same time generates what's called a \"chord\"). But we don't need to worry about the details of music theory for this assignment. For the purpose of this assignment, all you need to know is that we will obtain a dataset of values, and will learn an RNN model to generate sequences of values. \n",
    "\n",
    "Our music generation system will use 78 unique values. Run the following code to load the raw music data and preprocess it into values. This might take a few minutes."
   ]
  },
  {
   "cell_type": "code",
   "execution_count": 2,
   "metadata": {},
   "outputs": [
    {
     "name": "stdout",
     "output_type": "stream",
     "text": [
      "shape of X: (60, 30, 78)\n",
      "number of training examples: 60\n",
      "Tx (length of sequence): 30\n",
      "total # of unique values: 78\n",
      "Shape of Y: (30, 60, 78)\n"
     ]
    }
   ],
   "source": [
    "X, Y, n_values, indices_values = load_music_utils()\n",
    "print('shape of X:', X.shape)\n",
    "print('number of training examples:', X.shape[0])\n",
    "print('Tx (length of sequence):', X.shape[1])\n",
    "print('total # of unique values:', n_values)\n",
    "print('Shape of Y:', Y.shape)"
   ]
  },
  {
   "cell_type": "markdown",
   "metadata": {},
   "source": [
    "You have just loaded the following:\n",
    "\n",
    "- `X`: This is an (m, $T_x$, 78) dimensional array. We have m training examples, each of which is a snippet of $T_x =30$ musical values. At each time step, the input is one of 78 different possible values, represented as a one-hot vector. Thus for example, X[i,t,:] is a one-hot vector representating the value of the i-th example at time t. \n",
    "\n",
    "- `Y`: This is essentially the same as `X`, but shifted one step to the left (to the past). Similar to the dinosaurus assignment, we're interested in the network using the previous values to predict the next value, so our sequence model will try to predict $y^{\\langle t \\rangle}$ given $x^{\\langle 1\\rangle}, \\ldots, x^{\\langle t \\rangle}$. However, the data in `Y` is reordered to be dimension $(T_y, m, 78)$, where $T_y = T_x$. This format makes it more convenient to feed to the LSTM later. \n",
    "\n",
    "- `n_values`: The number of unique values in this dataset. This should be 78. \n",
    "\n",
    "- `indices_values`: python dictionary mapping from 0-77 to musical values."
   ]
  },
  {
   "cell_type": "markdown",
   "metadata": {},
   "source": [
    "### 1.2 - Overview of our model\n",
    "\n",
    "Here is the architecture of the model we will use. This is similar to the Dinosaurus model you had used in the previous notebook, except that in you will be implementing it in Keras. The architecture is as follows: \n",
    "\n",
    "<img src=\"images/music_generation.png\" style=\"width:600;height:400px;\">\n",
    "\n",
    "<!--\n",
    "<img src=\"images/djmodel.png\" style=\"width:600;height:400px;\">\n",
    "<br>\n",
    "<caption><center> **Figure 1**: LSTM model. $X = (x^{\\langle 1 \\rangle}, x^{\\langle 2 \\rangle}, ..., x^{\\langle T_x \\rangle})$ is a window of size $T_x$ scanned over the musical corpus. Each $x^{\\langle t \\rangle}$ is an index corresponding to a value (ex: \"A,0.250,< m2,P-4 >\") while $\\hat{y}$ is the prediction for the next value  </center></caption>\n",
    "!--> \n",
    "\n",
    "We will be training the model on random snippets of 30 values taken from a much longer piece of music. Thus, we won't bother to set the first input $x^{\\langle 1 \\rangle} = \\vec{0}$, which we had done previously to denote the start of a dinosaur name, since now most of these snippets of audio start somewhere in the middle of a piece of music. We are setting each of the snippts to have the same length $T_x = 30$ to make vectorization easier. \n"
   ]
  },
  {
   "cell_type": "markdown",
   "metadata": {},
   "source": [
    "## 2 - Building the model\n",
    "\n",
    "In this part you will build and train a model that will learn musical patterns. To do so, you will need to build a model that takes in X of shape $(m, T_x, 78)$ and Y of shape $(T_y, m, 78)$. We will use an LSTM with 64 dimensional hidden states. Lets set `n_a = 64`. \n"
   ]
  },
  {
   "cell_type": "code",
   "execution_count": 3,
   "metadata": {},
   "outputs": [],
   "source": [
    "n_a = 64 "
   ]
  },
  {
   "cell_type": "markdown",
   "metadata": {},
   "source": [
    "\n",
    "Here's how you can create a Keras model with multiple inputs and outputs. If you're building an RNN where even at test time entire input sequence $x^{\\langle 1 \\rangle}, x^{\\langle 2 \\rangle}, \\ldots, x^{\\langle T_x \\rangle}$ were *given in advance*, for example if the inputs were words and the output was a label, then Keras has simple built-in functions to build the model. However, for sequence generation, at test time we don't know all the values of $x^{\\langle t\\rangle}$ in advance; instead we generate them one at a time using $x^{\\langle t\\rangle} = y^{\\langle t-1 \\rangle}$. So the code will be a bit more complicated, and you'll need to implement your own for-loop to iterate over the different time steps. \n",
    "\n",
    "The function `djmodel()` will call the LSTM layer $T_x$ times using a for-loop, and it is important that all $T_x$ copies have the same weights. I.e., it should not re-initiaiize the weights every time---the $T_x$ steps should have shared weights. The key steps for implementing layers with shareable weights in Keras are: \n",
    "1. Define the layer objects (we will use global variables for this).\n",
    "2. Call these objects when propagating the input.\n",
    "\n",
    "We have defined the layers objects you need as global variables. Please run the next cell to create them. Please check the Keras documentation to make sure you understand what these layers are: [Reshape()](https://keras.io/layers/core/#reshape), [LSTM()](https://keras.io/layers/recurrent/#lstm), [Dense()](https://keras.io/layers/core/#dense).\n"
   ]
  },
  {
   "cell_type": "code",
   "execution_count": 4,
   "metadata": {},
   "outputs": [],
   "source": [
    "reshapor = Reshape((1, 78))                        # Used in Step 2.B of djmodel(), below\n",
    "LSTM_cell = LSTM(n_a, return_state = True)         # Used in Step 2.C\n",
    "densor = Dense(n_values, activation='softmax')     # Used in Step 2.D"
   ]
  },
  {
   "cell_type": "markdown",
   "metadata": {},
   "source": [
    "Each of `reshapor`, `LSTM_cell` and `densor` are now layer objects, and you can use them to implement `djmodel()`. In order to propagate a Keras tensor object X through one of these layers, use `layer_object(X)` (or `layer_object([X,Y])` if it requires multiple inputs.). For example, `reshapor(X)` will propagate X through the `Reshape((1,78))` layer defined above."
   ]
  },
  {
   "cell_type": "markdown",
   "metadata": {},
   "source": [
    " \n",
    "**Exercise**: Implement `djmodel()`. You will need to carry out 2 steps:\n",
    "\n",
    "1. Create an empty list \"outputs\" to save the outputs of the LSTM Cell at every time step.\n",
    "2. Loop for $t \\in 1, \\ldots, T_x$:\n",
    "\n",
    "    A. Select the \"t\"th time-step vector from X. The shape of this selection should be (78,). To do so, create a custom [Lambda](https://keras.io/layers/core/#lambda) layer in Keras by using this line of code:\n",
    "```    \n",
    "           x = Lambda(lambda x: X[:,t,:])(X)\n",
    "``` \n",
    "Look over the Keras documentation to figure out what this does. It is creating a \"temporary\" or \"unnamed\" function (that's what Lambda functions are) that extracts out the appropriate one-hot vector, and making this function a Keras `Layer` object to apply to `X`. \n",
    "\n",
    "    B. Reshape x to be (1,78). You may find the `reshapor()` layer (defined below) helpful.\n",
    "\n",
    "    C. Run x through one step of LSTM_cell. Remember to initialize the LSTM_cell with the previous step's hidden state $a$ and cell state $c$. Use the following formatting:\n",
    "```python\n",
    "a, _, c = LSTM_cell(input_x, initial_state=[previous hidden state, previous cell state])\n",
    "```\n",
    "\n",
    "    D. Propagate the LSTM's output activation value through a dense+softmax layer using `densor`. \n",
    "    \n",
    "    E. Append the predicted value to the list of \"outputs\"\n",
    " \n"
   ]
  },
  {
   "cell_type": "code",
   "execution_count": 5,
   "metadata": {},
   "outputs": [],
   "source": [
    "# GRADED FUNCTION: djmodel\n",
    "\n",
    "def djmodel(Tx, n_a, n_values):\n",
    "    \"\"\"\n",
    "    Implement the model\n",
    "    \n",
    "    Arguments:\n",
    "    Tx -- length of the sequence in a corpus\n",
    "    n_a -- the number of activations used in our model\n",
    "    n_values -- number of unique values in the music data \n",
    "    \n",
    "    Returns:\n",
    "    model -- a keras model with the \n",
    "    \"\"\"\n",
    "    \n",
    "    # Define the input of your model with a shape \n",
    "    X = Input(shape=(Tx, n_values))\n",
    "    \n",
    "    # Define s0, initial hidden state for the decoder LSTM\n",
    "    a0 = Input(shape=(n_a,), name='a0')\n",
    "    c0 = Input(shape=(n_a,), name='c0')\n",
    "    a = a0\n",
    "    c = c0\n",
    "    \n",
    "    ### START CODE HERE ### \n",
    "    # Step 1: Create empty list to append the outputs while you iterate (≈1 line)\n",
    "    outputs = []\n",
    "    \n",
    "    # Step 2: Loop\n",
    "    for t in range(Tx):\n",
    "        \n",
    "        # Step 2.A: select the \"t\"th time step vector from X. \n",
    "        x = Lambda(lambda x: X[:,t,:])(X)\n",
    "        # Step 2.B: Use reshapor to reshape x to be (1, n_values) (≈1 line)\n",
    "        x = Reshape((1, 78))(x)\n",
    "        # Step 2.C: Perform one step of the LSTM_cell\n",
    "        a, _, c = LSTM_cell(x, initial_state=[a, c])\n",
    "        # Step 2.D: Apply densor to the hidden state output of LSTM_Cell\n",
    "        out = Dense(n_values,activation='softmax')(a)\n",
    "        # Step 2.E: add the output to \"outputs\"\n",
    "        outputs.append(out)\n",
    "        \n",
    "    # Step 3: Create model instance\n",
    "    model = Model(inputs=[X,a0,c0],outputs=outputs)\n",
    "    \n",
    "    ### END CODE HERE ###\n",
    "    \n",
    "    return model"
   ]
  },
  {
   "cell_type": "markdown",
   "metadata": {},
   "source": [
    "Run the following cell to define your model. We will use `Tx=30`, `n_a=64` (the dimension of the LSTM activations), and `n_values=78`. This cell may take a few seconds to run. "
   ]
  },
  {
   "cell_type": "code",
   "execution_count": 6,
   "metadata": {},
   "outputs": [],
   "source": [
    "model = djmodel(Tx = 30 , n_a = 64, n_values = 78)"
   ]
  },
  {
   "cell_type": "markdown",
   "metadata": {},
   "source": [
    "You now need to compile your model to be trained. We will Adam and a categorical cross-entropy loss."
   ]
  },
  {
   "cell_type": "code",
   "execution_count": 7,
   "metadata": {},
   "outputs": [],
   "source": [
    "opt = Adam(lr=0.01, beta_1=0.9, beta_2=0.999, decay=0.01)\n",
    "\n",
    "model.compile(optimizer=opt, loss='categorical_crossentropy', metrics=['accuracy'])"
   ]
  },
  {
   "cell_type": "markdown",
   "metadata": {},
   "source": [
    "Finally, lets initialize `a0` and `c0` for the LSTM's initial state to be zero. "
   ]
  },
  {
   "cell_type": "code",
   "execution_count": 8,
   "metadata": {
    "scrolled": true
   },
   "outputs": [],
   "source": [
    "m = 60\n",
    "a0 = np.zeros((m, n_a))\n",
    "c0 = np.zeros((m, n_a))"
   ]
  },
  {
   "cell_type": "markdown",
   "metadata": {},
   "source": [
    "Lets now fit the model! We will turn `Y` to a list before doing so, since the cost function expects `Y` to be provided in this format (one list item per time-step). So `list(Y)` is a list with 30 items, where each of the list items is of shape (60,78). Lets train for 100 epochs. This will take a few minutes. \n",
    "\n"
   ]
  },
  {
   "cell_type": "code",
   "execution_count": 9,
   "metadata": {
    "scrolled": true
   },
   "outputs": [
    {
     "name": "stdout",
     "output_type": "stream",
     "text": [
      "WARNING:tensorflow:Variable *= will be deprecated. Use variable.assign_mul if you want assignment to the variable value or 'x = x * y' if you want a new python Tensor object.\n",
      "Epoch 1/100\n",
      "60/60 [==============================] - 27s 458ms/step - loss: 126.1709 - dense_2_loss: 4.3543 - dense_3_loss: 4.3521 - dense_4_loss: 4.3589 - dense_5_loss: 4.3504 - dense_6_loss: 4.3533 - dense_7_loss: 4.3510 - dense_8_loss: 4.3504 - dense_9_loss: 4.3483 - dense_10_loss: 4.3597 - dense_11_loss: 4.3413 - dense_12_loss: 4.3459 - dense_13_loss: 4.3517 - dense_14_loss: 4.3518 - dense_15_loss: 4.3494 - dense_16_loss: 4.3507 - dense_17_loss: 4.3485 - dense_18_loss: 4.3572 - dense_19_loss: 4.3452 - dense_20_loss: 4.3478 - dense_21_loss: 4.3497 - dense_22_loss: 4.3586 - dense_23_loss: 4.3469 - dense_24_loss: 4.3524 - dense_25_loss: 4.3496 - dense_26_loss: 4.3579 - dense_27_loss: 4.3370 - dense_28_loss: 4.3526 - dense_29_loss: 4.3495 - dense_30_loss: 4.3489 - dense_31_loss: 0.0000e+00 - dense_2_acc: 0.0167 - dense_3_acc: 0.0167 - dense_4_acc: 0.0167 - dense_5_acc: 0.0000e+00 - dense_6_acc: 0.0167 - dense_7_acc: 0.0333 - dense_8_acc: 0.0333 - dense_9_acc: 0.0000e+00 - dense_10_acc: 0.0000e+00 - dense_11_acc: 0.0333 - dense_12_acc: 0.0167 - dense_13_acc: 0.0500 - dense_14_acc: 0.0000e+00 - dense_15_acc: 0.0167 - dense_16_acc: 0.0167 - dense_17_acc: 0.0167 - dense_18_acc: 0.0500 - dense_19_acc: 0.0500 - dense_20_acc: 0.0500 - dense_21_acc: 0.0667 - dense_22_acc: 0.0167 - dense_23_acc: 0.0167 - dense_24_acc: 0.0333 - dense_25_acc: 0.0167 - dense_26_acc: 0.0000e+00 - dense_27_acc: 0.0333 - dense_28_acc: 0.0000e+00 - dense_29_acc: 0.0167 - dense_30_acc: 0.0167 - dense_31_acc: 0.0000e+00                                      \n",
      "Epoch 2/100\n",
      "60/60 [==============================] - 0s 5ms/step - loss: 123.5624 - dense_2_loss: 4.3337 - dense_3_loss: 4.3157 - dense_4_loss: 4.3170 - dense_5_loss: 4.2955 - dense_6_loss: 4.2893 - dense_7_loss: 4.2852 - dense_8_loss: 4.2802 - dense_9_loss: 4.2723 - dense_10_loss: 4.2867 - dense_11_loss: 4.2449 - dense_12_loss: 4.2648 - dense_13_loss: 4.2655 - dense_14_loss: 4.2713 - dense_15_loss: 4.2429 - dense_16_loss: 4.2628 - dense_17_loss: 4.2503 - dense_18_loss: 4.2560 - dense_19_loss: 4.2368 - dense_20_loss: 4.2186 - dense_21_loss: 4.2374 - dense_22_loss: 4.2843 - dense_23_loss: 4.2285 - dense_24_loss: 4.2467 - dense_25_loss: 4.2373 - dense_26_loss: 4.2605 - dense_27_loss: 4.1928 - dense_28_loss: 4.2324 - dense_29_loss: 4.2212 - dense_30_loss: 4.2318 - dense_31_loss: 0.0000e+00 - dense_2_acc: 0.0000e+00 - dense_3_acc: 0.1000 - dense_4_acc: 0.0500 - dense_5_acc: 0.1333 - dense_6_acc: 0.1667 - dense_7_acc: 0.1167 - dense_8_acc: 0.1500 - dense_9_acc: 0.1000 - dense_10_acc: 0.0333 - dense_11_acc: 0.1000 - dense_12_acc: 0.0333 - dense_13_acc: 0.1167 - dense_14_acc: 0.0167 - dense_15_acc: 0.0500 - dense_16_acc: 0.0667 - dense_17_acc: 0.0667 - dense_18_acc: 0.1167 - dense_19_acc: 0.1500 - dense_20_acc: 0.1333 - dense_21_acc: 0.0667 - dense_22_acc: 0.0833 - dense_23_acc: 0.1167 - dense_24_acc: 0.0500 - dense_25_acc: 0.0833 - dense_26_acc: 0.0833 - dense_27_acc: 0.0667 - dense_28_acc: 0.0000e+00 - dense_29_acc: 0.1333 - dense_30_acc: 0.0167 - dense_31_acc: 0.0000e+00        \n",
      "Epoch 3/100\n",
      "60/60 [==============================] - 0s 5ms/step - loss: 114.5403 - dense_2_loss: 4.3069 - dense_3_loss: 4.2641 - dense_4_loss: 4.2455 - dense_5_loss: 4.1944 - dense_6_loss: 4.1395 - dense_7_loss: 4.1272 - dense_8_loss: 4.0732 - dense_9_loss: 4.0395 - dense_10_loss: 3.9941 - dense_11_loss: 3.8627 - dense_12_loss: 3.8760 - dense_13_loss: 3.9063 - dense_14_loss: 3.9662 - dense_15_loss: 3.7780 - dense_16_loss: 3.8938 - dense_17_loss: 3.8710 - dense_18_loss: 4.0119 - dense_19_loss: 3.8769 - dense_20_loss: 3.7022 - dense_21_loss: 3.8290 - dense_22_loss: 3.9778 - dense_23_loss: 3.8006 - dense_24_loss: 3.8739 - dense_25_loss: 3.8019 - dense_26_loss: 3.9233 - dense_27_loss: 3.6532 - dense_28_loss: 3.7917 - dense_29_loss: 3.7849 - dense_30_loss: 3.9748 - dense_31_loss: 0.0000e+00 - dense_2_acc: 0.0500 - dense_3_acc: 0.2167 - dense_4_acc: 0.0333 - dense_5_acc: 0.1500 - dense_6_acc: 0.1667 - dense_7_acc: 0.1000 - dense_8_acc: 0.1333 - dense_9_acc: 0.0667 - dense_10_acc: 0.0667 - dense_11_acc: 0.1000 - dense_12_acc: 0.0167 - dense_13_acc: 0.1167 - dense_14_acc: 0.0333 - dense_15_acc: 0.0333 - dense_16_acc: 0.0667 - dense_17_acc: 0.0500 - dense_18_acc: 0.1167 - dense_19_acc: 0.0500 - dense_20_acc: 0.0833 - dense_21_acc: 0.1000 - dense_22_acc: 0.0667 - dense_23_acc: 0.1167 - dense_24_acc: 0.0167 - dense_25_acc: 0.0167 - dense_26_acc: 0.0500 - dense_27_acc: 0.0667 - dense_28_acc: 0.0333 - dense_29_acc: 0.0833 - dense_30_acc: 0.0500 - dense_31_acc: 0.0000e+00\n",
      "Epoch 4/100\n",
      "60/60 [==============================] - 0s 5ms/step - loss: 106.4284 - dense_2_loss: 4.2726 - dense_3_loss: 4.1904 - dense_4_loss: 4.1185 - dense_5_loss: 3.9795 - dense_6_loss: 3.8211 - dense_7_loss: 3.7614 - dense_8_loss: 3.6608 - dense_9_loss: 3.5680 - dense_10_loss: 3.6434 - dense_11_loss: 3.4732 - dense_12_loss: 3.5670 - dense_13_loss: 3.6890 - dense_14_loss: 3.5812 - dense_15_loss: 3.4442 - dense_16_loss: 3.7076 - dense_17_loss: 3.5752 - dense_18_loss: 3.7274 - dense_19_loss: 3.7012 - dense_20_loss: 3.4098 - dense_21_loss: 3.5980 - dense_22_loss: 3.6920 - dense_23_loss: 3.5545 - dense_24_loss: 3.5204 - dense_25_loss: 3.5151 - dense_26_loss: 3.6037 - dense_27_loss: 3.3498 - dense_28_loss: 3.4901 - dense_29_loss: 3.5294 - dense_30_loss: 3.6840 - dense_31_loss: 0.0000e+00 - dense_2_acc: 0.0500 - dense_3_acc: 0.1167 - dense_4_acc: 0.1167 - dense_5_acc: 0.1667 - dense_6_acc: 0.1333 - dense_7_acc: 0.0833 - dense_8_acc: 0.1000 - dense_9_acc: 0.0667 - dense_10_acc: 0.0500 - dense_11_acc: 0.1000 - dense_12_acc: 0.0500 - dense_13_acc: 0.0500 - dense_14_acc: 0.0500 - dense_15_acc: 0.0500 - dense_16_acc: 0.0167 - dense_17_acc: 0.0333 - dense_18_acc: 0.1167 - dense_19_acc: 0.1167 - dense_20_acc: 0.0833 - dense_21_acc: 0.1000 - dense_22_acc: 0.0667 - dense_23_acc: 0.1167 - dense_24_acc: 0.0000e+00 - dense_25_acc: 0.1167 - dense_26_acc: 0.0500 - dense_27_acc: 0.1000 - dense_28_acc: 0.0667 - dense_29_acc: 0.1167 - dense_30_acc: 0.0500 - dense_31_acc: 0.0000e+00\n",
      "Epoch 5/100\n",
      "60/60 [==============================] - 0s 4ms/step - loss: 102.1295 - dense_2_loss: 4.2296 - dense_3_loss: 4.0926 - dense_4_loss: 3.9250 - dense_5_loss: 3.6965 - dense_6_loss: 3.4481 - dense_7_loss: 3.6639 - dense_8_loss: 3.5408 - dense_9_loss: 3.3319 - dense_10_loss: 3.4885 - dense_11_loss: 3.3010 - dense_12_loss: 3.3900 - dense_13_loss: 3.6201 - dense_14_loss: 3.4668 - dense_15_loss: 3.3099 - dense_16_loss: 3.5262 - dense_17_loss: 3.4638 - dense_18_loss: 3.4983 - dense_19_loss: 3.5547 - dense_20_loss: 3.3191 - dense_21_loss: 3.4328 - dense_22_loss: 3.5432 - dense_23_loss: 3.3968 - dense_24_loss: 3.3709 - dense_25_loss: 3.4194 - dense_26_loss: 3.5063 - dense_27_loss: 3.2840 - dense_28_loss: 3.3683 - dense_29_loss: 3.3768 - dense_30_loss: 3.5641 - dense_31_loss: 0.0000e+00 - dense_2_acc: 0.1000 - dense_3_acc: 0.0500 - dense_4_acc: 0.1167 - dense_5_acc: 0.1500 - dense_6_acc: 0.1167 - dense_7_acc: 0.0667 - dense_8_acc: 0.1000 - dense_9_acc: 0.1500 - dense_10_acc: 0.1167 - dense_11_acc: 0.1000 - dense_12_acc: 0.0833 - dense_13_acc: 0.0667 - dense_14_acc: 0.1000 - dense_15_acc: 0.0833 - dense_16_acc: 0.0833 - dense_17_acc: 0.0833 - dense_18_acc: 0.1167 - dense_19_acc: 0.1167 - dense_20_acc: 0.1000 - dense_21_acc: 0.1000 - dense_22_acc: 0.0500 - dense_23_acc: 0.0833 - dense_24_acc: 0.1333 - dense_25_acc: 0.0833 - dense_26_acc: 0.1000 - dense_27_acc: 0.0667 - dense_28_acc: 0.1000 - dense_29_acc: 0.0833 - dense_30_acc: 0.0833 - dense_31_acc: 0.0000e+00\n",
      "Epoch 6/100\n"
     ]
    },
    {
     "name": "stdout",
     "output_type": "stream",
     "text": [
      "60/60 [==============================] - 0s 5ms/step - loss: 99.6954 - dense_2_loss: 4.1808 - dense_3_loss: 3.9758 - dense_4_loss: 3.6945 - dense_5_loss: 3.4760 - dense_6_loss: 3.3594 - dense_7_loss: 3.5954 - dense_8_loss: 3.4581 - dense_9_loss: 3.2311 - dense_10_loss: 3.3640 - dense_11_loss: 3.2144 - dense_12_loss: 3.3120 - dense_13_loss: 3.5371 - dense_14_loss: 3.4152 - dense_15_loss: 3.2309 - dense_16_loss: 3.4488 - dense_17_loss: 3.4158 - dense_18_loss: 3.4395 - dense_19_loss: 3.4568 - dense_20_loss: 3.2631 - dense_21_loss: 3.3463 - dense_22_loss: 3.5146 - dense_23_loss: 3.3336 - dense_24_loss: 3.3165 - dense_25_loss: 3.3246 - dense_26_loss: 3.4280 - dense_27_loss: 3.2225 - dense_28_loss: 3.3089 - dense_29_loss: 3.3283 - dense_30_loss: 3.5036 - dense_31_loss: 0.0000e+00 - dense_2_acc: 0.1000 - dense_3_acc: 0.0500 - dense_4_acc: 0.1167 - dense_5_acc: 0.1000 - dense_6_acc: 0.1167 - dense_7_acc: 0.0667 - dense_8_acc: 0.1000 - dense_9_acc: 0.1333 - dense_10_acc: 0.0833 - dense_11_acc: 0.1000 - dense_12_acc: 0.0667 - dense_13_acc: 0.0667 - dense_14_acc: 0.1000 - dense_15_acc: 0.1000 - dense_16_acc: 0.1000 - dense_17_acc: 0.0500 - dense_18_acc: 0.1000 - dense_19_acc: 0.1167 - dense_20_acc: 0.1000 - dense_21_acc: 0.0833 - dense_22_acc: 0.0667 - dense_23_acc: 0.1333 - dense_24_acc: 0.1000 - dense_25_acc: 0.0833 - dense_26_acc: 0.1000 - dense_27_acc: 0.0667 - dense_28_acc: 0.1167 - dense_29_acc: 0.0833 - dense_30_acc: 0.1167 - dense_31_acc: 0.0000e+00\n",
      "Epoch 7/100\n",
      "60/60 [==============================] - 0s 4ms/step - loss: 98.4090 - dense_2_loss: 4.1290 - dense_3_loss: 3.8527 - dense_4_loss: 3.4888 - dense_5_loss: 3.3865 - dense_6_loss: 3.3084 - dense_7_loss: 3.5260 - dense_8_loss: 3.4179 - dense_9_loss: 3.2026 - dense_10_loss: 3.3138 - dense_11_loss: 3.1943 - dense_12_loss: 3.2906 - dense_13_loss: 3.4843 - dense_14_loss: 3.3628 - dense_15_loss: 3.2173 - dense_16_loss: 3.4271 - dense_17_loss: 3.3693 - dense_18_loss: 3.4412 - dense_19_loss: 3.4124 - dense_20_loss: 3.2453 - dense_21_loss: 3.3612 - dense_22_loss: 3.4692 - dense_23_loss: 3.3038 - dense_24_loss: 3.2832 - dense_25_loss: 3.2917 - dense_26_loss: 3.4126 - dense_27_loss: 3.1490 - dense_28_loss: 3.2654 - dense_29_loss: 3.3251 - dense_30_loss: 3.4776 - dense_31_loss: 0.0000e+00 - dense_2_acc: 0.0833 - dense_3_acc: 0.0500 - dense_4_acc: 0.1167 - dense_5_acc: 0.1000 - dense_6_acc: 0.1500 - dense_7_acc: 0.1167 - dense_8_acc: 0.1000 - dense_9_acc: 0.1333 - dense_10_acc: 0.1000 - dense_11_acc: 0.1000 - dense_12_acc: 0.1000 - dense_13_acc: 0.0333 - dense_14_acc: 0.1000 - dense_15_acc: 0.1167 - dense_16_acc: 0.1000 - dense_17_acc: 0.1000 - dense_18_acc: 0.1000 - dense_19_acc: 0.1167 - dense_20_acc: 0.1000 - dense_21_acc: 0.0667 - dense_22_acc: 0.0667 - dense_23_acc: 0.0833 - dense_24_acc: 0.1000 - dense_25_acc: 0.1667 - dense_26_acc: 0.0833 - dense_27_acc: 0.1167 - dense_28_acc: 0.1167 - dense_29_acc: 0.0833 - dense_30_acc: 0.1167 - dense_31_acc: 0.0000e+00\n",
      "Epoch 8/100\n",
      "60/60 [==============================] - 0s 5ms/step - loss: 97.7662 - dense_2_loss: 4.0735 - dense_3_loss: 3.7261 - dense_4_loss: 3.3244 - dense_5_loss: 3.3613 - dense_6_loss: 3.2585 - dense_7_loss: 3.4715 - dense_8_loss: 3.3998 - dense_9_loss: 3.2016 - dense_10_loss: 3.2864 - dense_11_loss: 3.1895 - dense_12_loss: 3.2763 - dense_13_loss: 3.4889 - dense_14_loss: 3.3554 - dense_15_loss: 3.2109 - dense_16_loss: 3.4271 - dense_17_loss: 3.3568 - dense_18_loss: 3.4337 - dense_19_loss: 3.4376 - dense_20_loss: 3.2354 - dense_21_loss: 3.3662 - dense_22_loss: 3.4674 - dense_23_loss: 3.2785 - dense_24_loss: 3.2669 - dense_25_loss: 3.2843 - dense_26_loss: 3.3950 - dense_27_loss: 3.1504 - dense_28_loss: 3.2495 - dense_29_loss: 3.3221 - dense_30_loss: 3.4710 - dense_31_loss: 0.0000e+00 - dense_2_acc: 0.0667 - dense_3_acc: 0.0500 - dense_4_acc: 0.1167 - dense_5_acc: 0.1000 - dense_6_acc: 0.1333 - dense_7_acc: 0.0500 - dense_8_acc: 0.1000 - dense_9_acc: 0.1333 - dense_10_acc: 0.1000 - dense_11_acc: 0.1000 - dense_12_acc: 0.1000 - dense_13_acc: 0.0500 - dense_14_acc: 0.1000 - dense_15_acc: 0.0833 - dense_16_acc: 0.0833 - dense_17_acc: 0.0667 - dense_18_acc: 0.1000 - dense_19_acc: 0.1167 - dense_20_acc: 0.1000 - dense_21_acc: 0.0667 - dense_22_acc: 0.0667 - dense_23_acc: 0.0833 - dense_24_acc: 0.1667 - dense_25_acc: 0.0833 - dense_26_acc: 0.1167 - dense_27_acc: 0.1333 - dense_28_acc: 0.1167 - dense_29_acc: 0.0833 - dense_30_acc: 0.1167 - dense_31_acc: 0.0000e+00\n",
      "Epoch 9/100\n",
      "60/60 [==============================] - 0s 4ms/step - loss: 96.9881 - dense_2_loss: 4.0189 - dense_3_loss: 3.6138 - dense_4_loss: 3.2400 - dense_5_loss: 3.3334 - dense_6_loss: 3.2150 - dense_7_loss: 3.4602 - dense_8_loss: 3.3889 - dense_9_loss: 3.1816 - dense_10_loss: 3.2709 - dense_11_loss: 3.1680 - dense_12_loss: 3.2457 - dense_13_loss: 3.4714 - dense_14_loss: 3.3390 - dense_15_loss: 3.1917 - dense_16_loss: 3.4090 - dense_17_loss: 3.3333 - dense_18_loss: 3.4174 - dense_19_loss: 3.4302 - dense_20_loss: 3.2035 - dense_21_loss: 3.3458 - dense_22_loss: 3.4436 - dense_23_loss: 3.2687 - dense_24_loss: 3.2450 - dense_25_loss: 3.2695 - dense_26_loss: 3.3787 - dense_27_loss: 3.1231 - dense_28_loss: 3.2394 - dense_29_loss: 3.2938 - dense_30_loss: 3.4484 - dense_31_loss: 0.0000e+00 - dense_2_acc: 0.0500 - dense_3_acc: 0.1500 - dense_4_acc: 0.1167 - dense_5_acc: 0.1000 - dense_6_acc: 0.1333 - dense_7_acc: 0.0500 - dense_8_acc: 0.1000 - dense_9_acc: 0.1333 - dense_10_acc: 0.1167 - dense_11_acc: 0.1000 - dense_12_acc: 0.1000 - dense_13_acc: 0.0500 - dense_14_acc: 0.1667 - dense_15_acc: 0.0500 - dense_16_acc: 0.0833 - dense_17_acc: 0.0667 - dense_18_acc: 0.1000 - dense_19_acc: 0.1167 - dense_20_acc: 0.1167 - dense_21_acc: 0.1167 - dense_22_acc: 0.0667 - dense_23_acc: 0.1000 - dense_24_acc: 0.1833 - dense_25_acc: 0.1167 - dense_26_acc: 0.1167 - dense_27_acc: 0.2000 - dense_28_acc: 0.1167 - dense_29_acc: 0.1000 - dense_30_acc: 0.1167 - dense_31_acc: 0.0000e+00\n",
      "Epoch 10/100\n",
      "60/60 [==============================] - 0s 4ms/step - loss: 96.3383 - dense_2_loss: 3.9623 - dense_3_loss: 3.5077 - dense_4_loss: 3.2038 - dense_5_loss: 3.3072 - dense_6_loss: 3.2112 - dense_7_loss: 3.4473 - dense_8_loss: 3.3698 - dense_9_loss: 3.1573 - dense_10_loss: 3.2637 - dense_11_loss: 3.1553 - dense_12_loss: 3.2211 - dense_13_loss: 3.4600 - dense_14_loss: 3.3221 - dense_15_loss: 3.1720 - dense_16_loss: 3.3970 - dense_17_loss: 3.3170 - dense_18_loss: 3.3769 - dense_19_loss: 3.4167 - dense_20_loss: 3.1841 - dense_21_loss: 3.3238 - dense_22_loss: 3.4359 - dense_23_loss: 3.2451 - dense_24_loss: 3.2348 - dense_25_loss: 3.2525 - dense_26_loss: 3.3643 - dense_27_loss: 3.1016 - dense_28_loss: 3.2307 - dense_29_loss: 3.2746 - dense_30_loss: 3.4224 - dense_31_loss: 0.0000e+00 - dense_2_acc: 0.1000 - dense_3_acc: 0.2000 - dense_4_acc: 0.1000 - dense_5_acc: 0.1500 - dense_6_acc: 0.1333 - dense_7_acc: 0.0500 - dense_8_acc: 0.1167 - dense_9_acc: 0.1500 - dense_10_acc: 0.1333 - dense_11_acc: 0.1000 - dense_12_acc: 0.1000 - dense_13_acc: 0.0667 - dense_14_acc: 0.1333 - dense_15_acc: 0.0833 - dense_16_acc: 0.0833 - dense_17_acc: 0.1167 - dense_18_acc: 0.1333 - dense_19_acc: 0.1167 - dense_20_acc: 0.1667 - dense_21_acc: 0.1000 - dense_22_acc: 0.0667 - dense_23_acc: 0.1167 - dense_24_acc: 0.1333 - dense_25_acc: 0.1833 - dense_26_acc: 0.0833 - dense_27_acc: 0.1667 - dense_28_acc: 0.1167 - dense_29_acc: 0.0500 - dense_30_acc: 0.1167 - dense_31_acc: 0.0000e+00\n",
      "Epoch 11/100\n"
     ]
    },
    {
     "name": "stdout",
     "output_type": "stream",
     "text": [
      "60/60 [==============================] - 0s 5ms/step - loss: 95.5261 - dense_2_loss: 3.9069 - dense_3_loss: 3.4229 - dense_4_loss: 3.1750 - dense_5_loss: 3.2817 - dense_6_loss: 3.1990 - dense_7_loss: 3.4278 - dense_8_loss: 3.3466 - dense_9_loss: 3.1388 - dense_10_loss: 3.2371 - dense_11_loss: 3.1098 - dense_12_loss: 3.2067 - dense_13_loss: 3.4340 - dense_14_loss: 3.3018 - dense_15_loss: 3.1539 - dense_16_loss: 3.3576 - dense_17_loss: 3.2850 - dense_18_loss: 3.3357 - dense_19_loss: 3.3831 - dense_20_loss: 3.1639 - dense_21_loss: 3.3042 - dense_22_loss: 3.4054 - dense_23_loss: 3.2080 - dense_24_loss: 3.1995 - dense_25_loss: 3.2350 - dense_26_loss: 3.3369 - dense_27_loss: 3.0972 - dense_28_loss: 3.2205 - dense_29_loss: 3.2540 - dense_30_loss: 3.3980 - dense_31_loss: 0.0000e+00 - dense_2_acc: 0.1000 - dense_3_acc: 0.1833 - dense_4_acc: 0.1000 - dense_5_acc: 0.1167 - dense_6_acc: 0.1000 - dense_7_acc: 0.1167 - dense_8_acc: 0.1000 - dense_9_acc: 0.1500 - dense_10_acc: 0.1167 - dense_11_acc: 0.1000 - dense_12_acc: 0.1000 - dense_13_acc: 0.1333 - dense_14_acc: 0.1000 - dense_15_acc: 0.0833 - dense_16_acc: 0.1000 - dense_17_acc: 0.1333 - dense_18_acc: 0.1333 - dense_19_acc: 0.1167 - dense_20_acc: 0.1500 - dense_21_acc: 0.1000 - dense_22_acc: 0.0667 - dense_23_acc: 0.1167 - dense_24_acc: 0.1500 - dense_25_acc: 0.1167 - dense_26_acc: 0.1333 - dense_27_acc: 0.1500 - dense_28_acc: 0.1333 - dense_29_acc: 0.0667 - dense_30_acc: 0.1167 - dense_31_acc: 0.0000e+00\n",
      "Epoch 12/100\n",
      "60/60 [==============================] - 0s 6ms/step - loss: 94.8596 - dense_2_loss: 3.8534 - dense_3_loss: 3.3542 - dense_4_loss: 3.1639 - dense_5_loss: 3.2549 - dense_6_loss: 3.1717 - dense_7_loss: 3.4027 - dense_8_loss: 3.3300 - dense_9_loss: 3.1115 - dense_10_loss: 3.2241 - dense_11_loss: 3.0860 - dense_12_loss: 3.1750 - dense_13_loss: 3.4040 - dense_14_loss: 3.2796 - dense_15_loss: 3.1266 - dense_16_loss: 3.3283 - dense_17_loss: 3.2715 - dense_18_loss: 3.3015 - dense_19_loss: 3.3546 - dense_20_loss: 3.1550 - dense_21_loss: 3.2979 - dense_22_loss: 3.3957 - dense_23_loss: 3.2041 - dense_24_loss: 3.1862 - dense_25_loss: 3.2307 - dense_26_loss: 3.3216 - dense_27_loss: 3.0630 - dense_28_loss: 3.1947 - dense_29_loss: 3.2298 - dense_30_loss: 3.3872 - dense_31_loss: 0.0000e+00 - dense_2_acc: 0.1000 - dense_3_acc: 0.1833 - dense_4_acc: 0.1000 - dense_5_acc: 0.1000 - dense_6_acc: 0.1500 - dense_7_acc: 0.0833 - dense_8_acc: 0.1500 - dense_9_acc: 0.1833 - dense_10_acc: 0.1167 - dense_11_acc: 0.1167 - dense_12_acc: 0.1167 - dense_13_acc: 0.1000 - dense_14_acc: 0.1000 - dense_15_acc: 0.1333 - dense_16_acc: 0.1000 - dense_17_acc: 0.0833 - dense_18_acc: 0.1167 - dense_19_acc: 0.1167 - dense_20_acc: 0.1167 - dense_21_acc: 0.1000 - dense_22_acc: 0.0667 - dense_23_acc: 0.1167 - dense_24_acc: 0.1833 - dense_25_acc: 0.1333 - dense_26_acc: 0.1000 - dense_27_acc: 0.1333 - dense_28_acc: 0.1000 - dense_29_acc: 0.0500 - dense_30_acc: 0.1167 - dense_31_acc: 0.0000e+00\n",
      "Epoch 13/100\n",
      "60/60 [==============================] - 0s 6ms/step - loss: 94.2225 - dense_2_loss: 3.8033 - dense_3_loss: 3.3048 - dense_4_loss: 3.1475 - dense_5_loss: 3.2365 - dense_6_loss: 3.1616 - dense_7_loss: 3.3755 - dense_8_loss: 3.3125 - dense_9_loss: 3.0969 - dense_10_loss: 3.2058 - dense_11_loss: 3.0692 - dense_12_loss: 3.1629 - dense_13_loss: 3.3812 - dense_14_loss: 3.2693 - dense_15_loss: 3.1215 - dense_16_loss: 3.3093 - dense_17_loss: 3.2512 - dense_18_loss: 3.2900 - dense_19_loss: 3.3357 - dense_20_loss: 3.1413 - dense_21_loss: 3.2611 - dense_22_loss: 3.3744 - dense_23_loss: 3.1874 - dense_24_loss: 3.1727 - dense_25_loss: 3.1971 - dense_26_loss: 3.2892 - dense_27_loss: 3.0304 - dense_28_loss: 3.1664 - dense_29_loss: 3.2089 - dense_30_loss: 3.3587 - dense_31_loss: 0.0000e+00 - dense_2_acc: 0.1000 - dense_3_acc: 0.1667 - dense_4_acc: 0.1000 - dense_5_acc: 0.1333 - dense_6_acc: 0.1833 - dense_7_acc: 0.0833 - dense_8_acc: 0.1167 - dense_9_acc: 0.2333 - dense_10_acc: 0.1167 - dense_11_acc: 0.1333 - dense_12_acc: 0.1667 - dense_13_acc: 0.1000 - dense_14_acc: 0.1000 - dense_15_acc: 0.1500 - dense_16_acc: 0.1000 - dense_17_acc: 0.0833 - dense_18_acc: 0.1167 - dense_19_acc: 0.1167 - dense_20_acc: 0.1500 - dense_21_acc: 0.1000 - dense_22_acc: 0.0667 - dense_23_acc: 0.1167 - dense_24_acc: 0.1667 - dense_25_acc: 0.1333 - dense_26_acc: 0.0833 - dense_27_acc: 0.1500 - dense_28_acc: 0.1333 - dense_29_acc: 0.0500 - dense_30_acc: 0.1167 - dense_31_acc: 0.0000e+00\n",
      "Epoch 14/100\n",
      "60/60 [==============================] - 0s 5ms/step - loss: 93.5472 - dense_2_loss: 3.7548 - dense_3_loss: 3.2613 - dense_4_loss: 3.1240 - dense_5_loss: 3.2233 - dense_6_loss: 3.1404 - dense_7_loss: 3.3602 - dense_8_loss: 3.2963 - dense_9_loss: 3.0751 - dense_10_loss: 3.1882 - dense_11_loss: 3.0464 - dense_12_loss: 3.1465 - dense_13_loss: 3.3548 - dense_14_loss: 3.2475 - dense_15_loss: 3.0864 - dense_16_loss: 3.2901 - dense_17_loss: 3.2213 - dense_18_loss: 3.2743 - dense_19_loss: 3.3172 - dense_20_loss: 3.1112 - dense_21_loss: 3.2437 - dense_22_loss: 3.3508 - dense_23_loss: 3.1650 - dense_24_loss: 3.1568 - dense_25_loss: 3.1805 - dense_26_loss: 3.2694 - dense_27_loss: 2.9998 - dense_28_loss: 3.1413 - dense_29_loss: 3.1798 - dense_30_loss: 3.3410 - dense_31_loss: 0.0000e+00 - dense_2_acc: 0.1000 - dense_3_acc: 0.1833 - dense_4_acc: 0.1000 - dense_5_acc: 0.1333 - dense_6_acc: 0.2000 - dense_7_acc: 0.0833 - dense_8_acc: 0.1000 - dense_9_acc: 0.2000 - dense_10_acc: 0.1167 - dense_11_acc: 0.1333 - dense_12_acc: 0.1667 - dense_13_acc: 0.1500 - dense_14_acc: 0.1000 - dense_15_acc: 0.1333 - dense_16_acc: 0.1000 - dense_17_acc: 0.0833 - dense_18_acc: 0.1167 - dense_19_acc: 0.1167 - dense_20_acc: 0.1500 - dense_21_acc: 0.1000 - dense_22_acc: 0.0667 - dense_23_acc: 0.1167 - dense_24_acc: 0.1667 - dense_25_acc: 0.1500 - dense_26_acc: 0.0833 - dense_27_acc: 0.1667 - dense_28_acc: 0.1667 - dense_29_acc: 0.0833 - dense_30_acc: 0.1167 - dense_31_acc: 0.0000e+00\n",
      "Epoch 15/100\n",
      "60/60 [==============================] - 0s 5ms/step - loss: 93.0706 - dense_2_loss: 3.7132 - dense_3_loss: 3.2299 - dense_4_loss: 3.0909 - dense_5_loss: 3.2075 - dense_6_loss: 3.1239 - dense_7_loss: 3.3412 - dense_8_loss: 3.2847 - dense_9_loss: 3.0652 - dense_10_loss: 3.1691 - dense_11_loss: 3.0377 - dense_12_loss: 3.1311 - dense_13_loss: 3.3483 - dense_14_loss: 3.2317 - dense_15_loss: 3.0809 - dense_16_loss: 3.2790 - dense_17_loss: 3.2117 - dense_18_loss: 3.2577 - dense_19_loss: 3.3013 - dense_20_loss: 3.0952 - dense_21_loss: 3.2240 - dense_22_loss: 3.3441 - dense_23_loss: 3.1480 - dense_24_loss: 3.1342 - dense_25_loss: 3.1637 - dense_26_loss: 3.2518 - dense_27_loss: 2.9838 - dense_28_loss: 3.1177 - dense_29_loss: 3.1693 - dense_30_loss: 3.3337 - dense_31_loss: 0.0000e+00 - dense_2_acc: 0.1000 - dense_3_acc: 0.1500 - dense_4_acc: 0.1000 - dense_5_acc: 0.1167 - dense_6_acc: 0.2000 - dense_7_acc: 0.0833 - dense_8_acc: 0.1000 - dense_9_acc: 0.1833 - dense_10_acc: 0.1167 - dense_11_acc: 0.1167 - dense_12_acc: 0.1500 - dense_13_acc: 0.1000 - dense_14_acc: 0.1000 - dense_15_acc: 0.1833 - dense_16_acc: 0.1000 - dense_17_acc: 0.0833 - dense_18_acc: 0.1167 - dense_19_acc: 0.1167 - dense_20_acc: 0.1500 - dense_21_acc: 0.1500 - dense_22_acc: 0.1167 - dense_23_acc: 0.1167 - dense_24_acc: 0.1667 - dense_25_acc: 0.1667 - dense_26_acc: 0.0833 - dense_27_acc: 0.1667 - dense_28_acc: 0.1500 - dense_29_acc: 0.1000 - dense_30_acc: 0.1167 - dense_31_acc: 0.0000e+00\n",
      "Epoch 16/100\n"
     ]
    },
    {
     "name": "stdout",
     "output_type": "stream",
     "text": [
      "60/60 [==============================] - 0s 5ms/step - loss: 92.5063 - dense_2_loss: 3.6708 - dense_3_loss: 3.1978 - dense_4_loss: 3.0616 - dense_5_loss: 3.1848 - dense_6_loss: 3.1001 - dense_7_loss: 3.3094 - dense_8_loss: 3.2594 - dense_9_loss: 3.0385 - dense_10_loss: 3.1471 - dense_11_loss: 3.0178 - dense_12_loss: 3.1059 - dense_13_loss: 3.3197 - dense_14_loss: 3.2049 - dense_15_loss: 3.0750 - dense_16_loss: 3.2568 - dense_17_loss: 3.1909 - dense_18_loss: 3.2398 - dense_19_loss: 3.2843 - dense_20_loss: 3.0946 - dense_21_loss: 3.2116 - dense_22_loss: 3.3205 - dense_23_loss: 3.1336 - dense_24_loss: 3.1324 - dense_25_loss: 3.1424 - dense_26_loss: 3.2375 - dense_27_loss: 2.9743 - dense_28_loss: 3.1121 - dense_29_loss: 3.1664 - dense_30_loss: 3.3163 - dense_31_loss: 0.0000e+00 - dense_2_acc: 0.1000 - dense_3_acc: 0.1500 - dense_4_acc: 0.1000 - dense_5_acc: 0.1333 - dense_6_acc: 0.1667 - dense_7_acc: 0.0833 - dense_8_acc: 0.1000 - dense_9_acc: 0.1833 - dense_10_acc: 0.1667 - dense_11_acc: 0.1500 - dense_12_acc: 0.1500 - dense_13_acc: 0.1167 - dense_14_acc: 0.1000 - dense_15_acc: 0.1833 - dense_16_acc: 0.1167 - dense_17_acc: 0.1333 - dense_18_acc: 0.1167 - dense_19_acc: 0.1167 - dense_20_acc: 0.1500 - dense_21_acc: 0.1500 - dense_22_acc: 0.1333 - dense_23_acc: 0.1833 - dense_24_acc: 0.1667 - dense_25_acc: 0.1333 - dense_26_acc: 0.0833 - dense_27_acc: 0.1500 - dense_28_acc: 0.1667 - dense_29_acc: 0.1667 - dense_30_acc: 0.1167 - dense_31_acc: 0.0000e+00\n",
      "Epoch 17/100\n",
      "60/60 [==============================] - 0s 5ms/step - loss: 91.8537 - dense_2_loss: 3.6334 - dense_3_loss: 3.1734 - dense_4_loss: 3.0297 - dense_5_loss: 3.1653 - dense_6_loss: 3.0805 - dense_7_loss: 3.2896 - dense_8_loss: 3.2473 - dense_9_loss: 3.0195 - dense_10_loss: 3.1297 - dense_11_loss: 2.9994 - dense_12_loss: 3.0963 - dense_13_loss: 3.2948 - dense_14_loss: 3.1847 - dense_15_loss: 3.0467 - dense_16_loss: 3.2377 - dense_17_loss: 3.1699 - dense_18_loss: 3.2171 - dense_19_loss: 3.2630 - dense_20_loss: 3.0677 - dense_21_loss: 3.1812 - dense_22_loss: 3.3021 - dense_23_loss: 3.1002 - dense_24_loss: 3.1013 - dense_25_loss: 3.1305 - dense_26_loss: 3.2296 - dense_27_loss: 2.9396 - dense_28_loss: 3.0894 - dense_29_loss: 3.1380 - dense_30_loss: 3.2961 - dense_31_loss: 0.0000e+00 - dense_2_acc: 0.1000 - dense_3_acc: 0.1500 - dense_4_acc: 0.1333 - dense_5_acc: 0.1500 - dense_6_acc: 0.1500 - dense_7_acc: 0.0833 - dense_8_acc: 0.1167 - dense_9_acc: 0.1833 - dense_10_acc: 0.2000 - dense_11_acc: 0.1333 - dense_12_acc: 0.1500 - dense_13_acc: 0.1667 - dense_14_acc: 0.1333 - dense_15_acc: 0.2167 - dense_16_acc: 0.2167 - dense_17_acc: 0.1500 - dense_18_acc: 0.1333 - dense_19_acc: 0.1167 - dense_20_acc: 0.1667 - dense_21_acc: 0.1500 - dense_22_acc: 0.2000 - dense_23_acc: 0.2167 - dense_24_acc: 0.1667 - dense_25_acc: 0.1833 - dense_26_acc: 0.1000 - dense_27_acc: 0.1500 - dense_28_acc: 0.1667 - dense_29_acc: 0.1667 - dense_30_acc: 0.1167 - dense_31_acc: 0.0000e+00\n",
      "Epoch 18/100\n",
      "60/60 [==============================] - 0s 5ms/step - loss: 91.2774 - dense_2_loss: 3.6003 - dense_3_loss: 3.1452 - dense_4_loss: 3.0041 - dense_5_loss: 3.1471 - dense_6_loss: 3.0647 - dense_7_loss: 3.2682 - dense_8_loss: 3.2213 - dense_9_loss: 3.0009 - dense_10_loss: 3.0968 - dense_11_loss: 2.9658 - dense_12_loss: 3.0675 - dense_13_loss: 3.2671 - dense_14_loss: 3.1557 - dense_15_loss: 3.0310 - dense_16_loss: 3.2004 - dense_17_loss: 3.1435 - dense_18_loss: 3.1884 - dense_19_loss: 3.2320 - dense_20_loss: 3.0574 - dense_21_loss: 3.1562 - dense_22_loss: 3.2955 - dense_23_loss: 3.1079 - dense_24_loss: 3.0912 - dense_25_loss: 3.1130 - dense_26_loss: 3.2151 - dense_27_loss: 2.9329 - dense_28_loss: 3.0800 - dense_29_loss: 3.1354 - dense_30_loss: 3.2926 - dense_31_loss: 0.0000e+00 - dense_2_acc: 0.1000 - dense_3_acc: 0.1500 - dense_4_acc: 0.1500 - dense_5_acc: 0.1667 - dense_6_acc: 0.1500 - dense_7_acc: 0.1333 - dense_8_acc: 0.1833 - dense_9_acc: 0.1833 - dense_10_acc: 0.1167 - dense_11_acc: 0.1167 - dense_12_acc: 0.1833 - dense_13_acc: 0.1667 - dense_14_acc: 0.1667 - dense_15_acc: 0.1500 - dense_16_acc: 0.2167 - dense_17_acc: 0.1500 - dense_18_acc: 0.1333 - dense_19_acc: 0.1167 - dense_20_acc: 0.1833 - dense_21_acc: 0.1167 - dense_22_acc: 0.1667 - dense_23_acc: 0.2167 - dense_24_acc: 0.1500 - dense_25_acc: 0.1500 - dense_26_acc: 0.1000 - dense_27_acc: 0.1833 - dense_28_acc: 0.1667 - dense_29_acc: 0.1167 - dense_30_acc: 0.1667 - dense_31_acc: 0.0000e+00\n",
      "Epoch 19/100\n",
      "60/60 [==============================] - 0s 5ms/step - loss: 90.6409 - dense_2_loss: 3.5677 - dense_3_loss: 3.1169 - dense_4_loss: 2.9858 - dense_5_loss: 3.1253 - dense_6_loss: 3.0379 - dense_7_loss: 3.2510 - dense_8_loss: 3.2098 - dense_9_loss: 2.9888 - dense_10_loss: 3.0808 - dense_11_loss: 2.9501 - dense_12_loss: 3.0530 - dense_13_loss: 3.2494 - dense_14_loss: 3.1490 - dense_15_loss: 3.0059 - dense_16_loss: 3.1880 - dense_17_loss: 3.1293 - dense_18_loss: 3.1723 - dense_19_loss: 3.2075 - dense_20_loss: 3.0302 - dense_21_loss: 3.1329 - dense_22_loss: 3.2522 - dense_23_loss: 3.0578 - dense_24_loss: 3.0682 - dense_25_loss: 3.0867 - dense_26_loss: 3.2075 - dense_27_loss: 2.9027 - dense_28_loss: 3.0536 - dense_29_loss: 3.1085 - dense_30_loss: 3.2719 - dense_31_loss: 0.0000e+00 - dense_2_acc: 0.1000 - dense_3_acc: 0.1500 - dense_4_acc: 0.1500 - dense_5_acc: 0.1667 - dense_6_acc: 0.1833 - dense_7_acc: 0.1333 - dense_8_acc: 0.1833 - dense_9_acc: 0.2167 - dense_10_acc: 0.1667 - dense_11_acc: 0.1500 - dense_12_acc: 0.1833 - dense_13_acc: 0.1500 - dense_14_acc: 0.2000 - dense_15_acc: 0.1833 - dense_16_acc: 0.2333 - dense_17_acc: 0.2500 - dense_18_acc: 0.1667 - dense_19_acc: 0.1167 - dense_20_acc: 0.1833 - dense_21_acc: 0.1500 - dense_22_acc: 0.2333 - dense_23_acc: 0.2167 - dense_24_acc: 0.1667 - dense_25_acc: 0.1333 - dense_26_acc: 0.1167 - dense_27_acc: 0.1833 - dense_28_acc: 0.2333 - dense_29_acc: 0.1000 - dense_30_acc: 0.1667 - dense_31_acc: 0.0000e+00\n",
      "Epoch 20/100\n",
      "60/60 [==============================] - 0s 6ms/step - loss: 89.8285 - dense_2_loss: 3.5402 - dense_3_loss: 3.0888 - dense_4_loss: 2.9614 - dense_5_loss: 3.1041 - dense_6_loss: 3.0205 - dense_7_loss: 3.2330 - dense_8_loss: 3.1984 - dense_9_loss: 2.9687 - dense_10_loss: 3.0542 - dense_11_loss: 2.9173 - dense_12_loss: 3.0271 - dense_13_loss: 3.2159 - dense_14_loss: 3.1056 - dense_15_loss: 2.9807 - dense_16_loss: 3.1500 - dense_17_loss: 3.0921 - dense_18_loss: 3.1365 - dense_19_loss: 3.1775 - dense_20_loss: 2.9975 - dense_21_loss: 3.0988 - dense_22_loss: 3.2315 - dense_23_loss: 3.0460 - dense_24_loss: 3.0522 - dense_25_loss: 3.0578 - dense_26_loss: 3.1714 - dense_27_loss: 2.8660 - dense_28_loss: 3.0233 - dense_29_loss: 3.0742 - dense_30_loss: 3.2379 - dense_31_loss: 0.0000e+00 - dense_2_acc: 0.1000 - dense_3_acc: 0.1500 - dense_4_acc: 0.1667 - dense_5_acc: 0.1667 - dense_6_acc: 0.2000 - dense_7_acc: 0.1000 - dense_8_acc: 0.1667 - dense_9_acc: 0.2167 - dense_10_acc: 0.2000 - dense_11_acc: 0.1500 - dense_12_acc: 0.1667 - dense_13_acc: 0.1667 - dense_14_acc: 0.1667 - dense_15_acc: 0.2000 - dense_16_acc: 0.2333 - dense_17_acc: 0.2167 - dense_18_acc: 0.1500 - dense_19_acc: 0.1167 - dense_20_acc: 0.1500 - dense_21_acc: 0.1500 - dense_22_acc: 0.2333 - dense_23_acc: 0.2000 - dense_24_acc: 0.1667 - dense_25_acc: 0.1333 - dense_26_acc: 0.0833 - dense_27_acc: 0.2000 - dense_28_acc: 0.2333 - dense_29_acc: 0.2000 - dense_30_acc: 0.1667 - dense_31_acc: 0.0000e+00\n",
      "Epoch 21/100\n"
     ]
    },
    {
     "name": "stdout",
     "output_type": "stream",
     "text": [
      "60/60 [==============================] - 0s 5ms/step - loss: 89.3829 - dense_2_loss: 3.5149 - dense_3_loss: 3.0576 - dense_4_loss: 2.9366 - dense_5_loss: 3.0846 - dense_6_loss: 3.0041 - dense_7_loss: 3.2125 - dense_8_loss: 3.1669 - dense_9_loss: 2.9413 - dense_10_loss: 3.0357 - dense_11_loss: 2.8973 - dense_12_loss: 3.0188 - dense_13_loss: 3.1976 - dense_14_loss: 3.0819 - dense_15_loss: 2.9647 - dense_16_loss: 3.1238 - dense_17_loss: 3.0752 - dense_18_loss: 3.1112 - dense_19_loss: 3.1629 - dense_20_loss: 2.9966 - dense_21_loss: 3.0905 - dense_22_loss: 3.2283 - dense_23_loss: 3.0432 - dense_24_loss: 3.0420 - dense_25_loss: 3.0616 - dense_26_loss: 3.1658 - dense_27_loss: 2.8711 - dense_28_loss: 3.0143 - dense_29_loss: 3.0590 - dense_30_loss: 3.2231 - dense_31_loss: 0.0000e+00 - dense_2_acc: 0.1000 - dense_3_acc: 0.2000 - dense_4_acc: 0.1667 - dense_5_acc: 0.1333 - dense_6_acc: 0.1667 - dense_7_acc: 0.1333 - dense_8_acc: 0.2333 - dense_9_acc: 0.2333 - dense_10_acc: 0.1833 - dense_11_acc: 0.1500 - dense_12_acc: 0.1667 - dense_13_acc: 0.2333 - dense_14_acc: 0.1500 - dense_15_acc: 0.2667 - dense_16_acc: 0.2333 - dense_17_acc: 0.1667 - dense_18_acc: 0.1333 - dense_19_acc: 0.1167 - dense_20_acc: 0.1667 - dense_21_acc: 0.1500 - dense_22_acc: 0.1167 - dense_23_acc: 0.1667 - dense_24_acc: 0.2167 - dense_25_acc: 0.1333 - dense_26_acc: 0.0833 - dense_27_acc: 0.1833 - dense_28_acc: 0.2167 - dense_29_acc: 0.1833 - dense_30_acc: 0.1667 - dense_31_acc: 0.0000e+00\n",
      "Epoch 22/100\n",
      "60/60 [==============================] - 0s 5ms/step - loss: 88.6108 - dense_2_loss: 3.4898 - dense_3_loss: 3.0285 - dense_4_loss: 2.9074 - dense_5_loss: 3.0563 - dense_6_loss: 2.9749 - dense_7_loss: 3.1865 - dense_8_loss: 3.1502 - dense_9_loss: 2.9263 - dense_10_loss: 3.0139 - dense_11_loss: 2.8738 - dense_12_loss: 2.9902 - dense_13_loss: 3.1657 - dense_14_loss: 3.0759 - dense_15_loss: 2.9442 - dense_16_loss: 3.1185 - dense_17_loss: 3.0622 - dense_18_loss: 3.1062 - dense_19_loss: 3.1356 - dense_20_loss: 2.9629 - dense_21_loss: 3.0576 - dense_22_loss: 3.1762 - dense_23_loss: 2.9884 - dense_24_loss: 3.0035 - dense_25_loss: 3.0301 - dense_26_loss: 3.1534 - dense_27_loss: 2.8261 - dense_28_loss: 2.9793 - dense_29_loss: 3.0247 - dense_30_loss: 3.2025 - dense_31_loss: 0.0000e+00 - dense_2_acc: 0.1000 - dense_3_acc: 0.2000 - dense_4_acc: 0.1667 - dense_5_acc: 0.1333 - dense_6_acc: 0.2167 - dense_7_acc: 0.1500 - dense_8_acc: 0.1667 - dense_9_acc: 0.2500 - dense_10_acc: 0.1333 - dense_11_acc: 0.1333 - dense_12_acc: 0.1667 - dense_13_acc: 0.1667 - dense_14_acc: 0.1667 - dense_15_acc: 0.1833 - dense_16_acc: 0.2333 - dense_17_acc: 0.2000 - dense_18_acc: 0.1833 - dense_19_acc: 0.1500 - dense_20_acc: 0.1833 - dense_21_acc: 0.1500 - dense_22_acc: 0.2667 - dense_23_acc: 0.2167 - dense_24_acc: 0.1667 - dense_25_acc: 0.1833 - dense_26_acc: 0.0833 - dense_27_acc: 0.1500 - dense_28_acc: 0.2333 - dense_29_acc: 0.1500 - dense_30_acc: 0.1667 - dense_31_acc: 0.0000e+00\n",
      "Epoch 23/100\n",
      "60/60 [==============================] - 0s 4ms/step - loss: 87.7253 - dense_2_loss: 3.4683 - dense_3_loss: 2.9970 - dense_4_loss: 2.8742 - dense_5_loss: 3.0301 - dense_6_loss: 2.9477 - dense_7_loss: 3.1506 - dense_8_loss: 3.1147 - dense_9_loss: 2.8922 - dense_10_loss: 2.9773 - dense_11_loss: 2.8354 - dense_12_loss: 2.9705 - dense_13_loss: 3.1265 - dense_14_loss: 3.0203 - dense_15_loss: 2.9247 - dense_16_loss: 3.0698 - dense_17_loss: 3.0110 - dense_18_loss: 3.0523 - dense_19_loss: 3.1066 - dense_20_loss: 2.9475 - dense_21_loss: 3.0258 - dense_22_loss: 3.1584 - dense_23_loss: 2.9898 - dense_24_loss: 2.9652 - dense_25_loss: 3.0065 - dense_26_loss: 3.1124 - dense_27_loss: 2.8241 - dense_28_loss: 2.9464 - dense_29_loss: 3.0108 - dense_30_loss: 3.1691 - dense_31_loss: 0.0000e+00 - dense_2_acc: 0.1000 - dense_3_acc: 0.2000 - dense_4_acc: 0.1667 - dense_5_acc: 0.1500 - dense_6_acc: 0.2167 - dense_7_acc: 0.1667 - dense_8_acc: 0.1667 - dense_9_acc: 0.2167 - dense_10_acc: 0.1333 - dense_11_acc: 0.1500 - dense_12_acc: 0.1667 - dense_13_acc: 0.1500 - dense_14_acc: 0.1667 - dense_15_acc: 0.2333 - dense_16_acc: 0.2333 - dense_17_acc: 0.2167 - dense_18_acc: 0.1333 - dense_19_acc: 0.1167 - dense_20_acc: 0.2000 - dense_21_acc: 0.1500 - dense_22_acc: 0.1667 - dense_23_acc: 0.2000 - dense_24_acc: 0.1667 - dense_25_acc: 0.1833 - dense_26_acc: 0.1000 - dense_27_acc: 0.2333 - dense_28_acc: 0.1667 - dense_29_acc: 0.1833 - dense_30_acc: 0.1667 - dense_31_acc: 0.0000e+00\n",
      "Epoch 24/100\n",
      "60/60 [==============================] - 0s 5ms/step - loss: 86.7067 - dense_2_loss: 3.4496 - dense_3_loss: 2.9639 - dense_4_loss: 2.8412 - dense_5_loss: 3.0006 - dense_6_loss: 2.9125 - dense_7_loss: 3.1190 - dense_8_loss: 3.0904 - dense_9_loss: 2.8663 - dense_10_loss: 2.9503 - dense_11_loss: 2.8034 - dense_12_loss: 2.9348 - dense_13_loss: 3.0871 - dense_14_loss: 2.9802 - dense_15_loss: 2.8808 - dense_16_loss: 3.0314 - dense_17_loss: 2.9812 - dense_18_loss: 3.0151 - dense_19_loss: 3.0610 - dense_20_loss: 2.9054 - dense_21_loss: 2.9735 - dense_22_loss: 3.1276 - dense_23_loss: 2.9503 - dense_24_loss: 2.9507 - dense_25_loss: 2.9734 - dense_26_loss: 3.0804 - dense_27_loss: 2.7726 - dense_28_loss: 2.8981 - dense_29_loss: 2.9652 - dense_30_loss: 3.1405 - dense_31_loss: 0.0000e+00 - dense_2_acc: 0.1000 - dense_3_acc: 0.2167 - dense_4_acc: 0.1667 - dense_5_acc: 0.1333 - dense_6_acc: 0.2167 - dense_7_acc: 0.1833 - dense_8_acc: 0.1667 - dense_9_acc: 0.2333 - dense_10_acc: 0.1667 - dense_11_acc: 0.1500 - dense_12_acc: 0.2000 - dense_13_acc: 0.1833 - dense_14_acc: 0.2000 - dense_15_acc: 0.2167 - dense_16_acc: 0.2167 - dense_17_acc: 0.2000 - dense_18_acc: 0.1667 - dense_19_acc: 0.1167 - dense_20_acc: 0.2000 - dense_21_acc: 0.1500 - dense_22_acc: 0.2167 - dense_23_acc: 0.2000 - dense_24_acc: 0.1667 - dense_25_acc: 0.1833 - dense_26_acc: 0.0833 - dense_27_acc: 0.2333 - dense_28_acc: 0.1833 - dense_29_acc: 0.1833 - dense_30_acc: 0.1667 - dense_31_acc: 0.0000e+00\n",
      "Epoch 25/100\n",
      "60/60 [==============================] - 0s 4ms/step - loss: 85.9444 - dense_2_loss: 3.4329 - dense_3_loss: 2.9301 - dense_4_loss: 2.8085 - dense_5_loss: 2.9710 - dense_6_loss: 2.8876 - dense_7_loss: 3.0907 - dense_8_loss: 3.0703 - dense_9_loss: 2.8496 - dense_10_loss: 2.9132 - dense_11_loss: 2.7776 - dense_12_loss: 2.9084 - dense_13_loss: 3.0586 - dense_14_loss: 2.9673 - dense_15_loss: 2.8492 - dense_16_loss: 3.0044 - dense_17_loss: 2.9585 - dense_18_loss: 2.9898 - dense_19_loss: 3.0434 - dense_20_loss: 2.8771 - dense_21_loss: 2.9499 - dense_22_loss: 3.0879 - dense_23_loss: 2.9074 - dense_24_loss: 2.9337 - dense_25_loss: 2.9505 - dense_26_loss: 3.0723 - dense_27_loss: 2.7294 - dense_28_loss: 2.8775 - dense_29_loss: 2.9309 - dense_30_loss: 3.1170 - dense_31_loss: 0.0000e+00 - dense_2_acc: 0.1000 - dense_3_acc: 0.2333 - dense_4_acc: 0.1667 - dense_5_acc: 0.1333 - dense_6_acc: 0.2167 - dense_7_acc: 0.1500 - dense_8_acc: 0.1667 - dense_9_acc: 0.2333 - dense_10_acc: 0.2000 - dense_11_acc: 0.1333 - dense_12_acc: 0.2000 - dense_13_acc: 0.2000 - dense_14_acc: 0.1833 - dense_15_acc: 0.2167 - dense_16_acc: 0.1833 - dense_17_acc: 0.2000 - dense_18_acc: 0.1833 - dense_19_acc: 0.1500 - dense_20_acc: 0.2333 - dense_21_acc: 0.1500 - dense_22_acc: 0.2667 - dense_23_acc: 0.2000 - dense_24_acc: 0.1667 - dense_25_acc: 0.1833 - dense_26_acc: 0.0833 - dense_27_acc: 0.1833 - dense_28_acc: 0.2000 - dense_29_acc: 0.2667 - dense_30_acc: 0.1667 - dense_31_acc: 0.0000e+00\n",
      "Epoch 26/100\n"
     ]
    },
    {
     "name": "stdout",
     "output_type": "stream",
     "text": [
      "60/60 [==============================] - 0s 5ms/step - loss: 84.8867 - dense_2_loss: 3.4155 - dense_3_loss: 2.8967 - dense_4_loss: 2.7750 - dense_5_loss: 2.9393 - dense_6_loss: 2.8540 - dense_7_loss: 3.0517 - dense_8_loss: 3.0333 - dense_9_loss: 2.8117 - dense_10_loss: 2.8726 - dense_11_loss: 2.7253 - dense_12_loss: 2.8707 - dense_13_loss: 3.0142 - dense_14_loss: 2.9201 - dense_15_loss: 2.8179 - dense_16_loss: 2.9678 - dense_17_loss: 2.9047 - dense_18_loss: 2.9422 - dense_19_loss: 2.9945 - dense_20_loss: 2.8507 - dense_21_loss: 2.9229 - dense_22_loss: 3.0459 - dense_23_loss: 2.8809 - dense_24_loss: 2.8865 - dense_25_loss: 2.9276 - dense_26_loss: 3.0299 - dense_27_loss: 2.7109 - dense_28_loss: 2.8369 - dense_29_loss: 2.9025 - dense_30_loss: 3.0845 - dense_31_loss: 0.0000e+00 - dense_2_acc: 0.1000 - dense_3_acc: 0.2500 - dense_4_acc: 0.1667 - dense_5_acc: 0.1667 - dense_6_acc: 0.2167 - dense_7_acc: 0.1500 - dense_8_acc: 0.1667 - dense_9_acc: 0.2500 - dense_10_acc: 0.2167 - dense_11_acc: 0.1833 - dense_12_acc: 0.1667 - dense_13_acc: 0.1833 - dense_14_acc: 0.2167 - dense_15_acc: 0.2500 - dense_16_acc: 0.1833 - dense_17_acc: 0.3000 - dense_18_acc: 0.1333 - dense_19_acc: 0.1833 - dense_20_acc: 0.2667 - dense_21_acc: 0.1667 - dense_22_acc: 0.2167 - dense_23_acc: 0.2167 - dense_24_acc: 0.1667 - dense_25_acc: 0.2000 - dense_26_acc: 0.1000 - dense_27_acc: 0.2667 - dense_28_acc: 0.2500 - dense_29_acc: 0.2167 - dense_30_acc: 0.1667 - dense_31_acc: 0.0000e+00\n",
      "Epoch 27/100\n",
      "60/60 [==============================] - 0s 4ms/step - loss: 83.9866 - dense_2_loss: 3.4011 - dense_3_loss: 2.8630 - dense_4_loss: 2.7409 - dense_5_loss: 2.9001 - dense_6_loss: 2.8248 - dense_7_loss: 3.0203 - dense_8_loss: 3.0003 - dense_9_loss: 2.7847 - dense_10_loss: 2.8423 - dense_11_loss: 2.6889 - dense_12_loss: 2.8389 - dense_13_loss: 2.9718 - dense_14_loss: 2.8846 - dense_15_loss: 2.7868 - dense_16_loss: 2.9425 - dense_17_loss: 2.8765 - dense_18_loss: 2.9001 - dense_19_loss: 2.9620 - dense_20_loss: 2.8269 - dense_21_loss: 2.8974 - dense_22_loss: 3.0144 - dense_23_loss: 2.8475 - dense_24_loss: 2.8600 - dense_25_loss: 2.9047 - dense_26_loss: 3.0003 - dense_27_loss: 2.6839 - dense_28_loss: 2.8041 - dense_29_loss: 2.8701 - dense_30_loss: 3.0475 - dense_31_loss: 0.0000e+00 - dense_2_acc: 0.1000 - dense_3_acc: 0.2500 - dense_4_acc: 0.1667 - dense_5_acc: 0.2167 - dense_6_acc: 0.2167 - dense_7_acc: 0.1500 - dense_8_acc: 0.1667 - dense_9_acc: 0.2500 - dense_10_acc: 0.2000 - dense_11_acc: 0.2500 - dense_12_acc: 0.2000 - dense_13_acc: 0.2000 - dense_14_acc: 0.2333 - dense_15_acc: 0.2833 - dense_16_acc: 0.1833 - dense_17_acc: 0.3000 - dense_18_acc: 0.1667 - dense_19_acc: 0.2167 - dense_20_acc: 0.2500 - dense_21_acc: 0.1667 - dense_22_acc: 0.2167 - dense_23_acc: 0.1833 - dense_24_acc: 0.1667 - dense_25_acc: 0.1667 - dense_26_acc: 0.1333 - dense_27_acc: 0.2667 - dense_28_acc: 0.2500 - dense_29_acc: 0.2167 - dense_30_acc: 0.1667 - dense_31_acc: 0.0000e+00\n",
      "Epoch 28/100\n",
      "60/60 [==============================] - 0s 4ms/step - loss: 83.0268 - dense_2_loss: 3.3882 - dense_3_loss: 2.8275 - dense_4_loss: 2.7048 - dense_5_loss: 2.8683 - dense_6_loss: 2.7916 - dense_7_loss: 2.9867 - dense_8_loss: 2.9641 - dense_9_loss: 2.7592 - dense_10_loss: 2.8025 - dense_11_loss: 2.6645 - dense_12_loss: 2.8046 - dense_13_loss: 2.9307 - dense_14_loss: 2.8586 - dense_15_loss: 2.7511 - dense_16_loss: 2.8990 - dense_17_loss: 2.8505 - dense_18_loss: 2.8669 - dense_19_loss: 2.9452 - dense_20_loss: 2.7760 - dense_21_loss: 2.8579 - dense_22_loss: 2.9810 - dense_23_loss: 2.8076 - dense_24_loss: 2.8383 - dense_25_loss: 2.8648 - dense_26_loss: 2.9947 - dense_27_loss: 2.6326 - dense_28_loss: 2.7652 - dense_29_loss: 2.8159 - dense_30_loss: 3.0289 - dense_31_loss: 0.0000e+00 - dense_2_acc: 0.1000 - dense_3_acc: 0.3167 - dense_4_acc: 0.1667 - dense_5_acc: 0.2500 - dense_6_acc: 0.2167 - dense_7_acc: 0.1500 - dense_8_acc: 0.1333 - dense_9_acc: 0.2500 - dense_10_acc: 0.2167 - dense_11_acc: 0.2167 - dense_12_acc: 0.2500 - dense_13_acc: 0.2167 - dense_14_acc: 0.2167 - dense_15_acc: 0.2333 - dense_16_acc: 0.1833 - dense_17_acc: 0.3000 - dense_18_acc: 0.2167 - dense_19_acc: 0.2667 - dense_20_acc: 0.2500 - dense_21_acc: 0.1667 - dense_22_acc: 0.2833 - dense_23_acc: 0.1667 - dense_24_acc: 0.1667 - dense_25_acc: 0.1333 - dense_26_acc: 0.0833 - dense_27_acc: 0.2833 - dense_28_acc: 0.3000 - dense_29_acc: 0.2500 - dense_30_acc: 0.1500 - dense_31_acc: 0.0000e+00\n",
      "Epoch 29/100\n",
      "60/60 [==============================] - 0s 4ms/step - loss: 81.8926 - dense_2_loss: 3.3762 - dense_3_loss: 2.7915 - dense_4_loss: 2.6667 - dense_5_loss: 2.8333 - dense_6_loss: 2.7545 - dense_7_loss: 2.9435 - dense_8_loss: 2.9193 - dense_9_loss: 2.7201 - dense_10_loss: 2.7635 - dense_11_loss: 2.6198 - dense_12_loss: 2.7717 - dense_13_loss: 2.8871 - dense_14_loss: 2.8058 - dense_15_loss: 2.7117 - dense_16_loss: 2.8484 - dense_17_loss: 2.7886 - dense_18_loss: 2.8183 - dense_19_loss: 2.8950 - dense_20_loss: 2.7534 - dense_21_loss: 2.8230 - dense_22_loss: 2.9411 - dense_23_loss: 2.7765 - dense_24_loss: 2.7845 - dense_25_loss: 2.8355 - dense_26_loss: 2.9551 - dense_27_loss: 2.6077 - dense_28_loss: 2.7224 - dense_29_loss: 2.7900 - dense_30_loss: 2.9882 - dense_31_loss: 0.0000e+00 - dense_2_acc: 0.1000 - dense_3_acc: 0.3333 - dense_4_acc: 0.2167 - dense_5_acc: 0.2500 - dense_6_acc: 0.2500 - dense_7_acc: 0.1500 - dense_8_acc: 0.1333 - dense_9_acc: 0.2667 - dense_10_acc: 0.2500 - dense_11_acc: 0.3500 - dense_12_acc: 0.2500 - dense_13_acc: 0.2333 - dense_14_acc: 0.3500 - dense_15_acc: 0.2833 - dense_16_acc: 0.1833 - dense_17_acc: 0.3500 - dense_18_acc: 0.2833 - dense_19_acc: 0.2667 - dense_20_acc: 0.2167 - dense_21_acc: 0.1667 - dense_22_acc: 0.2167 - dense_23_acc: 0.2000 - dense_24_acc: 0.1667 - dense_25_acc: 0.1333 - dense_26_acc: 0.1000 - dense_27_acc: 0.2500 - dense_28_acc: 0.3000 - dense_29_acc: 0.2333 - dense_30_acc: 0.1333 - dense_31_acc: 0.0000e+00\n",
      "Epoch 30/100\n",
      "60/60 [==============================] - 0s 4ms/step - loss: 80.9117 - dense_2_loss: 3.3649 - dense_3_loss: 2.7539 - dense_4_loss: 2.6271 - dense_5_loss: 2.7925 - dense_6_loss: 2.7204 - dense_7_loss: 2.9052 - dense_8_loss: 2.8852 - dense_9_loss: 2.6851 - dense_10_loss: 2.7353 - dense_11_loss: 2.5846 - dense_12_loss: 2.7394 - dense_13_loss: 2.8499 - dense_14_loss: 2.7671 - dense_15_loss: 2.6738 - dense_16_loss: 2.8121 - dense_17_loss: 2.7474 - dense_18_loss: 2.7810 - dense_19_loss: 2.8628 - dense_20_loss: 2.7195 - dense_21_loss: 2.8078 - dense_22_loss: 2.9109 - dense_23_loss: 2.7403 - dense_24_loss: 2.7467 - dense_25_loss: 2.8134 - dense_26_loss: 2.9229 - dense_27_loss: 2.5755 - dense_28_loss: 2.6855 - dense_29_loss: 2.7468 - dense_30_loss: 2.9547 - dense_31_loss: 0.0000e+00 - dense_2_acc: 0.1000 - dense_3_acc: 0.3667 - dense_4_acc: 0.2167 - dense_5_acc: 0.2333 - dense_6_acc: 0.2500 - dense_7_acc: 0.1500 - dense_8_acc: 0.1167 - dense_9_acc: 0.2500 - dense_10_acc: 0.2000 - dense_11_acc: 0.3500 - dense_12_acc: 0.2333 - dense_13_acc: 0.2500 - dense_14_acc: 0.4000 - dense_15_acc: 0.3000 - dense_16_acc: 0.2000 - dense_17_acc: 0.3667 - dense_18_acc: 0.3167 - dense_19_acc: 0.2667 - dense_20_acc: 0.2000 - dense_21_acc: 0.2167 - dense_22_acc: 0.1833 - dense_23_acc: 0.1833 - dense_24_acc: 0.2333 - dense_25_acc: 0.1500 - dense_26_acc: 0.1000 - dense_27_acc: 0.2500 - dense_28_acc: 0.3000 - dense_29_acc: 0.2667 - dense_30_acc: 0.1333 - dense_31_acc: 0.0000e+00\n",
      "Epoch 31/100\n"
     ]
    },
    {
     "name": "stdout",
     "output_type": "stream",
     "text": [
      "60/60 [==============================] - 0s 5ms/step - loss: 79.8452 - dense_2_loss: 3.3556 - dense_3_loss: 2.7157 - dense_4_loss: 2.5879 - dense_5_loss: 2.7553 - dense_6_loss: 2.6811 - dense_7_loss: 2.8660 - dense_8_loss: 2.8437 - dense_9_loss: 2.6585 - dense_10_loss: 2.6905 - dense_11_loss: 2.5405 - dense_12_loss: 2.7000 - dense_13_loss: 2.8067 - dense_14_loss: 2.7378 - dense_15_loss: 2.6374 - dense_16_loss: 2.7785 - dense_17_loss: 2.7158 - dense_18_loss: 2.7396 - dense_19_loss: 2.8270 - dense_20_loss: 2.6732 - dense_21_loss: 2.7641 - dense_22_loss: 2.8614 - dense_23_loss: 2.7035 - dense_24_loss: 2.7361 - dense_25_loss: 2.7734 - dense_26_loss: 2.8951 - dense_27_loss: 2.5381 - dense_28_loss: 2.6448 - dense_29_loss: 2.7021 - dense_30_loss: 2.9158 - dense_31_loss: 0.0000e+00 - dense_2_acc: 0.1000 - dense_3_acc: 0.3500 - dense_4_acc: 0.2833 - dense_5_acc: 0.2500 - dense_6_acc: 0.2500 - dense_7_acc: 0.2000 - dense_8_acc: 0.1833 - dense_9_acc: 0.2667 - dense_10_acc: 0.2000 - dense_11_acc: 0.3333 - dense_12_acc: 0.2667 - dense_13_acc: 0.2333 - dense_14_acc: 0.3000 - dense_15_acc: 0.3000 - dense_16_acc: 0.2333 - dense_17_acc: 0.3167 - dense_18_acc: 0.3500 - dense_19_acc: 0.2667 - dense_20_acc: 0.3000 - dense_21_acc: 0.2500 - dense_22_acc: 0.2333 - dense_23_acc: 0.2333 - dense_24_acc: 0.2500 - dense_25_acc: 0.1833 - dense_26_acc: 0.1333 - dense_27_acc: 0.3000 - dense_28_acc: 0.3000 - dense_29_acc: 0.3000 - dense_30_acc: 0.1333 - dense_31_acc: 0.0000e+00\n",
      "Epoch 32/100\n",
      "60/60 [==============================] - 0s 4ms/step - loss: 78.7195 - dense_2_loss: 3.3466 - dense_3_loss: 2.6788 - dense_4_loss: 2.5478 - dense_5_loss: 2.7162 - dense_6_loss: 2.6397 - dense_7_loss: 2.8228 - dense_8_loss: 2.7999 - dense_9_loss: 2.6316 - dense_10_loss: 2.6484 - dense_11_loss: 2.4932 - dense_12_loss: 2.6581 - dense_13_loss: 2.7598 - dense_14_loss: 2.6890 - dense_15_loss: 2.5955 - dense_16_loss: 2.7428 - dense_17_loss: 2.6675 - dense_18_loss: 2.6885 - dense_19_loss: 2.7877 - dense_20_loss: 2.6498 - dense_21_loss: 2.7291 - dense_22_loss: 2.8187 - dense_23_loss: 2.6613 - dense_24_loss: 2.6908 - dense_25_loss: 2.7439 - dense_26_loss: 2.8601 - dense_27_loss: 2.4906 - dense_28_loss: 2.6143 - dense_29_loss: 2.6650 - dense_30_loss: 2.8819 - dense_31_loss: 0.0000e+00 - dense_2_acc: 0.1000 - dense_3_acc: 0.4000 - dense_4_acc: 0.3500 - dense_5_acc: 0.3000 - dense_6_acc: 0.2500 - dense_7_acc: 0.2500 - dense_8_acc: 0.1833 - dense_9_acc: 0.2667 - dense_10_acc: 0.2167 - dense_11_acc: 0.4000 - dense_12_acc: 0.2667 - dense_13_acc: 0.2833 - dense_14_acc: 0.4167 - dense_15_acc: 0.3333 - dense_16_acc: 0.2167 - dense_17_acc: 0.3333 - dense_18_acc: 0.3667 - dense_19_acc: 0.3000 - dense_20_acc: 0.2500 - dense_21_acc: 0.2667 - dense_22_acc: 0.2333 - dense_23_acc: 0.2333 - dense_24_acc: 0.2667 - dense_25_acc: 0.1833 - dense_26_acc: 0.1667 - dense_27_acc: 0.3167 - dense_28_acc: 0.2833 - dense_29_acc: 0.2667 - dense_30_acc: 0.1333 - dense_31_acc: 0.0000e+00\n",
      "Epoch 33/100\n",
      "60/60 [==============================] - 0s 4ms/step - loss: 77.6182 - dense_2_loss: 3.3401 - dense_3_loss: 2.6368 - dense_4_loss: 2.5032 - dense_5_loss: 2.6681 - dense_6_loss: 2.6004 - dense_7_loss: 2.7774 - dense_8_loss: 2.7541 - dense_9_loss: 2.5917 - dense_10_loss: 2.6056 - dense_11_loss: 2.4631 - dense_12_loss: 2.6201 - dense_13_loss: 2.7094 - dense_14_loss: 2.6481 - dense_15_loss: 2.5674 - dense_16_loss: 2.7014 - dense_17_loss: 2.6218 - dense_18_loss: 2.6403 - dense_19_loss: 2.7495 - dense_20_loss: 2.6158 - dense_21_loss: 2.6916 - dense_22_loss: 2.7789 - dense_23_loss: 2.6269 - dense_24_loss: 2.6484 - dense_25_loss: 2.7179 - dense_26_loss: 2.8210 - dense_27_loss: 2.4651 - dense_28_loss: 2.5835 - dense_29_loss: 2.6206 - dense_30_loss: 2.8500 - dense_31_loss: 0.0000e+00 - dense_2_acc: 0.1000 - dense_3_acc: 0.3833 - dense_4_acc: 0.3833 - dense_5_acc: 0.3167 - dense_6_acc: 0.2500 - dense_7_acc: 0.2833 - dense_8_acc: 0.1833 - dense_9_acc: 0.2500 - dense_10_acc: 0.2333 - dense_11_acc: 0.4167 - dense_12_acc: 0.3167 - dense_13_acc: 0.2833 - dense_14_acc: 0.4333 - dense_15_acc: 0.3167 - dense_16_acc: 0.1833 - dense_17_acc: 0.3333 - dense_18_acc: 0.4000 - dense_19_acc: 0.3500 - dense_20_acc: 0.2500 - dense_21_acc: 0.3667 - dense_22_acc: 0.2500 - dense_23_acc: 0.2333 - dense_24_acc: 0.2667 - dense_25_acc: 0.1500 - dense_26_acc: 0.1667 - dense_27_acc: 0.3500 - dense_28_acc: 0.2667 - dense_29_acc: 0.2833 - dense_30_acc: 0.1333 - dense_31_acc: 0.0000e+00\n",
      "Epoch 34/100\n",
      "60/60 [==============================] - 0s 4ms/step - loss: 76.6839 - dense_2_loss: 3.3318 - dense_3_loss: 2.5963 - dense_4_loss: 2.4621 - dense_5_loss: 2.6268 - dense_6_loss: 2.5621 - dense_7_loss: 2.7367 - dense_8_loss: 2.7104 - dense_9_loss: 2.5646 - dense_10_loss: 2.5639 - dense_11_loss: 2.4264 - dense_12_loss: 2.5868 - dense_13_loss: 2.6771 - dense_14_loss: 2.6194 - dense_15_loss: 2.5311 - dense_16_loss: 2.6826 - dense_17_loss: 2.5986 - dense_18_loss: 2.6157 - dense_19_loss: 2.7261 - dense_20_loss: 2.5747 - dense_21_loss: 2.6452 - dense_22_loss: 2.7429 - dense_23_loss: 2.5943 - dense_24_loss: 2.6503 - dense_25_loss: 2.6785 - dense_26_loss: 2.8101 - dense_27_loss: 2.4312 - dense_28_loss: 2.5423 - dense_29_loss: 2.5773 - dense_30_loss: 2.8185 - dense_31_loss: 0.0000e+00 - dense_2_acc: 0.1000 - dense_3_acc: 0.3833 - dense_4_acc: 0.4000 - dense_5_acc: 0.3167 - dense_6_acc: 0.2500 - dense_7_acc: 0.2833 - dense_8_acc: 0.2000 - dense_9_acc: 0.2667 - dense_10_acc: 0.2333 - dense_11_acc: 0.3833 - dense_12_acc: 0.3333 - dense_13_acc: 0.3333 - dense_14_acc: 0.4167 - dense_15_acc: 0.2667 - dense_16_acc: 0.2500 - dense_17_acc: 0.3167 - dense_18_acc: 0.4167 - dense_19_acc: 0.3333 - dense_20_acc: 0.2833 - dense_21_acc: 0.3500 - dense_22_acc: 0.2500 - dense_23_acc: 0.2333 - dense_24_acc: 0.2667 - dense_25_acc: 0.2333 - dense_26_acc: 0.1667 - dense_27_acc: 0.3667 - dense_28_acc: 0.2833 - dense_29_acc: 0.3167 - dense_30_acc: 0.1333 - dense_31_acc: 0.0000e+00\n",
      "Epoch 35/100\n",
      "60/60 [==============================] - 0s 4ms/step - loss: 75.3921 - dense_2_loss: 3.3261 - dense_3_loss: 2.5541 - dense_4_loss: 2.4201 - dense_5_loss: 2.5843 - dense_6_loss: 2.5188 - dense_7_loss: 2.6933 - dense_8_loss: 2.6703 - dense_9_loss: 2.5181 - dense_10_loss: 2.5261 - dense_11_loss: 2.3709 - dense_12_loss: 2.5483 - dense_13_loss: 2.6240 - dense_14_loss: 2.5673 - dense_15_loss: 2.4806 - dense_16_loss: 2.6218 - dense_17_loss: 2.5319 - dense_18_loss: 2.5575 - dense_19_loss: 2.6783 - dense_20_loss: 2.5464 - dense_21_loss: 2.6134 - dense_22_loss: 2.7003 - dense_23_loss: 2.5584 - dense_24_loss: 2.5820 - dense_25_loss: 2.6338 - dense_26_loss: 2.7655 - dense_27_loss: 2.3783 - dense_28_loss: 2.5048 - dense_29_loss: 2.5414 - dense_30_loss: 2.7761 - dense_31_loss: 0.0000e+00 - dense_2_acc: 0.1000 - dense_3_acc: 0.4167 - dense_4_acc: 0.4333 - dense_5_acc: 0.3167 - dense_6_acc: 0.2500 - dense_7_acc: 0.2833 - dense_8_acc: 0.2333 - dense_9_acc: 0.2667 - dense_10_acc: 0.2333 - dense_11_acc: 0.4500 - dense_12_acc: 0.3167 - dense_13_acc: 0.3333 - dense_14_acc: 0.4000 - dense_15_acc: 0.3500 - dense_16_acc: 0.3000 - dense_17_acc: 0.3333 - dense_18_acc: 0.4000 - dense_19_acc: 0.3500 - dense_20_acc: 0.2500 - dense_21_acc: 0.2833 - dense_22_acc: 0.2500 - dense_23_acc: 0.2500 - dense_24_acc: 0.2833 - dense_25_acc: 0.3000 - dense_26_acc: 0.1833 - dense_27_acc: 0.3500 - dense_28_acc: 0.2833 - dense_29_acc: 0.3167 - dense_30_acc: 0.1333 - dense_31_acc: 0.0000e+00\n",
      "Epoch 36/100\n"
     ]
    },
    {
     "name": "stdout",
     "output_type": "stream",
     "text": [
      "60/60 [==============================] - 0s 5ms/step - loss: 74.3014 - dense_2_loss: 3.3203 - dense_3_loss: 2.5126 - dense_4_loss: 2.3778 - dense_5_loss: 2.5411 - dense_6_loss: 2.4836 - dense_7_loss: 2.6456 - dense_8_loss: 2.6265 - dense_9_loss: 2.4802 - dense_10_loss: 2.4834 - dense_11_loss: 2.3261 - dense_12_loss: 2.5111 - dense_13_loss: 2.5765 - dense_14_loss: 2.5222 - dense_15_loss: 2.4330 - dense_16_loss: 2.5866 - dense_17_loss: 2.4868 - dense_18_loss: 2.5184 - dense_19_loss: 2.6387 - dense_20_loss: 2.5117 - dense_21_loss: 2.5839 - dense_22_loss: 2.6621 - dense_23_loss: 2.5212 - dense_24_loss: 2.5499 - dense_25_loss: 2.5970 - dense_26_loss: 2.7206 - dense_27_loss: 2.3568 - dense_28_loss: 2.4706 - dense_29_loss: 2.5146 - dense_30_loss: 2.7425 - dense_31_loss: 0.0000e+00 - dense_2_acc: 0.1000 - dense_3_acc: 0.4500 - dense_4_acc: 0.4333 - dense_5_acc: 0.3167 - dense_6_acc: 0.2333 - dense_7_acc: 0.3000 - dense_8_acc: 0.2167 - dense_9_acc: 0.2833 - dense_10_acc: 0.2500 - dense_11_acc: 0.5000 - dense_12_acc: 0.3167 - dense_13_acc: 0.3833 - dense_14_acc: 0.4333 - dense_15_acc: 0.3667 - dense_16_acc: 0.2833 - dense_17_acc: 0.3333 - dense_18_acc: 0.4000 - dense_19_acc: 0.3667 - dense_20_acc: 0.2667 - dense_21_acc: 0.3333 - dense_22_acc: 0.2500 - dense_23_acc: 0.2833 - dense_24_acc: 0.2667 - dense_25_acc: 0.2833 - dense_26_acc: 0.2500 - dense_27_acc: 0.3667 - dense_28_acc: 0.2833 - dense_29_acc: 0.3333 - dense_30_acc: 0.1833 - dense_31_acc: 0.0000e+00\n",
      "Epoch 37/100\n",
      "60/60 [==============================] - 0s 4ms/step - loss: 73.1182 - dense_2_loss: 3.3150 - dense_3_loss: 2.4698 - dense_4_loss: 2.3333 - dense_5_loss: 2.4959 - dense_6_loss: 2.4361 - dense_7_loss: 2.6025 - dense_8_loss: 2.5700 - dense_9_loss: 2.4470 - dense_10_loss: 2.4362 - dense_11_loss: 2.2946 - dense_12_loss: 2.4774 - dense_13_loss: 2.5373 - dense_14_loss: 2.4870 - dense_15_loss: 2.3962 - dense_16_loss: 2.5443 - dense_17_loss: 2.4461 - dense_18_loss: 2.4795 - dense_19_loss: 2.5948 - dense_20_loss: 2.4577 - dense_21_loss: 2.5275 - dense_22_loss: 2.6173 - dense_23_loss: 2.4877 - dense_24_loss: 2.5347 - dense_25_loss: 2.5614 - dense_26_loss: 2.6977 - dense_27_loss: 2.3071 - dense_28_loss: 2.4241 - dense_29_loss: 2.4525 - dense_30_loss: 2.6875 - dense_31_loss: 0.0000e+00 - dense_2_acc: 0.1000 - dense_3_acc: 0.4833 - dense_4_acc: 0.4167 - dense_5_acc: 0.3167 - dense_6_acc: 0.2667 - dense_7_acc: 0.3167 - dense_8_acc: 0.2500 - dense_9_acc: 0.2833 - dense_10_acc: 0.3000 - dense_11_acc: 0.4667 - dense_12_acc: 0.3500 - dense_13_acc: 0.3833 - dense_14_acc: 0.3833 - dense_15_acc: 0.3000 - dense_16_acc: 0.2833 - dense_17_acc: 0.3000 - dense_18_acc: 0.4167 - dense_19_acc: 0.3500 - dense_20_acc: 0.3000 - dense_21_acc: 0.3500 - dense_22_acc: 0.2333 - dense_23_acc: 0.2500 - dense_24_acc: 0.2833 - dense_25_acc: 0.3333 - dense_26_acc: 0.1833 - dense_27_acc: 0.3500 - dense_28_acc: 0.3167 - dense_29_acc: 0.4000 - dense_30_acc: 0.1667 - dense_31_acc: 0.0000e+00\n",
      "Epoch 38/100\n",
      "60/60 [==============================] - 0s 4ms/step - loss: 71.7976 - dense_2_loss: 3.3099 - dense_3_loss: 2.4246 - dense_4_loss: 2.2882 - dense_5_loss: 2.4451 - dense_6_loss: 2.3870 - dense_7_loss: 2.5474 - dense_8_loss: 2.5233 - dense_9_loss: 2.3960 - dense_10_loss: 2.3910 - dense_11_loss: 2.2429 - dense_12_loss: 2.4323 - dense_13_loss: 2.4775 - dense_14_loss: 2.4339 - dense_15_loss: 2.3484 - dense_16_loss: 2.5004 - dense_17_loss: 2.3868 - dense_18_loss: 2.4187 - dense_19_loss: 2.5469 - dense_20_loss: 2.4274 - dense_21_loss: 2.4833 - dense_22_loss: 2.5689 - dense_23_loss: 2.4429 - dense_24_loss: 2.4762 - dense_25_loss: 2.5390 - dense_26_loss: 2.6451 - dense_27_loss: 2.2693 - dense_28_loss: 2.3853 - dense_29_loss: 2.4146 - dense_30_loss: 2.6451 - dense_31_loss: 0.0000e+00 - dense_2_acc: 0.1000 - dense_3_acc: 0.4833 - dense_4_acc: 0.4500 - dense_5_acc: 0.3167 - dense_6_acc: 0.2667 - dense_7_acc: 0.3333 - dense_8_acc: 0.2167 - dense_9_acc: 0.2833 - dense_10_acc: 0.3000 - dense_11_acc: 0.5167 - dense_12_acc: 0.3833 - dense_13_acc: 0.4167 - dense_14_acc: 0.4333 - dense_15_acc: 0.3667 - dense_16_acc: 0.3333 - dense_17_acc: 0.3500 - dense_18_acc: 0.4000 - dense_19_acc: 0.3500 - dense_20_acc: 0.2833 - dense_21_acc: 0.3667 - dense_22_acc: 0.2667 - dense_23_acc: 0.2833 - dense_24_acc: 0.2833 - dense_25_acc: 0.3667 - dense_26_acc: 0.1667 - dense_27_acc: 0.3333 - dense_28_acc: 0.2833 - dense_29_acc: 0.3500 - dense_30_acc: 0.2333 - dense_31_acc: 0.0000e+00\n",
      "Epoch 39/100\n",
      "60/60 [==============================] - 0s 4ms/step - loss: 70.6871 - dense_2_loss: 3.3065 - dense_3_loss: 2.3780 - dense_4_loss: 2.2460 - dense_5_loss: 2.3956 - dense_6_loss: 2.3416 - dense_7_loss: 2.5003 - dense_8_loss: 2.4853 - dense_9_loss: 2.3542 - dense_10_loss: 2.3436 - dense_11_loss: 2.1970 - dense_12_loss: 2.3932 - dense_13_loss: 2.4254 - dense_14_loss: 2.3873 - dense_15_loss: 2.3047 - dense_16_loss: 2.4627 - dense_17_loss: 2.3573 - dense_18_loss: 2.3685 - dense_19_loss: 2.5126 - dense_20_loss: 2.3825 - dense_21_loss: 2.4395 - dense_22_loss: 2.5340 - dense_23_loss: 2.4081 - dense_24_loss: 2.4502 - dense_25_loss: 2.5058 - dense_26_loss: 2.6182 - dense_27_loss: 2.2405 - dense_28_loss: 2.3599 - dense_29_loss: 2.3732 - dense_30_loss: 2.6153 - dense_31_loss: 0.0000e+00 - dense_2_acc: 0.1000 - dense_3_acc: 0.5167 - dense_4_acc: 0.4333 - dense_5_acc: 0.3167 - dense_6_acc: 0.3000 - dense_7_acc: 0.3333 - dense_8_acc: 0.3167 - dense_9_acc: 0.2833 - dense_10_acc: 0.3000 - dense_11_acc: 0.4833 - dense_12_acc: 0.4167 - dense_13_acc: 0.4667 - dense_14_acc: 0.4167 - dense_15_acc: 0.3667 - dense_16_acc: 0.3333 - dense_17_acc: 0.3500 - dense_18_acc: 0.3833 - dense_19_acc: 0.4000 - dense_20_acc: 0.2833 - dense_21_acc: 0.3667 - dense_22_acc: 0.2500 - dense_23_acc: 0.3000 - dense_24_acc: 0.2833 - dense_25_acc: 0.3333 - dense_26_acc: 0.2000 - dense_27_acc: 0.3167 - dense_28_acc: 0.3000 - dense_29_acc: 0.3500 - dense_30_acc: 0.2333 - dense_31_acc: 0.0000e+00\n",
      "Epoch 40/100\n",
      "60/60 [==============================] - 0s 4ms/step - loss: 69.4908 - dense_2_loss: 3.3018 - dense_3_loss: 2.3332 - dense_4_loss: 2.2004 - dense_5_loss: 2.3485 - dense_6_loss: 2.2980 - dense_7_loss: 2.4547 - dense_8_loss: 2.4418 - dense_9_loss: 2.3053 - dense_10_loss: 2.2957 - dense_11_loss: 2.1591 - dense_12_loss: 2.3523 - dense_13_loss: 2.3826 - dense_14_loss: 2.3402 - dense_15_loss: 2.2667 - dense_16_loss: 2.4289 - dense_17_loss: 2.3177 - dense_18_loss: 2.3298 - dense_19_loss: 2.4664 - dense_20_loss: 2.3551 - dense_21_loss: 2.4089 - dense_22_loss: 2.4918 - dense_23_loss: 2.3692 - dense_24_loss: 2.4117 - dense_25_loss: 2.4500 - dense_26_loss: 2.5758 - dense_27_loss: 2.1951 - dense_28_loss: 2.3127 - dense_29_loss: 2.3306 - dense_30_loss: 2.5666 - dense_31_loss: 0.0000e+00 - dense_2_acc: 0.1000 - dense_3_acc: 0.5167 - dense_4_acc: 0.4500 - dense_5_acc: 0.3167 - dense_6_acc: 0.3000 - dense_7_acc: 0.3667 - dense_8_acc: 0.3500 - dense_9_acc: 0.2833 - dense_10_acc: 0.3000 - dense_11_acc: 0.4667 - dense_12_acc: 0.3833 - dense_13_acc: 0.4833 - dense_14_acc: 0.4500 - dense_15_acc: 0.4333 - dense_16_acc: 0.3333 - dense_17_acc: 0.3500 - dense_18_acc: 0.3833 - dense_19_acc: 0.4000 - dense_20_acc: 0.3500 - dense_21_acc: 0.3000 - dense_22_acc: 0.2667 - dense_23_acc: 0.3167 - dense_24_acc: 0.3167 - dense_25_acc: 0.3333 - dense_26_acc: 0.2667 - dense_27_acc: 0.3500 - dense_28_acc: 0.3000 - dense_29_acc: 0.4000 - dense_30_acc: 0.2500 - dense_31_acc: 0.0000e+00\n",
      "Epoch 41/100\n"
     ]
    },
    {
     "name": "stdout",
     "output_type": "stream",
     "text": [
      "60/60 [==============================] - 0s 5ms/step - loss: 68.3027 - dense_2_loss: 3.2980 - dense_3_loss: 2.2874 - dense_4_loss: 2.1565 - dense_5_loss: 2.3020 - dense_6_loss: 2.2562 - dense_7_loss: 2.4068 - dense_8_loss: 2.3964 - dense_9_loss: 2.2635 - dense_10_loss: 2.2583 - dense_11_loss: 2.1179 - dense_12_loss: 2.3127 - dense_13_loss: 2.3432 - dense_14_loss: 2.2987 - dense_15_loss: 2.2184 - dense_16_loss: 2.3827 - dense_17_loss: 2.2667 - dense_18_loss: 2.2833 - dense_19_loss: 2.4298 - dense_20_loss: 2.3044 - dense_21_loss: 2.3752 - dense_22_loss: 2.4616 - dense_23_loss: 2.3337 - dense_24_loss: 2.3706 - dense_25_loss: 2.3970 - dense_26_loss: 2.5340 - dense_27_loss: 2.1609 - dense_28_loss: 2.2644 - dense_29_loss: 2.3004 - dense_30_loss: 2.5220 - dense_31_loss: 0.0000e+00 - dense_2_acc: 0.1000 - dense_3_acc: 0.5667 - dense_4_acc: 0.4500 - dense_5_acc: 0.3167 - dense_6_acc: 0.3333 - dense_7_acc: 0.3667 - dense_8_acc: 0.3167 - dense_9_acc: 0.2833 - dense_10_acc: 0.3167 - dense_11_acc: 0.5333 - dense_12_acc: 0.4167 - dense_13_acc: 0.5000 - dense_14_acc: 0.4500 - dense_15_acc: 0.4833 - dense_16_acc: 0.3500 - dense_17_acc: 0.4167 - dense_18_acc: 0.3833 - dense_19_acc: 0.4333 - dense_20_acc: 0.3667 - dense_21_acc: 0.3167 - dense_22_acc: 0.2500 - dense_23_acc: 0.3500 - dense_24_acc: 0.2667 - dense_25_acc: 0.3500 - dense_26_acc: 0.3167 - dense_27_acc: 0.3500 - dense_28_acc: 0.3333 - dense_29_acc: 0.4000 - dense_30_acc: 0.2500 - dense_31_acc: 0.0000e+00\n",
      "Epoch 42/100\n",
      "60/60 [==============================] - 0s 5ms/step - loss: 67.1729 - dense_2_loss: 3.2955 - dense_3_loss: 2.2416 - dense_4_loss: 2.1116 - dense_5_loss: 2.2537 - dense_6_loss: 2.2139 - dense_7_loss: 2.3675 - dense_8_loss: 2.3532 - dense_9_loss: 2.2212 - dense_10_loss: 2.2169 - dense_11_loss: 2.0784 - dense_12_loss: 2.2748 - dense_13_loss: 2.3053 - dense_14_loss: 2.2579 - dense_15_loss: 2.1823 - dense_16_loss: 2.3459 - dense_17_loss: 2.2376 - dense_18_loss: 2.2400 - dense_19_loss: 2.3883 - dense_20_loss: 2.2645 - dense_21_loss: 2.3261 - dense_22_loss: 2.4096 - dense_23_loss: 2.2959 - dense_24_loss: 2.3290 - dense_25_loss: 2.3588 - dense_26_loss: 2.5107 - dense_27_loss: 2.1205 - dense_28_loss: 2.2269 - dense_29_loss: 2.2527 - dense_30_loss: 2.4925 - dense_31_loss: 0.0000e+00 - dense_2_acc: 0.1000 - dense_3_acc: 0.6167 - dense_4_acc: 0.5000 - dense_5_acc: 0.3167 - dense_6_acc: 0.3333 - dense_7_acc: 0.3667 - dense_8_acc: 0.3667 - dense_9_acc: 0.3333 - dense_10_acc: 0.3500 - dense_11_acc: 0.5167 - dense_12_acc: 0.3833 - dense_13_acc: 0.5000 - dense_14_acc: 0.4667 - dense_15_acc: 0.5167 - dense_16_acc: 0.3667 - dense_17_acc: 0.4167 - dense_18_acc: 0.4167 - dense_19_acc: 0.4167 - dense_20_acc: 0.3833 - dense_21_acc: 0.3500 - dense_22_acc: 0.3000 - dense_23_acc: 0.3667 - dense_24_acc: 0.3167 - dense_25_acc: 0.3500 - dense_26_acc: 0.3167 - dense_27_acc: 0.3667 - dense_28_acc: 0.3500 - dense_29_acc: 0.4333 - dense_30_acc: 0.3167 - dense_31_acc: 0.0000e+00\n",
      "Epoch 43/100\n",
      "60/60 [==============================] - 0s 5ms/step - loss: 66.0044 - dense_2_loss: 3.2926 - dense_3_loss: 2.1934 - dense_4_loss: 2.0647 - dense_5_loss: 2.2005 - dense_6_loss: 2.1655 - dense_7_loss: 2.3173 - dense_8_loss: 2.3120 - dense_9_loss: 2.1685 - dense_10_loss: 2.1780 - dense_11_loss: 2.0379 - dense_12_loss: 2.2359 - dense_13_loss: 2.2520 - dense_14_loss: 2.2111 - dense_15_loss: 2.1398 - dense_16_loss: 2.3120 - dense_17_loss: 2.1924 - dense_18_loss: 2.2017 - dense_19_loss: 2.3480 - dense_20_loss: 2.2237 - dense_21_loss: 2.2967 - dense_22_loss: 2.3721 - dense_23_loss: 2.2606 - dense_24_loss: 2.2788 - dense_25_loss: 2.3225 - dense_26_loss: 2.4688 - dense_27_loss: 2.0977 - dense_28_loss: 2.1969 - dense_29_loss: 2.2107 - dense_30_loss: 2.4528 - dense_31_loss: 0.0000e+00 - dense_2_acc: 0.1000 - dense_3_acc: 0.6167 - dense_4_acc: 0.5833 - dense_5_acc: 0.3500 - dense_6_acc: 0.3500 - dense_7_acc: 0.3833 - dense_8_acc: 0.3667 - dense_9_acc: 0.3500 - dense_10_acc: 0.3667 - dense_11_acc: 0.5167 - dense_12_acc: 0.4000 - dense_13_acc: 0.4500 - dense_14_acc: 0.4833 - dense_15_acc: 0.5333 - dense_16_acc: 0.3500 - dense_17_acc: 0.4333 - dense_18_acc: 0.4000 - dense_19_acc: 0.4167 - dense_20_acc: 0.3833 - dense_21_acc: 0.3500 - dense_22_acc: 0.3333 - dense_23_acc: 0.3833 - dense_24_acc: 0.3333 - dense_25_acc: 0.3500 - dense_26_acc: 0.3167 - dense_27_acc: 0.3667 - dense_28_acc: 0.3667 - dense_29_acc: 0.4667 - dense_30_acc: 0.3333 - dense_31_acc: 0.0000e+00\n",
      "Epoch 44/100\n",
      "60/60 [==============================] - 0s 6ms/step - loss: 64.8499 - dense_2_loss: 3.2901 - dense_3_loss: 2.1485 - dense_4_loss: 2.0198 - dense_5_loss: 2.1549 - dense_6_loss: 2.1236 - dense_7_loss: 2.2750 - dense_8_loss: 2.2608 - dense_9_loss: 2.1315 - dense_10_loss: 2.1429 - dense_11_loss: 2.0037 - dense_12_loss: 2.1985 - dense_13_loss: 2.2082 - dense_14_loss: 2.1701 - dense_15_loss: 2.0952 - dense_16_loss: 2.2641 - dense_17_loss: 2.1449 - dense_18_loss: 2.1574 - dense_19_loss: 2.2959 - dense_20_loss: 2.1947 - dense_21_loss: 2.2548 - dense_22_loss: 2.3270 - dense_23_loss: 2.2300 - dense_24_loss: 2.2430 - dense_25_loss: 2.2880 - dense_26_loss: 2.4292 - dense_27_loss: 2.0581 - dense_28_loss: 2.1543 - dense_29_loss: 2.1814 - dense_30_loss: 2.4043 - dense_31_loss: 0.0000e+00 - dense_2_acc: 0.1000 - dense_3_acc: 0.6167 - dense_4_acc: 0.5833 - dense_5_acc: 0.4000 - dense_6_acc: 0.3333 - dense_7_acc: 0.4167 - dense_8_acc: 0.3500 - dense_9_acc: 0.3667 - dense_10_acc: 0.3833 - dense_11_acc: 0.5167 - dense_12_acc: 0.4000 - dense_13_acc: 0.5333 - dense_14_acc: 0.4833 - dense_15_acc: 0.5167 - dense_16_acc: 0.4000 - dense_17_acc: 0.4667 - dense_18_acc: 0.4167 - dense_19_acc: 0.4167 - dense_20_acc: 0.3833 - dense_21_acc: 0.3333 - dense_22_acc: 0.3333 - dense_23_acc: 0.3667 - dense_24_acc: 0.3667 - dense_25_acc: 0.3667 - dense_26_acc: 0.3500 - dense_27_acc: 0.3667 - dense_28_acc: 0.4000 - dense_29_acc: 0.4667 - dense_30_acc: 0.3833 - dense_31_acc: 0.0000e+00\n",
      "Epoch 45/100\n",
      "60/60 [==============================] - 0s 5ms/step - loss: 63.7257 - dense_2_loss: 3.2871 - dense_3_loss: 2.1026 - dense_4_loss: 1.9783 - dense_5_loss: 2.1079 - dense_6_loss: 2.0792 - dense_7_loss: 2.2282 - dense_8_loss: 2.2127 - dense_9_loss: 2.0884 - dense_10_loss: 2.1012 - dense_11_loss: 1.9635 - dense_12_loss: 2.1631 - dense_13_loss: 2.1683 - dense_14_loss: 2.1305 - dense_15_loss: 2.0471 - dense_16_loss: 2.2280 - dense_17_loss: 2.0980 - dense_18_loss: 2.1129 - dense_19_loss: 2.2637 - dense_20_loss: 2.1653 - dense_21_loss: 2.2168 - dense_22_loss: 2.2918 - dense_23_loss: 2.1842 - dense_24_loss: 2.2083 - dense_25_loss: 2.2505 - dense_26_loss: 2.3956 - dense_27_loss: 2.0188 - dense_28_loss: 2.1305 - dense_29_loss: 2.1414 - dense_30_loss: 2.3619 - dense_31_loss: 0.0000e+00 - dense_2_acc: 0.1000 - dense_3_acc: 0.6333 - dense_4_acc: 0.5833 - dense_5_acc: 0.4167 - dense_6_acc: 0.3667 - dense_7_acc: 0.4167 - dense_8_acc: 0.3333 - dense_9_acc: 0.3333 - dense_10_acc: 0.3833 - dense_11_acc: 0.5167 - dense_12_acc: 0.4167 - dense_13_acc: 0.5333 - dense_14_acc: 0.5167 - dense_15_acc: 0.4833 - dense_16_acc: 0.4000 - dense_17_acc: 0.4500 - dense_18_acc: 0.4167 - dense_19_acc: 0.4167 - dense_20_acc: 0.4000 - dense_21_acc: 0.3333 - dense_22_acc: 0.3667 - dense_23_acc: 0.3667 - dense_24_acc: 0.3667 - dense_25_acc: 0.3500 - dense_26_acc: 0.4167 - dense_27_acc: 0.3500 - dense_28_acc: 0.4333 - dense_29_acc: 0.4500 - dense_30_acc: 0.4000 - dense_31_acc: 0.0000e+00\n",
      "Epoch 46/100\n"
     ]
    },
    {
     "name": "stdout",
     "output_type": "stream",
     "text": [
      "60/60 [==============================] - 0s 5ms/step - loss: 62.5048 - dense_2_loss: 3.2849 - dense_3_loss: 2.0555 - dense_4_loss: 1.9321 - dense_5_loss: 2.0594 - dense_6_loss: 2.0378 - dense_7_loss: 2.1793 - dense_8_loss: 2.1666 - dense_9_loss: 2.0404 - dense_10_loss: 2.0567 - dense_11_loss: 1.9214 - dense_12_loss: 2.1235 - dense_13_loss: 2.1175 - dense_14_loss: 2.0860 - dense_15_loss: 2.0079 - dense_16_loss: 2.1854 - dense_17_loss: 2.0510 - dense_18_loss: 2.0725 - dense_19_loss: 2.2249 - dense_20_loss: 2.1196 - dense_21_loss: 2.1728 - dense_22_loss: 2.2502 - dense_23_loss: 2.1505 - dense_24_loss: 2.1610 - dense_25_loss: 2.1911 - dense_26_loss: 2.3569 - dense_27_loss: 1.9746 - dense_28_loss: 2.0936 - dense_29_loss: 2.1048 - dense_30_loss: 2.3269 - dense_31_loss: 0.0000e+00 - dense_2_acc: 0.1000 - dense_3_acc: 0.6667 - dense_4_acc: 0.6167 - dense_5_acc: 0.4667 - dense_6_acc: 0.3667 - dense_7_acc: 0.4167 - dense_8_acc: 0.3667 - dense_9_acc: 0.4000 - dense_10_acc: 0.4333 - dense_11_acc: 0.5167 - dense_12_acc: 0.4000 - dense_13_acc: 0.5500 - dense_14_acc: 0.5500 - dense_15_acc: 0.5333 - dense_16_acc: 0.4167 - dense_17_acc: 0.4667 - dense_18_acc: 0.4333 - dense_19_acc: 0.4667 - dense_20_acc: 0.4167 - dense_21_acc: 0.3500 - dense_22_acc: 0.4000 - dense_23_acc: 0.4167 - dense_24_acc: 0.4167 - dense_25_acc: 0.4000 - dense_26_acc: 0.3500 - dense_27_acc: 0.3833 - dense_28_acc: 0.4333 - dense_29_acc: 0.4333 - dense_30_acc: 0.4000 - dense_31_acc: 0.0000e+00\n",
      "Epoch 47/100\n",
      "60/60 [==============================] - 0s 8ms/step - loss: 61.2821 - dense_2_loss: 3.2831 - dense_3_loss: 2.0071 - dense_4_loss: 1.8840 - dense_5_loss: 2.0080 - dense_6_loss: 1.9918 - dense_7_loss: 2.1307 - dense_8_loss: 2.1099 - dense_9_loss: 1.9995 - dense_10_loss: 2.0191 - dense_11_loss: 1.8805 - dense_12_loss: 2.0803 - dense_13_loss: 2.0728 - dense_14_loss: 2.0410 - dense_15_loss: 1.9721 - dense_16_loss: 2.1503 - dense_17_loss: 2.0147 - dense_18_loss: 2.0292 - dense_19_loss: 2.1855 - dense_20_loss: 2.0812 - dense_21_loss: 2.1140 - dense_22_loss: 2.1935 - dense_23_loss: 2.0971 - dense_24_loss: 2.1296 - dense_25_loss: 2.1537 - dense_26_loss: 2.3281 - dense_27_loss: 1.9420 - dense_28_loss: 2.0493 - dense_29_loss: 2.0530 - dense_30_loss: 2.2810 - dense_31_loss: 0.0000e+00 - dense_2_acc: 0.0667 - dense_3_acc: 0.6667 - dense_4_acc: 0.6167 - dense_5_acc: 0.5167 - dense_6_acc: 0.4333 - dense_7_acc: 0.4333 - dense_8_acc: 0.4333 - dense_9_acc: 0.4167 - dense_10_acc: 0.4500 - dense_11_acc: 0.5500 - dense_12_acc: 0.4333 - dense_13_acc: 0.5500 - dense_14_acc: 0.5500 - dense_15_acc: 0.5333 - dense_16_acc: 0.4167 - dense_17_acc: 0.4833 - dense_18_acc: 0.4333 - dense_19_acc: 0.4833 - dense_20_acc: 0.4167 - dense_21_acc: 0.4000 - dense_22_acc: 0.4667 - dense_23_acc: 0.4333 - dense_24_acc: 0.4167 - dense_25_acc: 0.3833 - dense_26_acc: 0.4000 - dense_27_acc: 0.4167 - dense_28_acc: 0.4000 - dense_29_acc: 0.4500 - dense_30_acc: 0.4000 - dense_31_acc: 0.0000e+00\n",
      "Epoch 48/100\n",
      "60/60 [==============================] - 0s 5ms/step - loss: 60.0586 - dense_2_loss: 3.2807 - dense_3_loss: 1.9611 - dense_4_loss: 1.8424 - dense_5_loss: 1.9564 - dense_6_loss: 1.9448 - dense_7_loss: 2.0805 - dense_8_loss: 2.0637 - dense_9_loss: 1.9521 - dense_10_loss: 1.9744 - dense_11_loss: 1.8435 - dense_12_loss: 2.0386 - dense_13_loss: 2.0312 - dense_14_loss: 2.0033 - dense_15_loss: 1.9256 - dense_16_loss: 2.1039 - dense_17_loss: 1.9618 - dense_18_loss: 1.9832 - dense_19_loss: 2.1398 - dense_20_loss: 2.0449 - dense_21_loss: 2.0864 - dense_22_loss: 2.1521 - dense_23_loss: 2.0609 - dense_24_loss: 2.0755 - dense_25_loss: 2.1168 - dense_26_loss: 2.2844 - dense_27_loss: 1.9036 - dense_28_loss: 2.0022 - dense_29_loss: 2.0085 - dense_30_loss: 2.2361 - dense_31_loss: 0.0000e+00 - dense_2_acc: 0.0833 - dense_3_acc: 0.6667 - dense_4_acc: 0.6167 - dense_5_acc: 0.5500 - dense_6_acc: 0.4333 - dense_7_acc: 0.5167 - dense_8_acc: 0.4500 - dense_9_acc: 0.4333 - dense_10_acc: 0.4667 - dense_11_acc: 0.5500 - dense_12_acc: 0.4000 - dense_13_acc: 0.5500 - dense_14_acc: 0.5167 - dense_15_acc: 0.5500 - dense_16_acc: 0.4000 - dense_17_acc: 0.5167 - dense_18_acc: 0.4333 - dense_19_acc: 0.4833 - dense_20_acc: 0.4333 - dense_21_acc: 0.4333 - dense_22_acc: 0.4500 - dense_23_acc: 0.4167 - dense_24_acc: 0.4167 - dense_25_acc: 0.4333 - dense_26_acc: 0.4333 - dense_27_acc: 0.4000 - dense_28_acc: 0.4000 - dense_29_acc: 0.4667 - dense_30_acc: 0.4167 - dense_31_acc: 0.0000e+00\n",
      "Epoch 49/100\n",
      "60/60 [==============================] - 0s 5ms/step - loss: 58.8835 - dense_2_loss: 3.2788 - dense_3_loss: 1.9137 - dense_4_loss: 1.7945 - dense_5_loss: 1.9073 - dense_6_loss: 1.9009 - dense_7_loss: 2.0356 - dense_8_loss: 2.0098 - dense_9_loss: 1.9083 - dense_10_loss: 1.9409 - dense_11_loss: 1.8041 - dense_12_loss: 1.9969 - dense_13_loss: 1.9882 - dense_14_loss: 1.9649 - dense_15_loss: 1.8909 - dense_16_loss: 2.0624 - dense_17_loss: 1.9281 - dense_18_loss: 1.9394 - dense_19_loss: 2.0940 - dense_20_loss: 2.0071 - dense_21_loss: 2.0532 - dense_22_loss: 2.1069 - dense_23_loss: 2.0174 - dense_24_loss: 2.0472 - dense_25_loss: 2.0665 - dense_26_loss: 2.2386 - dense_27_loss: 1.8651 - dense_28_loss: 1.9570 - dense_29_loss: 1.9632 - dense_30_loss: 2.2026 - dense_31_loss: 0.0000e+00 - dense_2_acc: 0.1000 - dense_3_acc: 0.6667 - dense_4_acc: 0.6333 - dense_5_acc: 0.5833 - dense_6_acc: 0.4500 - dense_7_acc: 0.5333 - dense_8_acc: 0.4833 - dense_9_acc: 0.4500 - dense_10_acc: 0.4500 - dense_11_acc: 0.5500 - dense_12_acc: 0.4167 - dense_13_acc: 0.6000 - dense_14_acc: 0.5833 - dense_15_acc: 0.5667 - dense_16_acc: 0.4333 - dense_17_acc: 0.5667 - dense_18_acc: 0.4667 - dense_19_acc: 0.5167 - dense_20_acc: 0.4167 - dense_21_acc: 0.4333 - dense_22_acc: 0.4667 - dense_23_acc: 0.4833 - dense_24_acc: 0.4833 - dense_25_acc: 0.4500 - dense_26_acc: 0.4500 - dense_27_acc: 0.4333 - dense_28_acc: 0.4333 - dense_29_acc: 0.5000 - dense_30_acc: 0.4000 - dense_31_acc: 0.0000e+00\n",
      "Epoch 50/100\n",
      "60/60 [==============================] - 0s 4ms/step - loss: 57.6339 - dense_2_loss: 3.2766 - dense_3_loss: 1.8661 - dense_4_loss: 1.7481 - dense_5_loss: 1.8534 - dense_6_loss: 1.8535 - dense_7_loss: 1.9868 - dense_8_loss: 1.9602 - dense_9_loss: 1.8604 - dense_10_loss: 1.8996 - dense_11_loss: 1.7640 - dense_12_loss: 1.9566 - dense_13_loss: 1.9462 - dense_14_loss: 1.9134 - dense_15_loss: 1.8503 - dense_16_loss: 2.0210 - dense_17_loss: 1.8745 - dense_18_loss: 1.8938 - dense_19_loss: 2.0611 - dense_20_loss: 1.9749 - dense_21_loss: 1.9901 - dense_22_loss: 2.0622 - dense_23_loss: 1.9688 - dense_24_loss: 2.0008 - dense_25_loss: 2.0234 - dense_26_loss: 2.2034 - dense_27_loss: 1.8259 - dense_28_loss: 1.9176 - dense_29_loss: 1.9208 - dense_30_loss: 2.1605 - dense_31_loss: 0.0000e+00 - dense_2_acc: 0.1000 - dense_3_acc: 0.6833 - dense_4_acc: 0.6333 - dense_5_acc: 0.6000 - dense_6_acc: 0.4500 - dense_7_acc: 0.5333 - dense_8_acc: 0.4833 - dense_9_acc: 0.4500 - dense_10_acc: 0.4500 - dense_11_acc: 0.5500 - dense_12_acc: 0.4667 - dense_13_acc: 0.6000 - dense_14_acc: 0.6000 - dense_15_acc: 0.5500 - dense_16_acc: 0.5000 - dense_17_acc: 0.5833 - dense_18_acc: 0.4667 - dense_19_acc: 0.5000 - dense_20_acc: 0.4333 - dense_21_acc: 0.4667 - dense_22_acc: 0.5000 - dense_23_acc: 0.5167 - dense_24_acc: 0.4833 - dense_25_acc: 0.4333 - dense_26_acc: 0.4500 - dense_27_acc: 0.4333 - dense_28_acc: 0.4167 - dense_29_acc: 0.5333 - dense_30_acc: 0.4167 - dense_31_acc: 0.0000e+00\n",
      "Epoch 51/100\n"
     ]
    },
    {
     "name": "stdout",
     "output_type": "stream",
     "text": [
      "60/60 [==============================] - 0s 5ms/step - loss: 56.4500 - dense_2_loss: 3.2747 - dense_3_loss: 1.8184 - dense_4_loss: 1.6983 - dense_5_loss: 1.8008 - dense_6_loss: 1.8060 - dense_7_loss: 1.9344 - dense_8_loss: 1.9083 - dense_9_loss: 1.8160 - dense_10_loss: 1.8618 - dense_11_loss: 1.7240 - dense_12_loss: 1.9175 - dense_13_loss: 1.8959 - dense_14_loss: 1.8727 - dense_15_loss: 1.8118 - dense_16_loss: 1.9764 - dense_17_loss: 1.8394 - dense_18_loss: 1.8540 - dense_19_loss: 2.0313 - dense_20_loss: 1.9322 - dense_21_loss: 1.9555 - dense_22_loss: 2.0156 - dense_23_loss: 1.9182 - dense_24_loss: 1.9555 - dense_25_loss: 1.9849 - dense_26_loss: 2.1560 - dense_27_loss: 1.7984 - dense_28_loss: 1.8832 - dense_29_loss: 1.8961 - dense_30_loss: 2.1127 - dense_31_loss: 0.0000e+00 - dense_2_acc: 0.1000 - dense_3_acc: 0.6833 - dense_4_acc: 0.6833 - dense_5_acc: 0.6833 - dense_6_acc: 0.4667 - dense_7_acc: 0.5333 - dense_8_acc: 0.4833 - dense_9_acc: 0.4333 - dense_10_acc: 0.4833 - dense_11_acc: 0.5667 - dense_12_acc: 0.4500 - dense_13_acc: 0.5833 - dense_14_acc: 0.5833 - dense_15_acc: 0.5500 - dense_16_acc: 0.5167 - dense_17_acc: 0.5333 - dense_18_acc: 0.4667 - dense_19_acc: 0.5000 - dense_20_acc: 0.5000 - dense_21_acc: 0.4667 - dense_22_acc: 0.5500 - dense_23_acc: 0.5333 - dense_24_acc: 0.4833 - dense_25_acc: 0.4500 - dense_26_acc: 0.4833 - dense_27_acc: 0.4167 - dense_28_acc: 0.4500 - dense_29_acc: 0.5667 - dense_30_acc: 0.4167 - dense_31_acc: 0.0000e+00\n",
      "Epoch 52/100\n",
      "60/60 [==============================] - 0s 6ms/step - loss: 55.1868 - dense_2_loss: 3.2730 - dense_3_loss: 1.7714 - dense_4_loss: 1.6512 - dense_5_loss: 1.7516 - dense_6_loss: 1.7603 - dense_7_loss: 1.8877 - dense_8_loss: 1.8500 - dense_9_loss: 1.7803 - dense_10_loss: 1.8149 - dense_11_loss: 1.6944 - dense_12_loss: 1.8791 - dense_13_loss: 1.8519 - dense_14_loss: 1.8385 - dense_15_loss: 1.7858 - dense_16_loss: 1.9324 - dense_17_loss: 1.8024 - dense_18_loss: 1.8125 - dense_19_loss: 1.9770 - dense_20_loss: 1.8784 - dense_21_loss: 1.9052 - dense_22_loss: 1.9646 - dense_23_loss: 1.8693 - dense_24_loss: 1.9230 - dense_25_loss: 1.9381 - dense_26_loss: 2.1096 - dense_27_loss: 1.7520 - dense_28_loss: 1.8299 - dense_29_loss: 1.8350 - dense_30_loss: 2.0671 - dense_31_loss: 0.0000e+00 - dense_2_acc: 0.1000 - dense_3_acc: 0.6833 - dense_4_acc: 0.7000 - dense_5_acc: 0.6667 - dense_6_acc: 0.5167 - dense_7_acc: 0.5500 - dense_8_acc: 0.5167 - dense_9_acc: 0.4500 - dense_10_acc: 0.5167 - dense_11_acc: 0.5667 - dense_12_acc: 0.4833 - dense_13_acc: 0.5833 - dense_14_acc: 0.5833 - dense_15_acc: 0.5333 - dense_16_acc: 0.5500 - dense_17_acc: 0.5667 - dense_18_acc: 0.4500 - dense_19_acc: 0.5333 - dense_20_acc: 0.5000 - dense_21_acc: 0.4667 - dense_22_acc: 0.5500 - dense_23_acc: 0.5500 - dense_24_acc: 0.5000 - dense_25_acc: 0.4667 - dense_26_acc: 0.4833 - dense_27_acc: 0.4667 - dense_28_acc: 0.4667 - dense_29_acc: 0.6000 - dense_30_acc: 0.4333 - dense_31_acc: 0.0000e+00\n",
      "Epoch 53/100\n",
      "60/60 [==============================] - 0s 5ms/step - loss: 54.0153 - dense_2_loss: 3.2715 - dense_3_loss: 1.7264 - dense_4_loss: 1.6059 - dense_5_loss: 1.7002 - dense_6_loss: 1.7193 - dense_7_loss: 1.8425 - dense_8_loss: 1.8132 - dense_9_loss: 1.7344 - dense_10_loss: 1.7761 - dense_11_loss: 1.6589 - dense_12_loss: 1.8359 - dense_13_loss: 1.8151 - dense_14_loss: 1.7925 - dense_15_loss: 1.7473 - dense_16_loss: 1.8917 - dense_17_loss: 1.7497 - dense_18_loss: 1.7761 - dense_19_loss: 1.9345 - dense_20_loss: 1.8454 - dense_21_loss: 1.8694 - dense_22_loss: 1.9230 - dense_23_loss: 1.8296 - dense_24_loss: 1.8736 - dense_25_loss: 1.8849 - dense_26_loss: 2.0691 - dense_27_loss: 1.7140 - dense_28_loss: 1.7969 - dense_29_loss: 1.7864 - dense_30_loss: 2.0319 - dense_31_loss: 0.0000e+00 - dense_2_acc: 0.0667 - dense_3_acc: 0.7000 - dense_4_acc: 0.7333 - dense_5_acc: 0.6667 - dense_6_acc: 0.5167 - dense_7_acc: 0.5500 - dense_8_acc: 0.5500 - dense_9_acc: 0.4333 - dense_10_acc: 0.5333 - dense_11_acc: 0.5833 - dense_12_acc: 0.5167 - dense_13_acc: 0.5667 - dense_14_acc: 0.5667 - dense_15_acc: 0.5333 - dense_16_acc: 0.5167 - dense_17_acc: 0.5833 - dense_18_acc: 0.4833 - dense_19_acc: 0.5500 - dense_20_acc: 0.5167 - dense_21_acc: 0.4500 - dense_22_acc: 0.5667 - dense_23_acc: 0.6333 - dense_24_acc: 0.5000 - dense_25_acc: 0.5333 - dense_26_acc: 0.5167 - dense_27_acc: 0.4500 - dense_28_acc: 0.4667 - dense_29_acc: 0.6167 - dense_30_acc: 0.4167 - dense_31_acc: 0.0000e+00\n",
      "Epoch 54/100\n",
      "60/60 [==============================] - 0s 5ms/step - loss: 52.7747 - dense_2_loss: 3.2699 - dense_3_loss: 1.6805 - dense_4_loss: 1.5572 - dense_5_loss: 1.6466 - dense_6_loss: 1.6731 - dense_7_loss: 1.7917 - dense_8_loss: 1.7528 - dense_9_loss: 1.6886 - dense_10_loss: 1.7423 - dense_11_loss: 1.6166 - dense_12_loss: 1.7901 - dense_13_loss: 1.7744 - dense_14_loss: 1.7430 - dense_15_loss: 1.7041 - dense_16_loss: 1.8463 - dense_17_loss: 1.7157 - dense_18_loss: 1.7288 - dense_19_loss: 1.8881 - dense_20_loss: 1.8047 - dense_21_loss: 1.8263 - dense_22_loss: 1.8796 - dense_23_loss: 1.7843 - dense_24_loss: 1.8318 - dense_25_loss: 1.8437 - dense_26_loss: 2.0204 - dense_27_loss: 1.6762 - dense_28_loss: 1.7606 - dense_29_loss: 1.7502 - dense_30_loss: 1.9870 - dense_31_loss: 0.0000e+00 - dense_2_acc: 0.0833 - dense_3_acc: 0.7167 - dense_4_acc: 0.7333 - dense_5_acc: 0.6667 - dense_6_acc: 0.5167 - dense_7_acc: 0.5500 - dense_8_acc: 0.5833 - dense_9_acc: 0.4500 - dense_10_acc: 0.5833 - dense_11_acc: 0.6000 - dense_12_acc: 0.5333 - dense_13_acc: 0.5667 - dense_14_acc: 0.6000 - dense_15_acc: 0.5333 - dense_16_acc: 0.5500 - dense_17_acc: 0.5833 - dense_18_acc: 0.5167 - dense_19_acc: 0.5333 - dense_20_acc: 0.5000 - dense_21_acc: 0.4500 - dense_22_acc: 0.6167 - dense_23_acc: 0.6333 - dense_24_acc: 0.5000 - dense_25_acc: 0.5667 - dense_26_acc: 0.5333 - dense_27_acc: 0.5000 - dense_28_acc: 0.4833 - dense_29_acc: 0.6000 - dense_30_acc: 0.4333 - dense_31_acc: 0.0000e+00\n",
      "Epoch 55/100\n",
      "60/60 [==============================] - 0s 5ms/step - loss: 51.5029 - dense_2_loss: 3.2683 - dense_3_loss: 1.6361 - dense_4_loss: 1.5142 - dense_5_loss: 1.5969 - dense_6_loss: 1.6270 - dense_7_loss: 1.7452 - dense_8_loss: 1.6978 - dense_9_loss: 1.6436 - dense_10_loss: 1.6944 - dense_11_loss: 1.5730 - dense_12_loss: 1.7473 - dense_13_loss: 1.7277 - dense_14_loss: 1.7079 - dense_15_loss: 1.6666 - dense_16_loss: 1.8089 - dense_17_loss: 1.6682 - dense_18_loss: 1.6810 - dense_19_loss: 1.8514 - dense_20_loss: 1.7714 - dense_21_loss: 1.7736 - dense_22_loss: 1.8319 - dense_23_loss: 1.7395 - dense_24_loss: 1.7922 - dense_25_loss: 1.7920 - dense_26_loss: 1.9705 - dense_27_loss: 1.6389 - dense_28_loss: 1.7038 - dense_29_loss: 1.7063 - dense_30_loss: 1.9274 - dense_31_loss: 0.0000e+00 - dense_2_acc: 0.1000 - dense_3_acc: 0.7167 - dense_4_acc: 0.7333 - dense_5_acc: 0.6833 - dense_6_acc: 0.5333 - dense_7_acc: 0.5667 - dense_8_acc: 0.6167 - dense_9_acc: 0.4667 - dense_10_acc: 0.6000 - dense_11_acc: 0.6667 - dense_12_acc: 0.5667 - dense_13_acc: 0.5833 - dense_14_acc: 0.6000 - dense_15_acc: 0.5333 - dense_16_acc: 0.5500 - dense_17_acc: 0.5833 - dense_18_acc: 0.5000 - dense_19_acc: 0.5000 - dense_20_acc: 0.5167 - dense_21_acc: 0.4667 - dense_22_acc: 0.6667 - dense_23_acc: 0.6500 - dense_24_acc: 0.5333 - dense_25_acc: 0.5667 - dense_26_acc: 0.5167 - dense_27_acc: 0.5000 - dense_28_acc: 0.4833 - dense_29_acc: 0.6167 - dense_30_acc: 0.5000 - dense_31_acc: 0.0000e+00\n",
      "Epoch 56/100\n"
     ]
    },
    {
     "name": "stdout",
     "output_type": "stream",
     "text": [
      "60/60 [==============================] - 0s 6ms/step - loss: 50.3511 - dense_2_loss: 3.2668 - dense_3_loss: 1.5940 - dense_4_loss: 1.4679 - dense_5_loss: 1.5477 - dense_6_loss: 1.5868 - dense_7_loss: 1.6947 - dense_8_loss: 1.6462 - dense_9_loss: 1.6095 - dense_10_loss: 1.6594 - dense_11_loss: 1.5283 - dense_12_loss: 1.7107 - dense_13_loss: 1.6984 - dense_14_loss: 1.6682 - dense_15_loss: 1.6190 - dense_16_loss: 1.7672 - dense_17_loss: 1.6299 - dense_18_loss: 1.6371 - dense_19_loss: 1.8166 - dense_20_loss: 1.7300 - dense_21_loss: 1.7335 - dense_22_loss: 1.7904 - dense_23_loss: 1.6975 - dense_24_loss: 1.7425 - dense_25_loss: 1.7434 - dense_26_loss: 1.9436 - dense_27_loss: 1.6111 - dense_28_loss: 1.6564 - dense_29_loss: 1.6789 - dense_30_loss: 1.8757 - dense_31_loss: 0.0000e+00 - dense_2_acc: 0.1000 - dense_3_acc: 0.7167 - dense_4_acc: 0.7500 - dense_5_acc: 0.6833 - dense_6_acc: 0.5833 - dense_7_acc: 0.6167 - dense_8_acc: 0.6333 - dense_9_acc: 0.5000 - dense_10_acc: 0.6333 - dense_11_acc: 0.6667 - dense_12_acc: 0.6167 - dense_13_acc: 0.6000 - dense_14_acc: 0.6333 - dense_15_acc: 0.5333 - dense_16_acc: 0.5500 - dense_17_acc: 0.5833 - dense_18_acc: 0.5500 - dense_19_acc: 0.5333 - dense_20_acc: 0.5000 - dense_21_acc: 0.4667 - dense_22_acc: 0.6667 - dense_23_acc: 0.6667 - dense_24_acc: 0.5333 - dense_25_acc: 0.5833 - dense_26_acc: 0.5167 - dense_27_acc: 0.4833 - dense_28_acc: 0.5000 - dense_29_acc: 0.6000 - dense_30_acc: 0.5000 - dense_31_acc: 0.0000e+00\n",
      "Epoch 57/100\n",
      "60/60 [==============================] - 0s 5ms/step - loss: 49.1228 - dense_2_loss: 3.2655 - dense_3_loss: 1.5502 - dense_4_loss: 1.4240 - dense_5_loss: 1.4991 - dense_6_loss: 1.5457 - dense_7_loss: 1.6478 - dense_8_loss: 1.5923 - dense_9_loss: 1.5656 - dense_10_loss: 1.6193 - dense_11_loss: 1.4854 - dense_12_loss: 1.6673 - dense_13_loss: 1.6552 - dense_14_loss: 1.6220 - dense_15_loss: 1.5896 - dense_16_loss: 1.7210 - dense_17_loss: 1.5854 - dense_18_loss: 1.6046 - dense_19_loss: 1.7658 - dense_20_loss: 1.6817 - dense_21_loss: 1.6837 - dense_22_loss: 1.7478 - dense_23_loss: 1.6539 - dense_24_loss: 1.7150 - dense_25_loss: 1.6962 - dense_26_loss: 1.8926 - dense_27_loss: 1.5585 - dense_28_loss: 1.6289 - dense_29_loss: 1.6247 - dense_30_loss: 1.8339 - dense_31_loss: 0.0000e+00 - dense_2_acc: 0.1000 - dense_3_acc: 0.7167 - dense_4_acc: 0.7833 - dense_5_acc: 0.7000 - dense_6_acc: 0.6333 - dense_7_acc: 0.6333 - dense_8_acc: 0.6167 - dense_9_acc: 0.5167 - dense_10_acc: 0.6667 - dense_11_acc: 0.7000 - dense_12_acc: 0.6167 - dense_13_acc: 0.6167 - dense_14_acc: 0.6167 - dense_15_acc: 0.5833 - dense_16_acc: 0.5833 - dense_17_acc: 0.6167 - dense_18_acc: 0.5833 - dense_19_acc: 0.6000 - dense_20_acc: 0.5000 - dense_21_acc: 0.4667 - dense_22_acc: 0.7167 - dense_23_acc: 0.6667 - dense_24_acc: 0.5667 - dense_25_acc: 0.6333 - dense_26_acc: 0.5167 - dense_27_acc: 0.5667 - dense_28_acc: 0.5000 - dense_29_acc: 0.6167 - dense_30_acc: 0.5333 - dense_31_acc: 0.0000e+00\n",
      "Epoch 58/100\n",
      "60/60 [==============================] - 0s 5ms/step - loss: 47.9310 - dense_2_loss: 3.2643 - dense_3_loss: 1.5075 - dense_4_loss: 1.3815 - dense_5_loss: 1.4517 - dense_6_loss: 1.5036 - dense_7_loss: 1.6004 - dense_8_loss: 1.5506 - dense_9_loss: 1.5375 - dense_10_loss: 1.5676 - dense_11_loss: 1.4532 - dense_12_loss: 1.6297 - dense_13_loss: 1.6132 - dense_14_loss: 1.5785 - dense_15_loss: 1.5500 - dense_16_loss: 1.6813 - dense_17_loss: 1.5357 - dense_18_loss: 1.5619 - dense_19_loss: 1.7104 - dense_20_loss: 1.6437 - dense_21_loss: 1.6638 - dense_22_loss: 1.7059 - dense_23_loss: 1.6118 - dense_24_loss: 1.6640 - dense_25_loss: 1.6513 - dense_26_loss: 1.8576 - dense_27_loss: 1.5195 - dense_28_loss: 1.5696 - dense_29_loss: 1.5858 - dense_30_loss: 1.7795 - dense_31_loss: 0.0000e+00 - dense_2_acc: 0.1000 - dense_3_acc: 0.7167 - dense_4_acc: 0.8000 - dense_5_acc: 0.7167 - dense_6_acc: 0.6667 - dense_7_acc: 0.6333 - dense_8_acc: 0.6333 - dense_9_acc: 0.5667 - dense_10_acc: 0.6833 - dense_11_acc: 0.7000 - dense_12_acc: 0.6500 - dense_13_acc: 0.6500 - dense_14_acc: 0.6500 - dense_15_acc: 0.6000 - dense_16_acc: 0.5833 - dense_17_acc: 0.6333 - dense_18_acc: 0.6167 - dense_19_acc: 0.6333 - dense_20_acc: 0.5333 - dense_21_acc: 0.5000 - dense_22_acc: 0.7167 - dense_23_acc: 0.6667 - dense_24_acc: 0.6000 - dense_25_acc: 0.6500 - dense_26_acc: 0.5667 - dense_27_acc: 0.6000 - dense_28_acc: 0.5333 - dense_29_acc: 0.6333 - dense_30_acc: 0.5667 - dense_31_acc: 0.0000e+00\n",
      "Epoch 59/100\n",
      "60/60 [==============================] - 0s 5ms/step - loss: 46.7577 - dense_2_loss: 3.2626 - dense_3_loss: 1.4669 - dense_4_loss: 1.3413 - dense_5_loss: 1.4044 - dense_6_loss: 1.4574 - dense_7_loss: 1.5562 - dense_8_loss: 1.5018 - dense_9_loss: 1.4938 - dense_10_loss: 1.5286 - dense_11_loss: 1.4191 - dense_12_loss: 1.5869 - dense_13_loss: 1.5713 - dense_14_loss: 1.5378 - dense_15_loss: 1.5175 - dense_16_loss: 1.6377 - dense_17_loss: 1.5060 - dense_18_loss: 1.5182 - dense_19_loss: 1.6694 - dense_20_loss: 1.6081 - dense_21_loss: 1.6159 - dense_22_loss: 1.6624 - dense_23_loss: 1.5622 - dense_24_loss: 1.6303 - dense_25_loss: 1.6120 - dense_26_loss: 1.8071 - dense_27_loss: 1.4876 - dense_28_loss: 1.5228 - dense_29_loss: 1.5344 - dense_30_loss: 1.7380 - dense_31_loss: 0.0000e+00 - dense_2_acc: 0.1000 - dense_3_acc: 0.7167 - dense_4_acc: 0.8167 - dense_5_acc: 0.7167 - dense_6_acc: 0.6833 - dense_7_acc: 0.6500 - dense_8_acc: 0.7167 - dense_9_acc: 0.6167 - dense_10_acc: 0.7167 - dense_11_acc: 0.7000 - dense_12_acc: 0.6833 - dense_13_acc: 0.7167 - dense_14_acc: 0.6500 - dense_15_acc: 0.6500 - dense_16_acc: 0.6333 - dense_17_acc: 0.6500 - dense_18_acc: 0.6333 - dense_19_acc: 0.6167 - dense_20_acc: 0.5500 - dense_21_acc: 0.5000 - dense_22_acc: 0.7000 - dense_23_acc: 0.6833 - dense_24_acc: 0.6167 - dense_25_acc: 0.6500 - dense_26_acc: 0.5667 - dense_27_acc: 0.6167 - dense_28_acc: 0.5333 - dense_29_acc: 0.6167 - dense_30_acc: 0.5667 - dense_31_acc: 0.0000e+00\n",
      "Epoch 60/100\n",
      "60/60 [==============================] - 0s 5ms/step - loss: 45.6017 - dense_2_loss: 3.2615 - dense_3_loss: 1.4269 - dense_4_loss: 1.2987 - dense_5_loss: 1.3585 - dense_6_loss: 1.4160 - dense_7_loss: 1.5104 - dense_8_loss: 1.4533 - dense_9_loss: 1.4532 - dense_10_loss: 1.4942 - dense_11_loss: 1.3765 - dense_12_loss: 1.5476 - dense_13_loss: 1.5330 - dense_14_loss: 1.4974 - dense_15_loss: 1.4853 - dense_16_loss: 1.6006 - dense_17_loss: 1.4718 - dense_18_loss: 1.4811 - dense_19_loss: 1.6381 - dense_20_loss: 1.5661 - dense_21_loss: 1.5551 - dense_22_loss: 1.6086 - dense_23_loss: 1.5143 - dense_24_loss: 1.5883 - dense_25_loss: 1.5712 - dense_26_loss: 1.7677 - dense_27_loss: 1.4447 - dense_28_loss: 1.4905 - dense_29_loss: 1.4962 - dense_30_loss: 1.6948 - dense_31_loss: 0.0000e+00 - dense_2_acc: 0.1000 - dense_3_acc: 0.7333 - dense_4_acc: 0.8333 - dense_5_acc: 0.7333 - dense_6_acc: 0.6833 - dense_7_acc: 0.6500 - dense_8_acc: 0.7167 - dense_9_acc: 0.6500 - dense_10_acc: 0.7167 - dense_11_acc: 0.7000 - dense_12_acc: 0.6833 - dense_13_acc: 0.7333 - dense_14_acc: 0.7167 - dense_15_acc: 0.6333 - dense_16_acc: 0.6500 - dense_17_acc: 0.6833 - dense_18_acc: 0.6333 - dense_19_acc: 0.6667 - dense_20_acc: 0.5500 - dense_21_acc: 0.5833 - dense_22_acc: 0.7000 - dense_23_acc: 0.6667 - dense_24_acc: 0.6333 - dense_25_acc: 0.6833 - dense_26_acc: 0.6000 - dense_27_acc: 0.6333 - dense_28_acc: 0.5833 - dense_29_acc: 0.6500 - dense_30_acc: 0.6167 - dense_31_acc: 0.0000e+00\n",
      "Epoch 61/100\n"
     ]
    },
    {
     "name": "stdout",
     "output_type": "stream",
     "text": [
      "60/60 [==============================] - 0s 5ms/step - loss: 44.3798 - dense_2_loss: 3.2605 - dense_3_loss: 1.3885 - dense_4_loss: 1.2592 - dense_5_loss: 1.3152 - dense_6_loss: 1.3796 - dense_7_loss: 1.4636 - dense_8_loss: 1.4076 - dense_9_loss: 1.4164 - dense_10_loss: 1.4501 - dense_11_loss: 1.3371 - dense_12_loss: 1.5042 - dense_13_loss: 1.4857 - dense_14_loss: 1.4480 - dense_15_loss: 1.4359 - dense_16_loss: 1.5578 - dense_17_loss: 1.4273 - dense_18_loss: 1.4291 - dense_19_loss: 1.5904 - dense_20_loss: 1.5257 - dense_21_loss: 1.5132 - dense_22_loss: 1.5673 - dense_23_loss: 1.4753 - dense_24_loss: 1.5424 - dense_25_loss: 1.5180 - dense_26_loss: 1.7024 - dense_27_loss: 1.4084 - dense_28_loss: 1.4569 - dense_29_loss: 1.4714 - dense_30_loss: 1.6427 - dense_31_loss: 0.0000e+00 - dense_2_acc: 0.1000 - dense_3_acc: 0.7333 - dense_4_acc: 0.8500 - dense_5_acc: 0.7333 - dense_6_acc: 0.7000 - dense_7_acc: 0.6833 - dense_8_acc: 0.7333 - dense_9_acc: 0.6500 - dense_10_acc: 0.7500 - dense_11_acc: 0.7000 - dense_12_acc: 0.7167 - dense_13_acc: 0.7167 - dense_14_acc: 0.7000 - dense_15_acc: 0.6333 - dense_16_acc: 0.6500 - dense_17_acc: 0.6833 - dense_18_acc: 0.6333 - dense_19_acc: 0.6833 - dense_20_acc: 0.5500 - dense_21_acc: 0.5833 - dense_22_acc: 0.7000 - dense_23_acc: 0.7333 - dense_24_acc: 0.6667 - dense_25_acc: 0.7000 - dense_26_acc: 0.6333 - dense_27_acc: 0.6167 - dense_28_acc: 0.6333 - dense_29_acc: 0.6333 - dense_30_acc: 0.6333 - dense_31_acc: 0.0000e+00\n",
      "Epoch 62/100\n",
      "60/60 [==============================] - 0s 5ms/step - loss: 43.3370 - dense_2_loss: 3.2592 - dense_3_loss: 1.3515 - dense_4_loss: 1.2210 - dense_5_loss: 1.2750 - dense_6_loss: 1.3399 - dense_7_loss: 1.4212 - dense_8_loss: 1.3665 - dense_9_loss: 1.3845 - dense_10_loss: 1.4101 - dense_11_loss: 1.2979 - dense_12_loss: 1.4676 - dense_13_loss: 1.4448 - dense_14_loss: 1.4214 - dense_15_loss: 1.4016 - dense_16_loss: 1.5225 - dense_17_loss: 1.3996 - dense_18_loss: 1.3897 - dense_19_loss: 1.5444 - dense_20_loss: 1.4939 - dense_21_loss: 1.4789 - dense_22_loss: 1.5218 - dense_23_loss: 1.4419 - dense_24_loss: 1.5136 - dense_25_loss: 1.4811 - dense_26_loss: 1.6585 - dense_27_loss: 1.3647 - dense_28_loss: 1.4168 - dense_29_loss: 1.4376 - dense_30_loss: 1.6099 - dense_31_loss: 0.0000e+00 - dense_2_acc: 0.1000 - dense_3_acc: 0.7333 - dense_4_acc: 0.8500 - dense_5_acc: 0.7333 - dense_6_acc: 0.7333 - dense_7_acc: 0.7500 - dense_8_acc: 0.7333 - dense_9_acc: 0.6833 - dense_10_acc: 0.7333 - dense_11_acc: 0.7167 - dense_12_acc: 0.7333 - dense_13_acc: 0.7833 - dense_14_acc: 0.7667 - dense_15_acc: 0.6667 - dense_16_acc: 0.6833 - dense_17_acc: 0.7333 - dense_18_acc: 0.6500 - dense_19_acc: 0.7167 - dense_20_acc: 0.5833 - dense_21_acc: 0.6500 - dense_22_acc: 0.7333 - dense_23_acc: 0.7667 - dense_24_acc: 0.6667 - dense_25_acc: 0.6833 - dense_26_acc: 0.6667 - dense_27_acc: 0.6667 - dense_28_acc: 0.6667 - dense_29_acc: 0.6500 - dense_30_acc: 0.6500 - dense_31_acc: 0.0000e+00\n",
      "Epoch 63/100\n",
      "60/60 [==============================] - 0s 7ms/step - loss: 42.1778 - dense_2_loss: 3.2579 - dense_3_loss: 1.3147 - dense_4_loss: 1.1830 - dense_5_loss: 1.2320 - dense_6_loss: 1.3017 - dense_7_loss: 1.3814 - dense_8_loss: 1.3219 - dense_9_loss: 1.3412 - dense_10_loss: 1.3772 - dense_11_loss: 1.2561 - dense_12_loss: 1.4278 - dense_13_loss: 1.4081 - dense_14_loss: 1.3678 - dense_15_loss: 1.3665 - dense_16_loss: 1.4789 - dense_17_loss: 1.3519 - dense_18_loss: 1.3486 - dense_19_loss: 1.4977 - dense_20_loss: 1.4430 - dense_21_loss: 1.4432 - dense_22_loss: 1.4797 - dense_23_loss: 1.3987 - dense_24_loss: 1.4725 - dense_25_loss: 1.4456 - dense_26_loss: 1.6326 - dense_27_loss: 1.3300 - dense_28_loss: 1.3796 - dense_29_loss: 1.3851 - dense_30_loss: 1.5534 - dense_31_loss: 0.0000e+00 - dense_2_acc: 0.1000 - dense_3_acc: 0.7333 - dense_4_acc: 0.8667 - dense_5_acc: 0.7833 - dense_6_acc: 0.7500 - dense_7_acc: 0.7667 - dense_8_acc: 0.7333 - dense_9_acc: 0.6833 - dense_10_acc: 0.7667 - dense_11_acc: 0.7833 - dense_12_acc: 0.7500 - dense_13_acc: 0.8000 - dense_14_acc: 0.7667 - dense_15_acc: 0.6667 - dense_16_acc: 0.7167 - dense_17_acc: 0.7500 - dense_18_acc: 0.6667 - dense_19_acc: 0.7167 - dense_20_acc: 0.5667 - dense_21_acc: 0.7000 - dense_22_acc: 0.7833 - dense_23_acc: 0.7667 - dense_24_acc: 0.6833 - dense_25_acc: 0.7000 - dense_26_acc: 0.7000 - dense_27_acc: 0.7000 - dense_28_acc: 0.6833 - dense_29_acc: 0.6333 - dense_30_acc: 0.7000 - dense_31_acc: 0.0000e+00\n",
      "Epoch 64/100\n",
      "60/60 [==============================] - 0s 5ms/step - loss: 41.1287 - dense_2_loss: 3.2571 - dense_3_loss: 1.2813 - dense_4_loss: 1.1467 - dense_5_loss: 1.1893 - dense_6_loss: 1.2646 - dense_7_loss: 1.3356 - dense_8_loss: 1.2771 - dense_9_loss: 1.3060 - dense_10_loss: 1.3358 - dense_11_loss: 1.2323 - dense_12_loss: 1.3911 - dense_13_loss: 1.3675 - dense_14_loss: 1.3352 - dense_15_loss: 1.3375 - dense_16_loss: 1.4443 - dense_17_loss: 1.3234 - dense_18_loss: 1.3113 - dense_19_loss: 1.4657 - dense_20_loss: 1.4135 - dense_21_loss: 1.4035 - dense_22_loss: 1.4346 - dense_23_loss: 1.3560 - dense_24_loss: 1.4378 - dense_25_loss: 1.4027 - dense_26_loss: 1.5875 - dense_27_loss: 1.2871 - dense_28_loss: 1.3378 - dense_29_loss: 1.3482 - dense_30_loss: 1.5181 - dense_31_loss: 0.0000e+00 - dense_2_acc: 0.1000 - dense_3_acc: 0.7333 - dense_4_acc: 0.8667 - dense_5_acc: 0.8000 - dense_6_acc: 0.7667 - dense_7_acc: 0.8167 - dense_8_acc: 0.7833 - dense_9_acc: 0.7000 - dense_10_acc: 0.7833 - dense_11_acc: 0.7833 - dense_12_acc: 0.7667 - dense_13_acc: 0.8000 - dense_14_acc: 0.7833 - dense_15_acc: 0.6667 - dense_16_acc: 0.7333 - dense_17_acc: 0.7500 - dense_18_acc: 0.7000 - dense_19_acc: 0.7500 - dense_20_acc: 0.5833 - dense_21_acc: 0.7167 - dense_22_acc: 0.7833 - dense_23_acc: 0.7667 - dense_24_acc: 0.7000 - dense_25_acc: 0.7167 - dense_26_acc: 0.7333 - dense_27_acc: 0.7000 - dense_28_acc: 0.6833 - dense_29_acc: 0.6833 - dense_30_acc: 0.6833 - dense_31_acc: 0.0000e+00\n",
      "Epoch 65/100\n",
      "60/60 [==============================] - 0s 5ms/step - loss: 40.0844 - dense_2_loss: 3.2561 - dense_3_loss: 1.2473 - dense_4_loss: 1.1111 - dense_5_loss: 1.1510 - dense_6_loss: 1.2282 - dense_7_loss: 1.2921 - dense_8_loss: 1.2376 - dense_9_loss: 1.2741 - dense_10_loss: 1.2945 - dense_11_loss: 1.1965 - dense_12_loss: 1.3527 - dense_13_loss: 1.3226 - dense_14_loss: 1.2986 - dense_15_loss: 1.2901 - dense_16_loss: 1.4043 - dense_17_loss: 1.2937 - dense_18_loss: 1.2719 - dense_19_loss: 1.4250 - dense_20_loss: 1.3793 - dense_21_loss: 1.3697 - dense_22_loss: 1.4037 - dense_23_loss: 1.3291 - dense_24_loss: 1.3964 - dense_25_loss: 1.3615 - dense_26_loss: 1.5332 - dense_27_loss: 1.2527 - dense_28_loss: 1.3068 - dense_29_loss: 1.3231 - dense_30_loss: 1.4817 - dense_31_loss: 0.0000e+00 - dense_2_acc: 0.1000 - dense_3_acc: 0.7333 - dense_4_acc: 0.8833 - dense_5_acc: 0.8000 - dense_6_acc: 0.7667 - dense_7_acc: 0.8333 - dense_8_acc: 0.7833 - dense_9_acc: 0.7000 - dense_10_acc: 0.7833 - dense_11_acc: 0.8167 - dense_12_acc: 0.7833 - dense_13_acc: 0.8333 - dense_14_acc: 0.8167 - dense_15_acc: 0.7167 - dense_16_acc: 0.7333 - dense_17_acc: 0.7667 - dense_18_acc: 0.7500 - dense_19_acc: 0.7500 - dense_20_acc: 0.6333 - dense_21_acc: 0.7333 - dense_22_acc: 0.8167 - dense_23_acc: 0.8000 - dense_24_acc: 0.7167 - dense_25_acc: 0.7333 - dense_26_acc: 0.7667 - dense_27_acc: 0.7333 - dense_28_acc: 0.6667 - dense_29_acc: 0.6833 - dense_30_acc: 0.6833 - dense_31_acc: 0.0000e+00\n",
      "Epoch 66/100\n"
     ]
    },
    {
     "name": "stdout",
     "output_type": "stream",
     "text": [
      "60/60 [==============================] - 0s 4ms/step - loss: 39.0696 - dense_2_loss: 3.2553 - dense_3_loss: 1.2152 - dense_4_loss: 1.0771 - dense_5_loss: 1.1134 - dense_6_loss: 1.1918 - dense_7_loss: 1.2563 - dense_8_loss: 1.2016 - dense_9_loss: 1.2380 - dense_10_loss: 1.2578 - dense_11_loss: 1.1535 - dense_12_loss: 1.3130 - dense_13_loss: 1.2945 - dense_14_loss: 1.2539 - dense_15_loss: 1.2653 - dense_16_loss: 1.3630 - dense_17_loss: 1.2502 - dense_18_loss: 1.2377 - dense_19_loss: 1.3811 - dense_20_loss: 1.3334 - dense_21_loss: 1.3387 - dense_22_loss: 1.3532 - dense_23_loss: 1.2934 - dense_24_loss: 1.3655 - dense_25_loss: 1.3370 - dense_26_loss: 1.5161 - dense_27_loss: 1.2180 - dense_28_loss: 1.2753 - dense_29_loss: 1.2859 - dense_30_loss: 1.4345 - dense_31_loss: 0.0000e+00 - dense_2_acc: 0.1000 - dense_3_acc: 0.7333 - dense_4_acc: 0.8833 - dense_5_acc: 0.8167 - dense_6_acc: 0.7667 - dense_7_acc: 0.8000 - dense_8_acc: 0.8000 - dense_9_acc: 0.6833 - dense_10_acc: 0.8000 - dense_11_acc: 0.8333 - dense_12_acc: 0.7833 - dense_13_acc: 0.8333 - dense_14_acc: 0.8000 - dense_15_acc: 0.7000 - dense_16_acc: 0.7500 - dense_17_acc: 0.8167 - dense_18_acc: 0.7500 - dense_19_acc: 0.8000 - dense_20_acc: 0.6333 - dense_21_acc: 0.7167 - dense_22_acc: 0.7833 - dense_23_acc: 0.8167 - dense_24_acc: 0.7500 - dense_25_acc: 0.7333 - dense_26_acc: 0.7667 - dense_27_acc: 0.7667 - dense_28_acc: 0.7000 - dense_29_acc: 0.7333 - dense_30_acc: 0.7167 - dense_31_acc: 0.0000e+00\n",
      "Epoch 67/100\n",
      "60/60 [==============================] - 0s 5ms/step - loss: 38.0762 - dense_2_loss: 3.2542 - dense_3_loss: 1.1851 - dense_4_loss: 1.0456 - dense_5_loss: 1.0746 - dense_6_loss: 1.1603 - dense_7_loss: 1.2168 - dense_8_loss: 1.1623 - dense_9_loss: 1.1995 - dense_10_loss: 1.2245 - dense_11_loss: 1.1230 - dense_12_loss: 1.2745 - dense_13_loss: 1.2628 - dense_14_loss: 1.2241 - dense_15_loss: 1.2376 - dense_16_loss: 1.3291 - dense_17_loss: 1.2292 - dense_18_loss: 1.2145 - dense_19_loss: 1.3489 - dense_20_loss: 1.2905 - dense_21_loss: 1.2897 - dense_22_loss: 1.3221 - dense_23_loss: 1.2511 - dense_24_loss: 1.3361 - dense_25_loss: 1.2883 - dense_26_loss: 1.4722 - dense_27_loss: 1.1825 - dense_28_loss: 1.2410 - dense_29_loss: 1.2457 - dense_30_loss: 1.3904 - dense_31_loss: 0.0000e+00 - dense_2_acc: 0.1000 - dense_3_acc: 0.7333 - dense_4_acc: 0.8833 - dense_5_acc: 0.8167 - dense_6_acc: 0.7833 - dense_7_acc: 0.8333 - dense_8_acc: 0.8167 - dense_9_acc: 0.7000 - dense_10_acc: 0.7833 - dense_11_acc: 0.8333 - dense_12_acc: 0.7833 - dense_13_acc: 0.8667 - dense_14_acc: 0.8000 - dense_15_acc: 0.7333 - dense_16_acc: 0.7667 - dense_17_acc: 0.8167 - dense_18_acc: 0.7833 - dense_19_acc: 0.7833 - dense_20_acc: 0.7333 - dense_21_acc: 0.7667 - dense_22_acc: 0.8000 - dense_23_acc: 0.8167 - dense_24_acc: 0.7000 - dense_25_acc: 0.8167 - dense_26_acc: 0.7667 - dense_27_acc: 0.7833 - dense_28_acc: 0.7167 - dense_29_acc: 0.7167 - dense_30_acc: 0.7333 - dense_31_acc: 0.0000e+00\n",
      "Epoch 68/100\n",
      "60/60 [==============================] - 0s 6ms/step - loss: 37.1207 - dense_2_loss: 3.2533 - dense_3_loss: 1.1569 - dense_4_loss: 1.0137 - dense_5_loss: 1.0393 - dense_6_loss: 1.1265 - dense_7_loss: 1.1770 - dense_8_loss: 1.1306 - dense_9_loss: 1.1700 - dense_10_loss: 1.1863 - dense_11_loss: 1.1040 - dense_12_loss: 1.2494 - dense_13_loss: 1.2215 - dense_14_loss: 1.1923 - dense_15_loss: 1.1919 - dense_16_loss: 1.2978 - dense_17_loss: 1.1901 - dense_18_loss: 1.1774 - dense_19_loss: 1.3027 - dense_20_loss: 1.2593 - dense_21_loss: 1.2716 - dense_22_loss: 1.2830 - dense_23_loss: 1.2122 - dense_24_loss: 1.2872 - dense_25_loss: 1.2575 - dense_26_loss: 1.4386 - dense_27_loss: 1.1413 - dense_28_loss: 1.2078 - dense_29_loss: 1.2198 - dense_30_loss: 1.3617 - dense_31_loss: 0.0000e+00 - dense_2_acc: 0.1000 - dense_3_acc: 0.7333 - dense_4_acc: 0.8833 - dense_5_acc: 0.8333 - dense_6_acc: 0.8000 - dense_7_acc: 0.8500 - dense_8_acc: 0.8167 - dense_9_acc: 0.7500 - dense_10_acc: 0.7833 - dense_11_acc: 0.8167 - dense_12_acc: 0.7833 - dense_13_acc: 0.8833 - dense_14_acc: 0.8167 - dense_15_acc: 0.7500 - dense_16_acc: 0.7667 - dense_17_acc: 0.8333 - dense_18_acc: 0.7833 - dense_19_acc: 0.8333 - dense_20_acc: 0.7667 - dense_21_acc: 0.7333 - dense_22_acc: 0.8167 - dense_23_acc: 0.8500 - dense_24_acc: 0.7833 - dense_25_acc: 0.8167 - dense_26_acc: 0.8167 - dense_27_acc: 0.8333 - dense_28_acc: 0.7167 - dense_29_acc: 0.7000 - dense_30_acc: 0.7167 - dense_31_acc: 0.0000e+00\n",
      "Epoch 69/100\n",
      "60/60 [==============================] - 0s 5ms/step - loss: 36.2023 - dense_2_loss: 3.2525 - dense_3_loss: 1.1281 - dense_4_loss: 0.9824 - dense_5_loss: 1.0047 - dense_6_loss: 1.0947 - dense_7_loss: 1.1456 - dense_8_loss: 1.0944 - dense_9_loss: 1.1300 - dense_10_loss: 1.1554 - dense_11_loss: 1.0652 - dense_12_loss: 1.2063 - dense_13_loss: 1.1883 - dense_14_loss: 1.1638 - dense_15_loss: 1.1654 - dense_16_loss: 1.2701 - dense_17_loss: 1.1786 - dense_18_loss: 1.1490 - dense_19_loss: 1.2685 - dense_20_loss: 1.2327 - dense_21_loss: 1.2294 - dense_22_loss: 1.2589 - dense_23_loss: 1.1796 - dense_24_loss: 1.2605 - dense_25_loss: 1.2158 - dense_26_loss: 1.3837 - dense_27_loss: 1.1194 - dense_28_loss: 1.1672 - dense_29_loss: 1.1895 - dense_30_loss: 1.3228 - dense_31_loss: 0.0000e+00 - dense_2_acc: 0.1000 - dense_3_acc: 0.7333 - dense_4_acc: 0.9167 - dense_5_acc: 0.8333 - dense_6_acc: 0.8167 - dense_7_acc: 0.8667 - dense_8_acc: 0.8500 - dense_9_acc: 0.7667 - dense_10_acc: 0.8167 - dense_11_acc: 0.8333 - dense_12_acc: 0.8167 - dense_13_acc: 0.9000 - dense_14_acc: 0.8167 - dense_15_acc: 0.7500 - dense_16_acc: 0.7833 - dense_17_acc: 0.8500 - dense_18_acc: 0.8000 - dense_19_acc: 0.8333 - dense_20_acc: 0.7833 - dense_21_acc: 0.7667 - dense_22_acc: 0.8333 - dense_23_acc: 0.8500 - dense_24_acc: 0.7833 - dense_25_acc: 0.8500 - dense_26_acc: 0.8500 - dense_27_acc: 0.8500 - dense_28_acc: 0.7333 - dense_29_acc: 0.7667 - dense_30_acc: 0.7500 - dense_31_acc: 0.0000e+00\n",
      "Epoch 70/100\n",
      "60/60 [==============================] - 0s 5ms/step - loss: 35.2258 - dense_2_loss: 3.2515 - dense_3_loss: 1.1014 - dense_4_loss: 0.9517 - dense_5_loss: 0.9679 - dense_6_loss: 1.0616 - dense_7_loss: 1.1066 - dense_8_loss: 1.0555 - dense_9_loss: 1.1004 - dense_10_loss: 1.1174 - dense_11_loss: 1.0292 - dense_12_loss: 1.1743 - dense_13_loss: 1.1556 - dense_14_loss: 1.1184 - dense_15_loss: 1.1314 - dense_16_loss: 1.2303 - dense_17_loss: 1.1251 - dense_18_loss: 1.1091 - dense_19_loss: 1.2303 - dense_20_loss: 1.1823 - dense_21_loss: 1.2063 - dense_22_loss: 1.2139 - dense_23_loss: 1.1544 - dense_24_loss: 1.2268 - dense_25_loss: 1.1936 - dense_26_loss: 1.3737 - dense_27_loss: 1.0736 - dense_28_loss: 1.1405 - dense_29_loss: 1.1551 - dense_30_loss: 1.2878 - dense_31_loss: 0.0000e+00 - dense_2_acc: 0.1000 - dense_3_acc: 0.7333 - dense_4_acc: 0.9333 - dense_5_acc: 0.8833 - dense_6_acc: 0.8667 - dense_7_acc: 0.8667 - dense_8_acc: 0.8500 - dense_9_acc: 0.8000 - dense_10_acc: 0.8333 - dense_11_acc: 0.8333 - dense_12_acc: 0.8000 - dense_13_acc: 0.9000 - dense_14_acc: 0.8333 - dense_15_acc: 0.7667 - dense_16_acc: 0.7833 - dense_17_acc: 0.8833 - dense_18_acc: 0.8333 - dense_19_acc: 0.8500 - dense_20_acc: 0.7833 - dense_21_acc: 0.7333 - dense_22_acc: 0.8167 - dense_23_acc: 0.8500 - dense_24_acc: 0.7833 - dense_25_acc: 0.8667 - dense_26_acc: 0.8667 - dense_27_acc: 0.8667 - dense_28_acc: 0.7667 - dense_29_acc: 0.7333 - dense_30_acc: 0.7667 - dense_31_acc: 0.0000e+00\n",
      "Epoch 71/100\n"
     ]
    },
    {
     "name": "stdout",
     "output_type": "stream",
     "text": [
      "60/60 [==============================] - 0s 5ms/step - loss: 34.3850 - dense_2_loss: 3.2508 - dense_3_loss: 1.0763 - dense_4_loss: 0.9235 - dense_5_loss: 0.9371 - dense_6_loss: 1.0331 - dense_7_loss: 1.0710 - dense_8_loss: 1.0265 - dense_9_loss: 1.0722 - dense_10_loss: 1.0793 - dense_11_loss: 1.0044 - dense_12_loss: 1.1414 - dense_13_loss: 1.1195 - dense_14_loss: 1.0873 - dense_15_loss: 1.1033 - dense_16_loss: 1.1994 - dense_17_loss: 1.0936 - dense_18_loss: 1.0766 - dense_19_loss: 1.1893 - dense_20_loss: 1.1554 - dense_21_loss: 1.1840 - dense_22_loss: 1.1845 - dense_23_loss: 1.1208 - dense_24_loss: 1.1909 - dense_25_loss: 1.1642 - dense_26_loss: 1.3466 - dense_27_loss: 1.0467 - dense_28_loss: 1.1105 - dense_29_loss: 1.1347 - dense_30_loss: 1.2620 - dense_31_loss: 0.0000e+00 - dense_2_acc: 0.1000 - dense_3_acc: 0.7333 - dense_4_acc: 0.9333 - dense_5_acc: 0.9167 - dense_6_acc: 0.8500 - dense_7_acc: 0.8833 - dense_8_acc: 0.8667 - dense_9_acc: 0.7667 - dense_10_acc: 0.8333 - dense_11_acc: 0.8333 - dense_12_acc: 0.8500 - dense_13_acc: 0.9167 - dense_14_acc: 0.8333 - dense_15_acc: 0.7667 - dense_16_acc: 0.8167 - dense_17_acc: 0.9000 - dense_18_acc: 0.8167 - dense_19_acc: 0.8667 - dense_20_acc: 0.7833 - dense_21_acc: 0.7167 - dense_22_acc: 0.8333 - dense_23_acc: 0.8667 - dense_24_acc: 0.8167 - dense_25_acc: 0.8667 - dense_26_acc: 0.8667 - dense_27_acc: 0.8667 - dense_28_acc: 0.7500 - dense_29_acc: 0.7500 - dense_30_acc: 0.7333 - dense_31_acc: 0.0000e+00\n",
      "Epoch 72/100\n",
      "60/60 [==============================] - 0s 5ms/step - loss: 33.4755 - dense_2_loss: 3.2500 - dense_3_loss: 1.0526 - dense_4_loss: 0.8960 - dense_5_loss: 0.9077 - dense_6_loss: 1.0053 - dense_7_loss: 1.0383 - dense_8_loss: 0.9907 - dense_9_loss: 1.0437 - dense_10_loss: 1.0552 - dense_11_loss: 0.9772 - dense_12_loss: 1.0997 - dense_13_loss: 1.0851 - dense_14_loss: 1.0595 - dense_15_loss: 1.0687 - dense_16_loss: 1.1692 - dense_17_loss: 1.0788 - dense_18_loss: 1.0427 - dense_19_loss: 1.1509 - dense_20_loss: 1.1271 - dense_21_loss: 1.1378 - dense_22_loss: 1.1543 - dense_23_loss: 1.0898 - dense_24_loss: 1.1696 - dense_25_loss: 1.1179 - dense_26_loss: 1.2797 - dense_27_loss: 1.0218 - dense_28_loss: 1.0847 - dense_29_loss: 1.1039 - dense_30_loss: 1.2177 - dense_31_loss: 0.0000e+00 - dense_2_acc: 0.1000 - dense_3_acc: 0.7333 - dense_4_acc: 0.9500 - dense_5_acc: 0.9167 - dense_6_acc: 0.8667 - dense_7_acc: 0.8833 - dense_8_acc: 0.8833 - dense_9_acc: 0.8500 - dense_10_acc: 0.8167 - dense_11_acc: 0.8500 - dense_12_acc: 0.8500 - dense_13_acc: 0.9333 - dense_14_acc: 0.8500 - dense_15_acc: 0.8500 - dense_16_acc: 0.8333 - dense_17_acc: 0.9000 - dense_18_acc: 0.8500 - dense_19_acc: 0.8833 - dense_20_acc: 0.8000 - dense_21_acc: 0.7667 - dense_22_acc: 0.8167 - dense_23_acc: 0.8333 - dense_24_acc: 0.7833 - dense_25_acc: 0.8667 - dense_26_acc: 0.8667 - dense_27_acc: 0.9000 - dense_28_acc: 0.7667 - dense_29_acc: 0.7667 - dense_30_acc: 0.8000 - dense_31_acc: 0.0000e+00\n",
      "Epoch 73/100\n",
      "60/60 [==============================] - 0s 5ms/step - loss: 32.5625 - dense_2_loss: 3.2494 - dense_3_loss: 1.0296 - dense_4_loss: 0.8696 - dense_5_loss: 0.8761 - dense_6_loss: 0.9768 - dense_7_loss: 1.0040 - dense_8_loss: 0.9585 - dense_9_loss: 1.0127 - dense_10_loss: 1.0207 - dense_11_loss: 0.9460 - dense_12_loss: 1.0653 - dense_13_loss: 1.0588 - dense_14_loss: 1.0233 - dense_15_loss: 1.0415 - dense_16_loss: 1.1326 - dense_17_loss: 1.0398 - dense_18_loss: 1.0137 - dense_19_loss: 1.1237 - dense_20_loss: 1.0841 - dense_21_loss: 1.1088 - dense_22_loss: 1.1145 - dense_23_loss: 1.0562 - dense_24_loss: 1.1317 - dense_25_loss: 1.0889 - dense_26_loss: 1.2560 - dense_27_loss: 0.9850 - dense_28_loss: 1.0485 - dense_29_loss: 1.0704 - dense_30_loss: 1.1763 - dense_31_loss: 0.0000e+00 - dense_2_acc: 0.1000 - dense_3_acc: 0.7167 - dense_4_acc: 0.9500 - dense_5_acc: 0.9333 - dense_6_acc: 0.8833 - dense_7_acc: 0.8833 - dense_8_acc: 0.8833 - dense_9_acc: 0.8333 - dense_10_acc: 0.8500 - dense_11_acc: 0.8500 - dense_12_acc: 0.8667 - dense_13_acc: 0.9333 - dense_14_acc: 0.8667 - dense_15_acc: 0.8667 - dense_16_acc: 0.8500 - dense_17_acc: 0.9000 - dense_18_acc: 0.8333 - dense_19_acc: 0.8833 - dense_20_acc: 0.8000 - dense_21_acc: 0.7667 - dense_22_acc: 0.8167 - dense_23_acc: 0.8667 - dense_24_acc: 0.8167 - dense_25_acc: 0.8833 - dense_26_acc: 0.8833 - dense_27_acc: 0.9000 - dense_28_acc: 0.7833 - dense_29_acc: 0.7667 - dense_30_acc: 0.8333 - dense_31_acc: 0.0000e+00\n",
      "Epoch 74/100\n",
      "60/60 [==============================] - 0s 5ms/step - loss: 31.7333 - dense_2_loss: 3.2486 - dense_3_loss: 1.0071 - dense_4_loss: 0.8433 - dense_5_loss: 0.8452 - dense_6_loss: 0.9468 - dense_7_loss: 0.9721 - dense_8_loss: 0.9303 - dense_9_loss: 0.9787 - dense_10_loss: 0.9861 - dense_11_loss: 0.9159 - dense_12_loss: 1.0363 - dense_13_loss: 1.0260 - dense_14_loss: 0.9909 - dense_15_loss: 1.0125 - dense_16_loss: 1.1050 - dense_17_loss: 1.0092 - dense_18_loss: 0.9804 - dense_19_loss: 1.0869 - dense_20_loss: 1.0559 - dense_21_loss: 1.0886 - dense_22_loss: 1.0869 - dense_23_loss: 1.0214 - dense_24_loss: 1.0996 - dense_25_loss: 1.0663 - dense_26_loss: 1.2354 - dense_27_loss: 0.9545 - dense_28_loss: 1.0219 - dense_29_loss: 1.0426 - dense_30_loss: 1.1387 - dense_31_loss: 0.0000e+00 - dense_2_acc: 0.1000 - dense_3_acc: 0.7333 - dense_4_acc: 0.9500 - dense_5_acc: 0.9333 - dense_6_acc: 0.8833 - dense_7_acc: 0.8833 - dense_8_acc: 0.9000 - dense_9_acc: 0.8500 - dense_10_acc: 0.9000 - dense_11_acc: 0.8667 - dense_12_acc: 0.8833 - dense_13_acc: 0.9333 - dense_14_acc: 0.8833 - dense_15_acc: 0.8667 - dense_16_acc: 0.8333 - dense_17_acc: 0.9000 - dense_18_acc: 0.8333 - dense_19_acc: 0.9000 - dense_20_acc: 0.8000 - dense_21_acc: 0.7333 - dense_22_acc: 0.8167 - dense_23_acc: 0.8833 - dense_24_acc: 0.8167 - dense_25_acc: 0.8833 - dense_26_acc: 0.8667 - dense_27_acc: 0.9167 - dense_28_acc: 0.7833 - dense_29_acc: 0.8167 - dense_30_acc: 0.8167 - dense_31_acc: 0.0000e+00\n",
      "Epoch 75/100\n",
      "60/60 [==============================] - 0s 5ms/step - loss: 30.9373 - dense_2_loss: 3.2479 - dense_3_loss: 0.9867 - dense_4_loss: 0.8185 - dense_5_loss: 0.8174 - dense_6_loss: 0.9200 - dense_7_loss: 0.9422 - dense_8_loss: 0.9025 - dense_9_loss: 0.9554 - dense_10_loss: 0.9585 - dense_11_loss: 0.8909 - dense_12_loss: 1.0084 - dense_13_loss: 0.9941 - dense_14_loss: 0.9635 - dense_15_loss: 0.9850 - dense_16_loss: 1.0796 - dense_17_loss: 0.9865 - dense_18_loss: 0.9504 - dense_19_loss: 1.0600 - dense_20_loss: 1.0342 - dense_21_loss: 1.0559 - dense_22_loss: 1.0538 - dense_23_loss: 0.9938 - dense_24_loss: 1.0703 - dense_25_loss: 1.0281 - dense_26_loss: 1.1868 - dense_27_loss: 0.9339 - dense_28_loss: 0.9879 - dense_29_loss: 1.0237 - dense_30_loss: 1.1013 - dense_31_loss: 0.0000e+00 - dense_2_acc: 0.1000 - dense_3_acc: 0.7333 - dense_4_acc: 0.9500 - dense_5_acc: 0.9500 - dense_6_acc: 0.9167 - dense_7_acc: 0.8833 - dense_8_acc: 0.8833 - dense_9_acc: 0.9000 - dense_10_acc: 0.9000 - dense_11_acc: 0.8833 - dense_12_acc: 0.8833 - dense_13_acc: 0.9333 - dense_14_acc: 0.8833 - dense_15_acc: 0.8667 - dense_16_acc: 0.8333 - dense_17_acc: 0.9167 - dense_18_acc: 0.8500 - dense_19_acc: 0.9000 - dense_20_acc: 0.8333 - dense_21_acc: 0.8167 - dense_22_acc: 0.8667 - dense_23_acc: 0.8667 - dense_24_acc: 0.8500 - dense_25_acc: 0.9000 - dense_26_acc: 0.9000 - dense_27_acc: 0.9167 - dense_28_acc: 0.7833 - dense_29_acc: 0.8167 - dense_30_acc: 0.8667 - dense_31_acc: 0.0000e+00\n",
      "Epoch 76/100\n"
     ]
    },
    {
     "name": "stdout",
     "output_type": "stream",
     "text": [
      "60/60 [==============================] - 0s 6ms/step - loss: 30.1570 - dense_2_loss: 3.2475 - dense_3_loss: 0.9660 - dense_4_loss: 0.7957 - dense_5_loss: 0.7919 - dense_6_loss: 0.8934 - dense_7_loss: 0.9119 - dense_8_loss: 0.8740 - dense_9_loss: 0.9256 - dense_10_loss: 0.9326 - dense_11_loss: 0.8635 - dense_12_loss: 0.9805 - dense_13_loss: 0.9666 - dense_14_loss: 0.9392 - dense_15_loss: 0.9592 - dense_16_loss: 1.0539 - dense_17_loss: 0.9596 - dense_18_loss: 0.9277 - dense_19_loss: 1.0279 - dense_20_loss: 1.0020 - dense_21_loss: 1.0161 - dense_22_loss: 1.0283 - dense_23_loss: 0.9684 - dense_24_loss: 1.0483 - dense_25_loss: 0.9951 - dense_26_loss: 1.1576 - dense_27_loss: 0.9061 - dense_28_loss: 0.9612 - dense_29_loss: 0.9897 - dense_30_loss: 1.0678 - dense_31_loss: 0.0000e+00 - dense_2_acc: 0.1000 - dense_3_acc: 0.7333 - dense_4_acc: 0.9500 - dense_5_acc: 0.9667 - dense_6_acc: 0.9333 - dense_7_acc: 0.8833 - dense_8_acc: 0.9333 - dense_9_acc: 0.9000 - dense_10_acc: 0.9000 - dense_11_acc: 0.8667 - dense_12_acc: 0.9000 - dense_13_acc: 0.9333 - dense_14_acc: 0.8833 - dense_15_acc: 0.9000 - dense_16_acc: 0.8500 - dense_17_acc: 0.9000 - dense_18_acc: 0.9000 - dense_19_acc: 0.9000 - dense_20_acc: 0.8500 - dense_21_acc: 0.8167 - dense_22_acc: 0.8667 - dense_23_acc: 0.8667 - dense_24_acc: 0.8333 - dense_25_acc: 0.9167 - dense_26_acc: 0.9167 - dense_27_acc: 0.9000 - dense_28_acc: 0.8000 - dense_29_acc: 0.8333 - dense_30_acc: 0.8833 - dense_31_acc: 0.0000e+00\n",
      "Epoch 77/100\n",
      "60/60 [==============================] - 0s 5ms/step - loss: 29.3599 - dense_2_loss: 3.2466 - dense_3_loss: 0.9476 - dense_4_loss: 0.7707 - dense_5_loss: 0.7639 - dense_6_loss: 0.8680 - dense_7_loss: 0.8830 - dense_8_loss: 0.8437 - dense_9_loss: 0.8949 - dense_10_loss: 0.8975 - dense_11_loss: 0.8407 - dense_12_loss: 0.9486 - dense_13_loss: 0.9418 - dense_14_loss: 0.9077 - dense_15_loss: 0.9403 - dense_16_loss: 1.0229 - dense_17_loss: 0.9299 - dense_18_loss: 0.8987 - dense_19_loss: 0.9936 - dense_20_loss: 0.9750 - dense_21_loss: 0.9973 - dense_22_loss: 0.9992 - dense_23_loss: 0.9345 - dense_24_loss: 1.0105 - dense_25_loss: 0.9641 - dense_26_loss: 1.1267 - dense_27_loss: 0.8690 - dense_28_loss: 0.9403 - dense_29_loss: 0.9696 - dense_30_loss: 1.0336 - dense_31_loss: 0.0000e+00 - dense_2_acc: 0.1000 - dense_3_acc: 0.7333 - dense_4_acc: 0.9500 - dense_5_acc: 0.9667 - dense_6_acc: 0.9333 - dense_7_acc: 0.9000 - dense_8_acc: 0.9500 - dense_9_acc: 0.9000 - dense_10_acc: 0.9000 - dense_11_acc: 0.8833 - dense_12_acc: 0.9000 - dense_13_acc: 0.9333 - dense_14_acc: 0.9167 - dense_15_acc: 0.8833 - dense_16_acc: 0.8833 - dense_17_acc: 0.9167 - dense_18_acc: 0.8833 - dense_19_acc: 0.9333 - dense_20_acc: 0.8500 - dense_21_acc: 0.8667 - dense_22_acc: 0.8833 - dense_23_acc: 0.9000 - dense_24_acc: 0.8667 - dense_25_acc: 0.9167 - dense_26_acc: 0.9000 - dense_27_acc: 0.9500 - dense_28_acc: 0.8000 - dense_29_acc: 0.8500 - dense_30_acc: 0.8667 - dense_31_acc: 0.0000e+00\n",
      "Epoch 78/100\n",
      "60/60 [==============================] - 0s 5ms/step - loss: 28.6758 - dense_2_loss: 3.2465 - dense_3_loss: 0.9295 - dense_4_loss: 0.7490 - dense_5_loss: 0.7391 - dense_6_loss: 0.8419 - dense_7_loss: 0.8556 - dense_8_loss: 0.8211 - dense_9_loss: 0.8721 - dense_10_loss: 0.8699 - dense_11_loss: 0.8172 - dense_12_loss: 0.9170 - dense_13_loss: 0.9141 - dense_14_loss: 0.8814 - dense_15_loss: 0.9109 - dense_16_loss: 0.9916 - dense_17_loss: 0.9048 - dense_18_loss: 0.8770 - dense_19_loss: 0.9661 - dense_20_loss: 0.9440 - dense_21_loss: 0.9907 - dense_22_loss: 0.9757 - dense_23_loss: 0.9155 - dense_24_loss: 0.9791 - dense_25_loss: 0.9447 - dense_26_loss: 1.1100 - dense_27_loss: 0.8373 - dense_28_loss: 0.9166 - dense_29_loss: 0.9446 - dense_30_loss: 1.0129 - dense_31_loss: 0.0000e+00 - dense_2_acc: 0.1000 - dense_3_acc: 0.7333 - dense_4_acc: 0.9500 - dense_5_acc: 0.9667 - dense_6_acc: 0.9333 - dense_7_acc: 0.9167 - dense_8_acc: 0.9500 - dense_9_acc: 0.9000 - dense_10_acc: 0.9167 - dense_11_acc: 0.8833 - dense_12_acc: 0.9000 - dense_13_acc: 0.9333 - dense_14_acc: 0.9000 - dense_15_acc: 0.9167 - dense_16_acc: 0.8833 - dense_17_acc: 0.9167 - dense_18_acc: 0.8833 - dense_19_acc: 0.9333 - dense_20_acc: 0.8667 - dense_21_acc: 0.8000 - dense_22_acc: 0.8833 - dense_23_acc: 0.9000 - dense_24_acc: 0.8667 - dense_25_acc: 0.9333 - dense_26_acc: 0.9167 - dense_27_acc: 0.9500 - dense_28_acc: 0.8000 - dense_29_acc: 0.8333 - dense_30_acc: 0.8667 - dense_31_acc: 0.0000e+00\n",
      "Epoch 79/100\n",
      "60/60 [==============================] - 0s 5ms/step - loss: 27.9474 - dense_2_loss: 3.2455 - dense_3_loss: 0.9123 - dense_4_loss: 0.7280 - dense_5_loss: 0.7170 - dense_6_loss: 0.8188 - dense_7_loss: 0.8284 - dense_8_loss: 0.7933 - dense_9_loss: 0.8477 - dense_10_loss: 0.8486 - dense_11_loss: 0.7912 - dense_12_loss: 0.8910 - dense_13_loss: 0.8876 - dense_14_loss: 0.8573 - dense_15_loss: 0.8850 - dense_16_loss: 0.9691 - dense_17_loss: 0.8886 - dense_18_loss: 0.8485 - dense_19_loss: 0.9400 - dense_20_loss: 0.9173 - dense_21_loss: 0.9469 - dense_22_loss: 0.9479 - dense_23_loss: 0.8908 - dense_24_loss: 0.9594 - dense_25_loss: 0.9177 - dense_26_loss: 1.0637 - dense_27_loss: 0.8179 - dense_28_loss: 0.8923 - dense_29_loss: 0.9185 - dense_30_loss: 0.9771 - dense_31_loss: 0.0000e+00 - dense_2_acc: 0.1000 - dense_3_acc: 0.7333 - dense_4_acc: 0.9500 - dense_5_acc: 0.9667 - dense_6_acc: 0.9333 - dense_7_acc: 0.9167 - dense_8_acc: 0.9500 - dense_9_acc: 0.9167 - dense_10_acc: 0.9333 - dense_11_acc: 0.9333 - dense_12_acc: 0.9000 - dense_13_acc: 0.9333 - dense_14_acc: 0.9167 - dense_15_acc: 0.9167 - dense_16_acc: 0.8833 - dense_17_acc: 0.9167 - dense_18_acc: 0.9000 - dense_19_acc: 0.9500 - dense_20_acc: 0.9000 - dense_21_acc: 0.8500 - dense_22_acc: 0.9167 - dense_23_acc: 0.9167 - dense_24_acc: 0.9000 - dense_25_acc: 0.9167 - dense_26_acc: 0.9333 - dense_27_acc: 0.9500 - dense_28_acc: 0.8000 - dense_29_acc: 0.8333 - dense_30_acc: 0.9000 - dense_31_acc: 0.0000e+00\n",
      "Epoch 80/100\n",
      "60/60 [==============================] - 0s 5ms/step - loss: 27.2360 - dense_2_loss: 3.2451 - dense_3_loss: 0.8974 - dense_4_loss: 0.7078 - dense_5_loss: 0.6941 - dense_6_loss: 0.7956 - dense_7_loss: 0.8037 - dense_8_loss: 0.7661 - dense_9_loss: 0.8252 - dense_10_loss: 0.8231 - dense_11_loss: 0.7686 - dense_12_loss: 0.8685 - dense_13_loss: 0.8611 - dense_14_loss: 0.8336 - dense_15_loss: 0.8582 - dense_16_loss: 0.9406 - dense_17_loss: 0.8603 - dense_18_loss: 0.8271 - dense_19_loss: 0.9114 - dense_20_loss: 0.8874 - dense_21_loss: 0.9216 - dense_22_loss: 0.9215 - dense_23_loss: 0.8655 - dense_24_loss: 0.9304 - dense_25_loss: 0.8902 - dense_26_loss: 1.0347 - dense_27_loss: 0.7949 - dense_28_loss: 0.8609 - dense_29_loss: 0.8911 - dense_30_loss: 0.9503 - dense_31_loss: 0.0000e+00 - dense_2_acc: 0.1000 - dense_3_acc: 0.7333 - dense_4_acc: 0.9500 - dense_5_acc: 0.9667 - dense_6_acc: 0.9333 - dense_7_acc: 0.9333 - dense_8_acc: 0.9667 - dense_9_acc: 0.9333 - dense_10_acc: 0.9500 - dense_11_acc: 0.9500 - dense_12_acc: 0.9000 - dense_13_acc: 0.9500 - dense_14_acc: 0.9167 - dense_15_acc: 0.9167 - dense_16_acc: 0.9000 - dense_17_acc: 0.9167 - dense_18_acc: 0.9167 - dense_19_acc: 0.9667 - dense_20_acc: 0.9333 - dense_21_acc: 0.9000 - dense_22_acc: 0.9333 - dense_23_acc: 0.9167 - dense_24_acc: 0.9000 - dense_25_acc: 0.9333 - dense_26_acc: 0.9333 - dense_27_acc: 0.9667 - dense_28_acc: 0.8500 - dense_29_acc: 0.8500 - dense_30_acc: 0.9000 - dense_31_acc: 0.0000e+00\n",
      "Epoch 81/100\n"
     ]
    },
    {
     "name": "stdout",
     "output_type": "stream",
     "text": [
      "60/60 [==============================] - 0s 5ms/step - loss: 26.5811 - dense_2_loss: 3.2446 - dense_3_loss: 0.8805 - dense_4_loss: 0.6878 - dense_5_loss: 0.6695 - dense_6_loss: 0.7697 - dense_7_loss: 0.7776 - dense_8_loss: 0.7433 - dense_9_loss: 0.7968 - dense_10_loss: 0.7914 - dense_11_loss: 0.7443 - dense_12_loss: 0.8432 - dense_13_loss: 0.8375 - dense_14_loss: 0.8078 - dense_15_loss: 0.8372 - dense_16_loss: 0.9137 - dense_17_loss: 0.8344 - dense_18_loss: 0.8038 - dense_19_loss: 0.8787 - dense_20_loss: 0.8590 - dense_21_loss: 0.9139 - dense_22_loss: 0.8937 - dense_23_loss: 0.8468 - dense_24_loss: 0.9019 - dense_25_loss: 0.8746 - dense_26_loss: 1.0252 - dense_27_loss: 0.7627 - dense_28_loss: 0.8487 - dense_29_loss: 0.8675 - dense_30_loss: 0.9255 - dense_31_loss: 0.0000e+00 - dense_2_acc: 0.0833 - dense_3_acc: 0.7333 - dense_4_acc: 0.9500 - dense_5_acc: 0.9667 - dense_6_acc: 0.9333 - dense_7_acc: 0.9333 - dense_8_acc: 0.9667 - dense_9_acc: 0.9167 - dense_10_acc: 0.9667 - dense_11_acc: 0.9500 - dense_12_acc: 0.9000 - dense_13_acc: 0.9333 - dense_14_acc: 0.9167 - dense_15_acc: 0.9333 - dense_16_acc: 0.9000 - dense_17_acc: 0.9167 - dense_18_acc: 0.9167 - dense_19_acc: 0.9667 - dense_20_acc: 0.9333 - dense_21_acc: 0.8667 - dense_22_acc: 0.9333 - dense_23_acc: 0.9333 - dense_24_acc: 0.8833 - dense_25_acc: 0.9333 - dense_26_acc: 0.9167 - dense_27_acc: 0.9667 - dense_28_acc: 0.8167 - dense_29_acc: 0.9000 - dense_30_acc: 0.9167 - dense_31_acc: 0.0000e+00\n",
      "Epoch 82/100\n",
      "60/60 [==============================] - 0s 5ms/step - loss: 26.0183 - dense_2_loss: 3.2441 - dense_3_loss: 0.8665 - dense_4_loss: 0.6693 - dense_5_loss: 0.6478 - dense_6_loss: 0.7463 - dense_7_loss: 0.7536 - dense_8_loss: 0.7197 - dense_9_loss: 0.7682 - dense_10_loss: 0.7764 - dense_11_loss: 0.7219 - dense_12_loss: 0.8206 - dense_13_loss: 0.8116 - dense_14_loss: 0.7828 - dense_15_loss: 0.8199 - dense_16_loss: 0.8983 - dense_17_loss: 0.8100 - dense_18_loss: 0.7730 - dense_19_loss: 0.8674 - dense_20_loss: 0.8371 - dense_21_loss: 0.8929 - dense_22_loss: 0.8847 - dense_23_loss: 0.8210 - dense_24_loss: 0.8829 - dense_25_loss: 0.8585 - dense_26_loss: 0.9991 - dense_27_loss: 0.7504 - dense_28_loss: 0.8357 - dense_29_loss: 0.8581 - dense_30_loss: 0.9002 - dense_31_loss: 0.0000e+00 - dense_2_acc: 0.1000 - dense_3_acc: 0.7333 - dense_4_acc: 0.9500 - dense_5_acc: 0.9667 - dense_6_acc: 0.9333 - dense_7_acc: 0.9333 - dense_8_acc: 0.9667 - dense_9_acc: 0.9167 - dense_10_acc: 0.9500 - dense_11_acc: 0.9500 - dense_12_acc: 0.9000 - dense_13_acc: 0.9500 - dense_14_acc: 0.9000 - dense_15_acc: 0.9167 - dense_16_acc: 0.9000 - dense_17_acc: 0.9000 - dense_18_acc: 0.9333 - dense_19_acc: 0.9667 - dense_20_acc: 0.9333 - dense_21_acc: 0.9000 - dense_22_acc: 0.9333 - dense_23_acc: 0.9000 - dense_24_acc: 0.8667 - dense_25_acc: 0.9167 - dense_26_acc: 0.9500 - dense_27_acc: 0.9667 - dense_28_acc: 0.8500 - dense_29_acc: 0.9000 - dense_30_acc: 0.9167 - dense_31_acc: 0.0000e+00\n",
      "Epoch 83/100\n",
      "60/60 [==============================] - 0s 5ms/step - loss: 25.3907 - dense_2_loss: 3.2440 - dense_3_loss: 0.8523 - dense_4_loss: 0.6520 - dense_5_loss: 0.6308 - dense_6_loss: 0.7258 - dense_7_loss: 0.7338 - dense_8_loss: 0.6979 - dense_9_loss: 0.7532 - dense_10_loss: 0.7441 - dense_11_loss: 0.7011 - dense_12_loss: 0.7993 - dense_13_loss: 0.7975 - dense_14_loss: 0.7747 - dense_15_loss: 0.8034 - dense_16_loss: 0.8693 - dense_17_loss: 0.8031 - dense_18_loss: 0.7574 - dense_19_loss: 0.8345 - dense_20_loss: 0.8093 - dense_21_loss: 0.8535 - dense_22_loss: 0.8523 - dense_23_loss: 0.7979 - dense_24_loss: 0.8682 - dense_25_loss: 0.8272 - dense_26_loss: 0.9711 - dense_27_loss: 0.7215 - dense_28_loss: 0.8094 - dense_29_loss: 0.8246 - dense_30_loss: 0.8813 - dense_31_loss: 0.0000e+00 - dense_2_acc: 0.1000 - dense_3_acc: 0.7333 - dense_4_acc: 0.9500 - dense_5_acc: 0.9667 - dense_6_acc: 0.9333 - dense_7_acc: 0.9167 - dense_8_acc: 0.9500 - dense_9_acc: 0.9167 - dense_10_acc: 0.9500 - dense_11_acc: 0.9500 - dense_12_acc: 0.9000 - dense_13_acc: 0.9667 - dense_14_acc: 0.9167 - dense_15_acc: 0.9500 - dense_16_acc: 0.9000 - dense_17_acc: 0.9333 - dense_18_acc: 0.9500 - dense_19_acc: 0.9667 - dense_20_acc: 0.9667 - dense_21_acc: 0.9000 - dense_22_acc: 0.9500 - dense_23_acc: 0.9333 - dense_24_acc: 0.9167 - dense_25_acc: 0.9500 - dense_26_acc: 0.9333 - dense_27_acc: 0.9667 - dense_28_acc: 0.8500 - dense_29_acc: 0.8833 - dense_30_acc: 0.9333 - dense_31_acc: 0.0000e+00\n",
      "Epoch 84/100\n",
      "60/60 [==============================] - 0s 5ms/step - loss: 24.7656 - dense_2_loss: 3.2432 - dense_3_loss: 0.8403 - dense_4_loss: 0.6348 - dense_5_loss: 0.6125 - dense_6_loss: 0.7060 - dense_7_loss: 0.7123 - dense_8_loss: 0.6801 - dense_9_loss: 0.7322 - dense_10_loss: 0.7269 - dense_11_loss: 0.6806 - dense_12_loss: 0.7746 - dense_13_loss: 0.7684 - dense_14_loss: 0.7410 - dense_15_loss: 0.7700 - dense_16_loss: 0.8473 - dense_17_loss: 0.7717 - dense_18_loss: 0.7336 - dense_19_loss: 0.8115 - dense_20_loss: 0.7920 - dense_21_loss: 0.8318 - dense_22_loss: 0.8366 - dense_23_loss: 0.7846 - dense_24_loss: 0.8367 - dense_25_loss: 0.7998 - dense_26_loss: 0.9456 - dense_27_loss: 0.6996 - dense_28_loss: 0.7792 - dense_29_loss: 0.8105 - dense_30_loss: 0.8621 - dense_31_loss: 0.0000e+00 - dense_2_acc: 0.1000 - dense_3_acc: 0.7333 - dense_4_acc: 0.9500 - dense_5_acc: 0.9667 - dense_6_acc: 0.9333 - dense_7_acc: 0.9500 - dense_8_acc: 0.9667 - dense_9_acc: 0.9333 - dense_10_acc: 0.9667 - dense_11_acc: 0.9667 - dense_12_acc: 0.9000 - dense_13_acc: 0.9667 - dense_14_acc: 0.9167 - dense_15_acc: 0.9500 - dense_16_acc: 0.9167 - dense_17_acc: 0.9333 - dense_18_acc: 0.9500 - dense_19_acc: 0.9667 - dense_20_acc: 0.9667 - dense_21_acc: 0.9000 - dense_22_acc: 0.9333 - dense_23_acc: 0.9167 - dense_24_acc: 0.9000 - dense_25_acc: 0.9333 - dense_26_acc: 0.9500 - dense_27_acc: 0.9667 - dense_28_acc: 0.8667 - dense_29_acc: 0.8833 - dense_30_acc: 0.9167 - dense_31_acc: 0.0000e+00\n",
      "Epoch 85/100\n",
      "60/60 [==============================] - 0s 5ms/step - loss: 24.1302 - dense_2_loss: 3.2428 - dense_3_loss: 0.8279 - dense_4_loss: 0.6171 - dense_5_loss: 0.5908 - dense_6_loss: 0.6840 - dense_7_loss: 0.6899 - dense_8_loss: 0.6580 - dense_9_loss: 0.7073 - dense_10_loss: 0.7085 - dense_11_loss: 0.6605 - dense_12_loss: 0.7520 - dense_13_loss: 0.7446 - dense_14_loss: 0.7180 - dense_15_loss: 0.7487 - dense_16_loss: 0.8198 - dense_17_loss: 0.7507 - dense_18_loss: 0.7073 - dense_19_loss: 0.7882 - dense_20_loss: 0.7644 - dense_21_loss: 0.8245 - dense_22_loss: 0.8086 - dense_23_loss: 0.7537 - dense_24_loss: 0.8111 - dense_25_loss: 0.7794 - dense_26_loss: 0.9080 - dense_27_loss: 0.6839 - dense_28_loss: 0.7641 - dense_29_loss: 0.7913 - dense_30_loss: 0.8249 - dense_31_loss: 0.0000e+00 - dense_2_acc: 0.1000 - dense_3_acc: 0.7333 - dense_4_acc: 0.9500 - dense_5_acc: 0.9833 - dense_6_acc: 0.9333 - dense_7_acc: 0.9500 - dense_8_acc: 0.9667 - dense_9_acc: 0.9333 - dense_10_acc: 0.9667 - dense_11_acc: 0.9667 - dense_12_acc: 0.9000 - dense_13_acc: 0.9500 - dense_14_acc: 0.9167 - dense_15_acc: 0.9500 - dense_16_acc: 0.9000 - dense_17_acc: 0.9333 - dense_18_acc: 0.9500 - dense_19_acc: 0.9667 - dense_20_acc: 0.9667 - dense_21_acc: 0.9000 - dense_22_acc: 0.9333 - dense_23_acc: 0.9167 - dense_24_acc: 0.9333 - dense_25_acc: 0.9333 - dense_26_acc: 0.9500 - dense_27_acc: 0.9833 - dense_28_acc: 0.8500 - dense_29_acc: 0.9000 - dense_30_acc: 0.9167 - dense_31_acc: 0.0000e+00\n",
      "Epoch 86/100\n"
     ]
    },
    {
     "name": "stdout",
     "output_type": "stream",
     "text": [
      "60/60 [==============================] - 0s 5ms/step - loss: 23.5587 - dense_2_loss: 3.2423 - dense_3_loss: 0.8166 - dense_4_loss: 0.6015 - dense_5_loss: 0.5724 - dense_6_loss: 0.6626 - dense_7_loss: 0.6686 - dense_8_loss: 0.6340 - dense_9_loss: 0.6875 - dense_10_loss: 0.6795 - dense_11_loss: 0.6390 - dense_12_loss: 0.7320 - dense_13_loss: 0.7271 - dense_14_loss: 0.7029 - dense_15_loss: 0.7282 - dense_16_loss: 0.7940 - dense_17_loss: 0.7321 - dense_18_loss: 0.6933 - dense_19_loss: 0.7624 - dense_20_loss: 0.7388 - dense_21_loss: 0.8022 - dense_22_loss: 0.7794 - dense_23_loss: 0.7364 - dense_24_loss: 0.7907 - dense_25_loss: 0.7649 - dense_26_loss: 0.8949 - dense_27_loss: 0.6622 - dense_28_loss: 0.7451 - dense_29_loss: 0.7601 - dense_30_loss: 0.8077 - dense_31_loss: 0.0000e+00 - dense_2_acc: 0.1000 - dense_3_acc: 0.7333 - dense_4_acc: 0.9500 - dense_5_acc: 0.9833 - dense_6_acc: 0.9500 - dense_7_acc: 0.9667 - dense_8_acc: 0.9667 - dense_9_acc: 0.9500 - dense_10_acc: 0.9833 - dense_11_acc: 0.9667 - dense_12_acc: 0.9000 - dense_13_acc: 0.9667 - dense_14_acc: 0.9333 - dense_15_acc: 0.9500 - dense_16_acc: 0.9167 - dense_17_acc: 0.9333 - dense_18_acc: 0.9333 - dense_19_acc: 0.9667 - dense_20_acc: 0.9667 - dense_21_acc: 0.9167 - dense_22_acc: 0.9500 - dense_23_acc: 0.9500 - dense_24_acc: 0.9333 - dense_25_acc: 0.9500 - dense_26_acc: 0.9500 - dense_27_acc: 0.9833 - dense_28_acc: 0.8500 - dense_29_acc: 0.9000 - dense_30_acc: 0.9500 - dense_31_acc: 0.0000e+00\n",
      "Epoch 87/100\n",
      "60/60 [==============================] - 0s 5ms/step - loss: 22.9736 - dense_2_loss: 3.2419 - dense_3_loss: 0.8056 - dense_4_loss: 0.5859 - dense_5_loss: 0.5547 - dense_6_loss: 0.6415 - dense_7_loss: 0.6459 - dense_8_loss: 0.6188 - dense_9_loss: 0.6655 - dense_10_loss: 0.6633 - dense_11_loss: 0.6169 - dense_12_loss: 0.7101 - dense_13_loss: 0.7007 - dense_14_loss: 0.6769 - dense_15_loss: 0.6992 - dense_16_loss: 0.7798 - dense_17_loss: 0.7096 - dense_18_loss: 0.6687 - dense_19_loss: 0.7398 - dense_20_loss: 0.7156 - dense_21_loss: 0.7864 - dense_22_loss: 0.7694 - dense_23_loss: 0.7119 - dense_24_loss: 0.7713 - dense_25_loss: 0.7394 - dense_26_loss: 0.8678 - dense_27_loss: 0.6403 - dense_28_loss: 0.7218 - dense_29_loss: 0.7445 - dense_30_loss: 0.7801 - dense_31_loss: 0.0000e+00 - dense_2_acc: 0.0667 - dense_3_acc: 0.7333 - dense_4_acc: 0.9500 - dense_5_acc: 0.9833 - dense_6_acc: 0.9500 - dense_7_acc: 0.9500 - dense_8_acc: 0.9667 - dense_9_acc: 0.9500 - dense_10_acc: 1.0000 - dense_11_acc: 0.9667 - dense_12_acc: 0.9167 - dense_13_acc: 0.9667 - dense_14_acc: 0.9333 - dense_15_acc: 0.9500 - dense_16_acc: 0.9167 - dense_17_acc: 0.9333 - dense_18_acc: 0.9500 - dense_19_acc: 0.9833 - dense_20_acc: 0.9667 - dense_21_acc: 0.9333 - dense_22_acc: 0.9333 - dense_23_acc: 0.9333 - dense_24_acc: 0.9333 - dense_25_acc: 0.9667 - dense_26_acc: 0.9667 - dense_27_acc: 0.9833 - dense_28_acc: 0.9000 - dense_29_acc: 0.9167 - dense_30_acc: 0.9167 - dense_31_acc: 0.0000e+00\n",
      "Epoch 88/100\n",
      "60/60 [==============================] - 0s 5ms/step - loss: 22.4502 - dense_2_loss: 3.2414 - dense_3_loss: 0.7950 - dense_4_loss: 0.5719 - dense_5_loss: 0.5389 - dense_6_loss: 0.6248 - dense_7_loss: 0.6259 - dense_8_loss: 0.6010 - dense_9_loss: 0.6480 - dense_10_loss: 0.6487 - dense_11_loss: 0.5985 - dense_12_loss: 0.6902 - dense_13_loss: 0.6811 - dense_14_loss: 0.6589 - dense_15_loss: 0.6853 - dense_16_loss: 0.7653 - dense_17_loss: 0.6976 - dense_18_loss: 0.6477 - dense_19_loss: 0.7190 - dense_20_loss: 0.7037 - dense_21_loss: 0.7559 - dense_22_loss: 0.7482 - dense_23_loss: 0.6943 - dense_24_loss: 0.7542 - dense_25_loss: 0.7159 - dense_26_loss: 0.8313 - dense_27_loss: 0.6220 - dense_28_loss: 0.7034 - dense_29_loss: 0.7292 - dense_30_loss: 0.7530 - dense_31_loss: 0.0000e+00 - dense_2_acc: 0.1000 - dense_3_acc: 0.7333 - dense_4_acc: 0.9500 - dense_5_acc: 0.9833 - dense_6_acc: 0.9333 - dense_7_acc: 0.9500 - dense_8_acc: 0.9667 - dense_9_acc: 0.9500 - dense_10_acc: 1.0000 - dense_11_acc: 0.9667 - dense_12_acc: 0.9167 - dense_13_acc: 0.9667 - dense_14_acc: 0.9333 - dense_15_acc: 0.9500 - dense_16_acc: 0.9333 - dense_17_acc: 0.9500 - dense_18_acc: 0.9667 - dense_19_acc: 0.9833 - dense_20_acc: 0.9667 - dense_21_acc: 0.9500 - dense_22_acc: 0.9500 - dense_23_acc: 0.9500 - dense_24_acc: 0.9333 - dense_25_acc: 0.9667 - dense_26_acc: 0.9667 - dense_27_acc: 0.9833 - dense_28_acc: 0.9000 - dense_29_acc: 0.9333 - dense_30_acc: 0.9167 - dense_31_acc: 0.0000e+00\n",
      "Epoch 89/100\n",
      "60/60 [==============================] - 0s 5ms/step - loss: 21.9061 - dense_2_loss: 3.2412 - dense_3_loss: 0.7862 - dense_4_loss: 0.5569 - dense_5_loss: 0.5213 - dense_6_loss: 0.6080 - dense_7_loss: 0.6075 - dense_8_loss: 0.5784 - dense_9_loss: 0.6284 - dense_10_loss: 0.6219 - dense_11_loss: 0.5815 - dense_12_loss: 0.6721 - dense_13_loss: 0.6634 - dense_14_loss: 0.6411 - dense_15_loss: 0.6672 - dense_16_loss: 0.7400 - dense_17_loss: 0.6763 - dense_18_loss: 0.6332 - dense_19_loss: 0.6921 - dense_20_loss: 0.6749 - dense_21_loss: 0.7408 - dense_22_loss: 0.7186 - dense_23_loss: 0.6750 - dense_24_loss: 0.7338 - dense_25_loss: 0.7023 - dense_26_loss: 0.8167 - dense_27_loss: 0.6028 - dense_28_loss: 0.6823 - dense_29_loss: 0.7076 - dense_30_loss: 0.7345 - dense_31_loss: 0.0000e+00 - dense_2_acc: 0.0667 - dense_3_acc: 0.7333 - dense_4_acc: 0.9500 - dense_5_acc: 0.9833 - dense_6_acc: 0.9833 - dense_7_acc: 0.9667 - dense_8_acc: 0.9667 - dense_9_acc: 0.9500 - dense_10_acc: 1.0000 - dense_11_acc: 0.9833 - dense_12_acc: 0.9333 - dense_13_acc: 0.9833 - dense_14_acc: 0.9333 - dense_15_acc: 0.9500 - dense_16_acc: 0.9500 - dense_17_acc: 0.9500 - dense_18_acc: 0.9667 - dense_19_acc: 1.0000 - dense_20_acc: 0.9667 - dense_21_acc: 0.9333 - dense_22_acc: 0.9500 - dense_23_acc: 0.9833 - dense_24_acc: 0.9500 - dense_25_acc: 0.9667 - dense_26_acc: 0.9500 - dense_27_acc: 0.9833 - dense_28_acc: 0.9333 - dense_29_acc: 0.9333 - dense_30_acc: 0.9500 - dense_31_acc: 0.0000e+00\n",
      "Epoch 90/100\n",
      "60/60 [==============================] - 0s 5ms/step - loss: 21.3988 - dense_2_loss: 3.2408 - dense_3_loss: 0.7754 - dense_4_loss: 0.5425 - dense_5_loss: 0.5052 - dense_6_loss: 0.5891 - dense_7_loss: 0.5892 - dense_8_loss: 0.5609 - dense_9_loss: 0.6092 - dense_10_loss: 0.6046 - dense_11_loss: 0.5664 - dense_12_loss: 0.6508 - dense_13_loss: 0.6449 - dense_14_loss: 0.6224 - dense_15_loss: 0.6493 - dense_16_loss: 0.7181 - dense_17_loss: 0.6568 - dense_18_loss: 0.6120 - dense_19_loss: 0.6742 - dense_20_loss: 0.6570 - dense_21_loss: 0.7230 - dense_22_loss: 0.7069 - dense_23_loss: 0.6585 - dense_24_loss: 0.7065 - dense_25_loss: 0.6817 - dense_26_loss: 0.8015 - dense_27_loss: 0.5803 - dense_28_loss: 0.6668 - dense_29_loss: 0.6926 - dense_30_loss: 0.7120 - dense_31_loss: 0.0000e+00 - dense_2_acc: 0.0833 - dense_3_acc: 0.7333 - dense_4_acc: 0.9500 - dense_5_acc: 0.9833 - dense_6_acc: 0.9833 - dense_7_acc: 0.9667 - dense_8_acc: 0.9667 - dense_9_acc: 0.9500 - dense_10_acc: 1.0000 - dense_11_acc: 1.0000 - dense_12_acc: 0.9333 - dense_13_acc: 0.9833 - dense_14_acc: 0.9500 - dense_15_acc: 0.9667 - dense_16_acc: 0.9500 - dense_17_acc: 0.9500 - dense_18_acc: 0.9667 - dense_19_acc: 1.0000 - dense_20_acc: 0.9667 - dense_21_acc: 0.9500 - dense_22_acc: 0.9500 - dense_23_acc: 0.9833 - dense_24_acc: 0.9500 - dense_25_acc: 0.9667 - dense_26_acc: 0.9667 - dense_27_acc: 0.9833 - dense_28_acc: 0.9167 - dense_29_acc: 0.9167 - dense_30_acc: 0.9333 - dense_31_acc: 0.0000e+00\n",
      "Epoch 91/100\n"
     ]
    },
    {
     "name": "stdout",
     "output_type": "stream",
     "text": [
      "60/60 [==============================] - 0s 5ms/step - loss: 20.9105 - dense_2_loss: 3.2402 - dense_3_loss: 0.7672 - dense_4_loss: 0.5294 - dense_5_loss: 0.4891 - dense_6_loss: 0.5711 - dense_7_loss: 0.5707 - dense_8_loss: 0.5441 - dense_9_loss: 0.5914 - dense_10_loss: 0.5913 - dense_11_loss: 0.5476 - dense_12_loss: 0.6325 - dense_13_loss: 0.6252 - dense_14_loss: 0.6037 - dense_15_loss: 0.6311 - dense_16_loss: 0.7026 - dense_17_loss: 0.6424 - dense_18_loss: 0.5935 - dense_19_loss: 0.6573 - dense_20_loss: 0.6416 - dense_21_loss: 0.7021 - dense_22_loss: 0.6892 - dense_23_loss: 0.6394 - dense_24_loss: 0.6908 - dense_25_loss: 0.6648 - dense_26_loss: 0.7637 - dense_27_loss: 0.5713 - dense_28_loss: 0.6492 - dense_29_loss: 0.6753 - dense_30_loss: 0.6926 - dense_31_loss: 0.0000e+00 - dense_2_acc: 0.1000 - dense_3_acc: 0.7333 - dense_4_acc: 0.9500 - dense_5_acc: 0.9833 - dense_6_acc: 0.9833 - dense_7_acc: 1.0000 - dense_8_acc: 0.9833 - dense_9_acc: 0.9500 - dense_10_acc: 1.0000 - dense_11_acc: 0.9833 - dense_12_acc: 0.9500 - dense_13_acc: 0.9833 - dense_14_acc: 0.9500 - dense_15_acc: 0.9833 - dense_16_acc: 0.9500 - dense_17_acc: 0.9500 - dense_18_acc: 0.9667 - dense_19_acc: 1.0000 - dense_20_acc: 0.9833 - dense_21_acc: 0.9500 - dense_22_acc: 0.9500 - dense_23_acc: 0.9833 - dense_24_acc: 0.9500 - dense_25_acc: 0.9667 - dense_26_acc: 0.9667 - dense_27_acc: 0.9833 - dense_28_acc: 0.9000 - dense_29_acc: 0.9333 - dense_30_acc: 0.9333 - dense_31_acc: 0.0000e+00\n",
      "Epoch 92/100\n",
      "60/60 [==============================] - 0s 5ms/step - loss: 20.4377 - dense_2_loss: 3.2404 - dense_3_loss: 0.7582 - dense_4_loss: 0.5162 - dense_5_loss: 0.4756 - dense_6_loss: 0.5550 - dense_7_loss: 0.5534 - dense_8_loss: 0.5279 - dense_9_loss: 0.5764 - dense_10_loss: 0.5710 - dense_11_loss: 0.5328 - dense_12_loss: 0.6174 - dense_13_loss: 0.6083 - dense_14_loss: 0.5872 - dense_15_loss: 0.6126 - dense_16_loss: 0.6833 - dense_17_loss: 0.6261 - dense_18_loss: 0.5786 - dense_19_loss: 0.6364 - dense_20_loss: 0.6215 - dense_21_loss: 0.6885 - dense_22_loss: 0.6692 - dense_23_loss: 0.6206 - dense_24_loss: 0.6725 - dense_25_loss: 0.6443 - dense_26_loss: 0.7466 - dense_27_loss: 0.5535 - dense_28_loss: 0.6316 - dense_29_loss: 0.6560 - dense_30_loss: 0.6766 - dense_31_loss: 0.0000e+00 - dense_2_acc: 0.1000 - dense_3_acc: 0.7333 - dense_4_acc: 0.9500 - dense_5_acc: 0.9833 - dense_6_acc: 0.9833 - dense_7_acc: 1.0000 - dense_8_acc: 0.9667 - dense_9_acc: 0.9500 - dense_10_acc: 1.0000 - dense_11_acc: 1.0000 - dense_12_acc: 0.9500 - dense_13_acc: 0.9833 - dense_14_acc: 0.9500 - dense_15_acc: 0.9833 - dense_16_acc: 0.9500 - dense_17_acc: 0.9667 - dense_18_acc: 0.9833 - dense_19_acc: 1.0000 - dense_20_acc: 0.9833 - dense_21_acc: 0.9500 - dense_22_acc: 0.9500 - dense_23_acc: 0.9833 - dense_24_acc: 0.9500 - dense_25_acc: 0.9667 - dense_26_acc: 0.9500 - dense_27_acc: 0.9833 - dense_28_acc: 0.9167 - dense_29_acc: 0.9333 - dense_30_acc: 0.9500 - dense_31_acc: 0.0000e+00\n",
      "Epoch 93/100\n",
      "60/60 [==============================] - 0s 5ms/step - loss: 19.9771 - dense_2_loss: 3.2397 - dense_3_loss: 0.7505 - dense_4_loss: 0.5030 - dense_5_loss: 0.4605 - dense_6_loss: 0.5386 - dense_7_loss: 0.5367 - dense_8_loss: 0.5125 - dense_9_loss: 0.5592 - dense_10_loss: 0.5526 - dense_11_loss: 0.5189 - dense_12_loss: 0.5993 - dense_13_loss: 0.5908 - dense_14_loss: 0.5705 - dense_15_loss: 0.5972 - dense_16_loss: 0.6659 - dense_17_loss: 0.6080 - dense_18_loss: 0.5645 - dense_19_loss: 0.6162 - dense_20_loss: 0.6002 - dense_21_loss: 0.6733 - dense_22_loss: 0.6532 - dense_23_loss: 0.6068 - dense_24_loss: 0.6532 - dense_25_loss: 0.6278 - dense_26_loss: 0.7314 - dense_27_loss: 0.5357 - dense_28_loss: 0.6159 - dense_29_loss: 0.6383 - dense_30_loss: 0.6567 - dense_31_loss: 0.0000e+00 - dense_2_acc: 0.1000 - dense_3_acc: 0.7333 - dense_4_acc: 0.9500 - dense_5_acc: 0.9833 - dense_6_acc: 0.9833 - dense_7_acc: 1.0000 - dense_8_acc: 0.9667 - dense_9_acc: 0.9500 - dense_10_acc: 1.0000 - dense_11_acc: 1.0000 - dense_12_acc: 0.9500 - dense_13_acc: 0.9833 - dense_14_acc: 0.9667 - dense_15_acc: 0.9833 - dense_16_acc: 0.9500 - dense_17_acc: 0.9667 - dense_18_acc: 0.9833 - dense_19_acc: 1.0000 - dense_20_acc: 0.9833 - dense_21_acc: 0.9500 - dense_22_acc: 0.9500 - dense_23_acc: 0.9833 - dense_24_acc: 0.9667 - dense_25_acc: 0.9667 - dense_26_acc: 0.9500 - dense_27_acc: 0.9833 - dense_28_acc: 0.9333 - dense_29_acc: 0.9500 - dense_30_acc: 0.9500 - dense_31_acc: 0.0000e+00\n",
      "Epoch 94/100\n",
      "60/60 [==============================] - 0s 5ms/step - loss: 19.5443 - dense_2_loss: 3.2394 - dense_3_loss: 0.7432 - dense_4_loss: 0.4910 - dense_5_loss: 0.4465 - dense_6_loss: 0.5235 - dense_7_loss: 0.5211 - dense_8_loss: 0.4984 - dense_9_loss: 0.5423 - dense_10_loss: 0.5404 - dense_11_loss: 0.5034 - dense_12_loss: 0.5844 - dense_13_loss: 0.5742 - dense_14_loss: 0.5541 - dense_15_loss: 0.5826 - dense_16_loss: 0.6493 - dense_17_loss: 0.5920 - dense_18_loss: 0.5459 - dense_19_loss: 0.6026 - dense_20_loss: 0.5832 - dense_21_loss: 0.6550 - dense_22_loss: 0.6426 - dense_23_loss: 0.5887 - dense_24_loss: 0.6356 - dense_25_loss: 0.6138 - dense_26_loss: 0.7056 - dense_27_loss: 0.5235 - dense_28_loss: 0.6020 - dense_29_loss: 0.6246 - dense_30_loss: 0.6354 - dense_31_loss: 0.0000e+00 - dense_2_acc: 0.1000 - dense_3_acc: 0.7333 - dense_4_acc: 0.9500 - dense_5_acc: 0.9833 - dense_6_acc: 0.9833 - dense_7_acc: 1.0000 - dense_8_acc: 0.9667 - dense_9_acc: 0.9500 - dense_10_acc: 1.0000 - dense_11_acc: 1.0000 - dense_12_acc: 0.9500 - dense_13_acc: 0.9833 - dense_14_acc: 0.9833 - dense_15_acc: 0.9833 - dense_16_acc: 0.9667 - dense_17_acc: 0.9667 - dense_18_acc: 0.9833 - dense_19_acc: 1.0000 - dense_20_acc: 0.9833 - dense_21_acc: 0.9500 - dense_22_acc: 0.9500 - dense_23_acc: 0.9833 - dense_24_acc: 0.9667 - dense_25_acc: 0.9667 - dense_26_acc: 0.9667 - dense_27_acc: 0.9833 - dense_28_acc: 0.9167 - dense_29_acc: 0.9333 - dense_30_acc: 0.9333 - dense_31_acc: 0.0000e+00\n",
      "Epoch 95/100\n",
      "60/60 [==============================] - 0s 5ms/step - loss: 19.1129 - dense_2_loss: 3.2391 - dense_3_loss: 0.7353 - dense_4_loss: 0.4800 - dense_5_loss: 0.4342 - dense_6_loss: 0.5082 - dense_7_loss: 0.5067 - dense_8_loss: 0.4826 - dense_9_loss: 0.5275 - dense_10_loss: 0.5216 - dense_11_loss: 0.4888 - dense_12_loss: 0.5721 - dense_13_loss: 0.5597 - dense_14_loss: 0.5414 - dense_15_loss: 0.5658 - dense_16_loss: 0.6313 - dense_17_loss: 0.5769 - dense_18_loss: 0.5298 - dense_19_loss: 0.5828 - dense_20_loss: 0.5672 - dense_21_loss: 0.6398 - dense_22_loss: 0.6223 - dense_23_loss: 0.5720 - dense_24_loss: 0.6200 - dense_25_loss: 0.5968 - dense_26_loss: 0.6911 - dense_27_loss: 0.5100 - dense_28_loss: 0.5851 - dense_29_loss: 0.6053 - dense_30_loss: 0.6198 - dense_31_loss: 0.0000e+00 - dense_2_acc: 0.1000 - dense_3_acc: 0.7333 - dense_4_acc: 0.9500 - dense_5_acc: 0.9833 - dense_6_acc: 0.9833 - dense_7_acc: 1.0000 - dense_8_acc: 0.9667 - dense_9_acc: 0.9500 - dense_10_acc: 1.0000 - dense_11_acc: 1.0000 - dense_12_acc: 0.9500 - dense_13_acc: 0.9833 - dense_14_acc: 0.9833 - dense_15_acc: 0.9833 - dense_16_acc: 0.9500 - dense_17_acc: 0.9667 - dense_18_acc: 0.9833 - dense_19_acc: 1.0000 - dense_20_acc: 0.9833 - dense_21_acc: 0.9833 - dense_22_acc: 0.9500 - dense_23_acc: 0.9833 - dense_24_acc: 0.9667 - dense_25_acc: 0.9833 - dense_26_acc: 0.9667 - dense_27_acc: 0.9833 - dense_28_acc: 0.9167 - dense_29_acc: 0.9333 - dense_30_acc: 0.9500 - dense_31_acc: 0.0000e+00\n",
      "Epoch 96/100\n"
     ]
    },
    {
     "name": "stdout",
     "output_type": "stream",
     "text": [
      "60/60 [==============================] - 0s 5ms/step - loss: 18.7086 - dense_2_loss: 3.2390 - dense_3_loss: 0.7281 - dense_4_loss: 0.4685 - dense_5_loss: 0.4214 - dense_6_loss: 0.4931 - dense_7_loss: 0.4922 - dense_8_loss: 0.4680 - dense_9_loss: 0.5129 - dense_10_loss: 0.5061 - dense_11_loss: 0.4750 - dense_12_loss: 0.5573 - dense_13_loss: 0.5449 - dense_14_loss: 0.5265 - dense_15_loss: 0.5478 - dense_16_loss: 0.6147 - dense_17_loss: 0.5636 - dense_18_loss: 0.5165 - dense_19_loss: 0.5642 - dense_20_loss: 0.5509 - dense_21_loss: 0.6282 - dense_22_loss: 0.6020 - dense_23_loss: 0.5576 - dense_24_loss: 0.6040 - dense_25_loss: 0.5845 - dense_26_loss: 0.6757 - dense_27_loss: 0.4939 - dense_28_loss: 0.5715 - dense_29_loss: 0.5921 - dense_30_loss: 0.6085 - dense_31_loss: 0.0000e+00 - dense_2_acc: 0.1000 - dense_3_acc: 0.7333 - dense_4_acc: 0.9500 - dense_5_acc: 1.0000 - dense_6_acc: 0.9833 - dense_7_acc: 1.0000 - dense_8_acc: 0.9667 - dense_9_acc: 0.9500 - dense_10_acc: 1.0000 - dense_11_acc: 1.0000 - dense_12_acc: 0.9667 - dense_13_acc: 1.0000 - dense_14_acc: 0.9833 - dense_15_acc: 1.0000 - dense_16_acc: 0.9500 - dense_17_acc: 0.9667 - dense_18_acc: 0.9833 - dense_19_acc: 1.0000 - dense_20_acc: 0.9833 - dense_21_acc: 0.9833 - dense_22_acc: 0.9500 - dense_23_acc: 0.9833 - dense_24_acc: 0.9667 - dense_25_acc: 0.9833 - dense_26_acc: 0.9667 - dense_27_acc: 0.9833 - dense_28_acc: 0.9333 - dense_29_acc: 0.9500 - dense_30_acc: 0.9667 - dense_31_acc: 0.0000e+00\n",
      "Epoch 97/100\n",
      "60/60 [==============================] - 0s 5ms/step - loss: 18.3070 - dense_2_loss: 3.2386 - dense_3_loss: 0.7223 - dense_4_loss: 0.4570 - dense_5_loss: 0.4096 - dense_6_loss: 0.4798 - dense_7_loss: 0.4775 - dense_8_loss: 0.4546 - dense_9_loss: 0.4999 - dense_10_loss: 0.4941 - dense_11_loss: 0.4628 - dense_12_loss: 0.5402 - dense_13_loss: 0.5290 - dense_14_loss: 0.5090 - dense_15_loss: 0.5337 - dense_16_loss: 0.6015 - dense_17_loss: 0.5490 - dense_18_loss: 0.4998 - dense_19_loss: 0.5501 - dense_20_loss: 0.5368 - dense_21_loss: 0.6119 - dense_22_loss: 0.5916 - dense_23_loss: 0.5420 - dense_24_loss: 0.5880 - dense_25_loss: 0.5684 - dense_26_loss: 0.6513 - dense_27_loss: 0.4818 - dense_28_loss: 0.5574 - dense_29_loss: 0.5801 - dense_30_loss: 0.5890 - dense_31_loss: 0.0000e+00 - dense_2_acc: 0.1000 - dense_3_acc: 0.7333 - dense_4_acc: 0.9500 - dense_5_acc: 1.0000 - dense_6_acc: 0.9833 - dense_7_acc: 1.0000 - dense_8_acc: 0.9833 - dense_9_acc: 0.9500 - dense_10_acc: 1.0000 - dense_11_acc: 1.0000 - dense_12_acc: 0.9500 - dense_13_acc: 1.0000 - dense_14_acc: 0.9833 - dense_15_acc: 1.0000 - dense_16_acc: 0.9667 - dense_17_acc: 0.9667 - dense_18_acc: 0.9833 - dense_19_acc: 1.0000 - dense_20_acc: 0.9833 - dense_21_acc: 0.9833 - dense_22_acc: 0.9500 - dense_23_acc: 0.9833 - dense_24_acc: 0.9833 - dense_25_acc: 0.9833 - dense_26_acc: 0.9667 - dense_27_acc: 0.9833 - dense_28_acc: 0.9333 - dense_29_acc: 0.9500 - dense_30_acc: 0.9667 - dense_31_acc: 0.0000e+00\n",
      "Epoch 98/100\n",
      "60/60 [==============================] - 0s 4ms/step - loss: 17.9154 - dense_2_loss: 3.2381 - dense_3_loss: 0.7156 - dense_4_loss: 0.4467 - dense_5_loss: 0.3969 - dense_6_loss: 0.4659 - dense_7_loss: 0.4631 - dense_8_loss: 0.4420 - dense_9_loss: 0.4851 - dense_10_loss: 0.4803 - dense_11_loss: 0.4488 - dense_12_loss: 0.5255 - dense_13_loss: 0.5152 - dense_14_loss: 0.4950 - dense_15_loss: 0.5196 - dense_16_loss: 0.5858 - dense_17_loss: 0.5370 - dense_18_loss: 0.4886 - dense_19_loss: 0.5325 - dense_20_loss: 0.5195 - dense_21_loss: 0.5979 - dense_22_loss: 0.5751 - dense_23_loss: 0.5260 - dense_24_loss: 0.5720 - dense_25_loss: 0.5569 - dense_26_loss: 0.6357 - dense_27_loss: 0.4679 - dense_28_loss: 0.5432 - dense_29_loss: 0.5662 - dense_30_loss: 0.5733 - dense_31_loss: 0.0000e+00 - dense_2_acc: 0.1000 - dense_3_acc: 0.7333 - dense_4_acc: 0.9500 - dense_5_acc: 1.0000 - dense_6_acc: 1.0000 - dense_7_acc: 1.0000 - dense_8_acc: 0.9833 - dense_9_acc: 0.9500 - dense_10_acc: 1.0000 - dense_11_acc: 1.0000 - dense_12_acc: 0.9667 - dense_13_acc: 1.0000 - dense_14_acc: 1.0000 - dense_15_acc: 1.0000 - dense_16_acc: 0.9833 - dense_17_acc: 0.9667 - dense_18_acc: 0.9833 - dense_19_acc: 1.0000 - dense_20_acc: 1.0000 - dense_21_acc: 0.9833 - dense_22_acc: 0.9500 - dense_23_acc: 0.9833 - dense_24_acc: 1.0000 - dense_25_acc: 0.9833 - dense_26_acc: 0.9833 - dense_27_acc: 0.9833 - dense_28_acc: 0.9333 - dense_29_acc: 0.9667 - dense_30_acc: 0.9500 - dense_31_acc: 0.0000e+00\n",
      "Epoch 99/100\n",
      "60/60 [==============================] - 0s 5ms/step - loss: 17.5664 - dense_2_loss: 3.2379 - dense_3_loss: 0.7104 - dense_4_loss: 0.4375 - dense_5_loss: 0.3860 - dense_6_loss: 0.4528 - dense_7_loss: 0.4504 - dense_8_loss: 0.4289 - dense_9_loss: 0.4732 - dense_10_loss: 0.4642 - dense_11_loss: 0.4358 - dense_12_loss: 0.5138 - dense_13_loss: 0.5028 - dense_14_loss: 0.4831 - dense_15_loss: 0.5096 - dense_16_loss: 0.5694 - dense_17_loss: 0.5246 - dense_18_loss: 0.4762 - dense_19_loss: 0.5193 - dense_20_loss: 0.5072 - dense_21_loss: 0.5823 - dense_22_loss: 0.5578 - dense_23_loss: 0.5160 - dense_24_loss: 0.5603 - dense_25_loss: 0.5439 - dense_26_loss: 0.6214 - dense_27_loss: 0.4568 - dense_28_loss: 0.5312 - dense_29_loss: 0.5510 - dense_30_loss: 0.5627 - dense_31_loss: 0.0000e+00 - dense_2_acc: 0.1000 - dense_3_acc: 0.7333 - dense_4_acc: 0.9500 - dense_5_acc: 1.0000 - dense_6_acc: 1.0000 - dense_7_acc: 1.0000 - dense_8_acc: 0.9833 - dense_9_acc: 0.9667 - dense_10_acc: 1.0000 - dense_11_acc: 1.0000 - dense_12_acc: 0.9833 - dense_13_acc: 1.0000 - dense_14_acc: 1.0000 - dense_15_acc: 1.0000 - dense_16_acc: 0.9667 - dense_17_acc: 0.9667 - dense_18_acc: 0.9833 - dense_19_acc: 1.0000 - dense_20_acc: 1.0000 - dense_21_acc: 0.9833 - dense_22_acc: 0.9500 - dense_23_acc: 0.9833 - dense_24_acc: 1.0000 - dense_25_acc: 0.9833 - dense_26_acc: 0.9833 - dense_27_acc: 0.9833 - dense_28_acc: 0.9167 - dense_29_acc: 0.9500 - dense_30_acc: 0.9833 - dense_31_acc: 0.0000e+00\n",
      "Epoch 100/100\n",
      "60/60 [==============================] - 0s 4ms/step - loss: 17.1929 - dense_2_loss: 3.2377 - dense_3_loss: 0.7042 - dense_4_loss: 0.4279 - dense_5_loss: 0.3748 - dense_6_loss: 0.4399 - dense_7_loss: 0.4364 - dense_8_loss: 0.4193 - dense_9_loss: 0.4604 - dense_10_loss: 0.4548 - dense_11_loss: 0.4243 - dense_12_loss: 0.5009 - dense_13_loss: 0.4868 - dense_14_loss: 0.4702 - dense_15_loss: 0.4921 - dense_16_loss: 0.5577 - dense_17_loss: 0.5092 - dense_18_loss: 0.4585 - dense_19_loss: 0.5081 - dense_20_loss: 0.4936 - dense_21_loss: 0.5704 - dense_22_loss: 0.5503 - dense_23_loss: 0.5029 - dense_24_loss: 0.5429 - dense_25_loss: 0.5261 - dense_26_loss: 0.6028 - dense_27_loss: 0.4444 - dense_28_loss: 0.5158 - dense_29_loss: 0.5359 - dense_30_loss: 0.5447 - dense_31_loss: 0.0000e+00 - dense_2_acc: 0.1000 - dense_3_acc: 0.7333 - dense_4_acc: 0.9500 - dense_5_acc: 1.0000 - dense_6_acc: 1.0000 - dense_7_acc: 1.0000 - dense_8_acc: 0.9833 - dense_9_acc: 0.9667 - dense_10_acc: 1.0000 - dense_11_acc: 1.0000 - dense_12_acc: 0.9667 - dense_13_acc: 1.0000 - dense_14_acc: 1.0000 - dense_15_acc: 1.0000 - dense_16_acc: 0.9833 - dense_17_acc: 0.9667 - dense_18_acc: 0.9833 - dense_19_acc: 1.0000 - dense_20_acc: 1.0000 - dense_21_acc: 0.9833 - dense_22_acc: 0.9500 - dense_23_acc: 0.9833 - dense_24_acc: 1.0000 - dense_25_acc: 0.9833 - dense_26_acc: 0.9833 - dense_27_acc: 0.9833 - dense_28_acc: 0.9500 - dense_29_acc: 0.9667 - dense_30_acc: 0.9833 - dense_31_acc: 0.0000e+00\n"
     ]
    },
    {
     "data": {
      "text/plain": [
       "<keras.callbacks.History at 0x28748db14e0>"
      ]
     },
     "execution_count": 9,
     "metadata": {},
     "output_type": "execute_result"
    }
   ],
   "source": [
    "model.fit([X, a0, c0], list(Y), epochs=100)"
   ]
  },
  {
   "cell_type": "markdown",
   "metadata": {},
   "source": [
    "You should see the model loss going down. Now that you have trained a model, lets go on the the final section to implement an inference algorithm, and generate some music! "
   ]
  },
  {
   "cell_type": "markdown",
   "metadata": {},
   "source": [
    "## 3 - Generating music\n",
    "\n",
    "You now have a trained model which has learned the patterns of the jazz soloist. Lets now use this model to synthesize new music. \n",
    "\n",
    "#### 3.1 - Predicting & Sampling\n",
    "\n",
    "<img src=\"images/music_gen.png\" style=\"width:600;height:400px;\">\n",
    "\n",
    "At each step of sampling, you will take as input the activation `a` and cell state `c` from the previous state of the LSTM, forward propagate by one step, and get a new output activation as well as cell state. The new activation `a` can then be used to generate the output, using `densor` as before. \n",
    "\n",
    "To start off the model, we will initialize `x0` as well as the LSTM activation and and cell value `a0` and `c0` to be zeros. \n",
    "\n",
    "\n",
    "<!-- \n",
    "You are about to build a function that will do this inference for you. Your function takes in your previous model and the number of time steps `Ty` that you want to sample. It will return a keras model that would be able to generate sequences for you. Furthermore, the function takes in a dense layer of `78` units and the number of activations. \n",
    "!--> \n",
    "\n",
    "\n",
    "**Exercise:** Implement the function below to sample a sequence of musical values. Here are some of the key steps you'll need to implement inside the for-loop that generates the $T_y$ output characters: \n",
    "\n",
    "Step 2.A: Use `LSTM_Cell`, which inputs the previous step's `c` and `a` to generate the current step's `c` and `a`. \n",
    "\n",
    "Step 2.B: Use `densor` (defined previously) to compute a softmax on `a` to get the output for the current step. \n",
    "\n",
    "Step 2.C: Save the output you have just generated by appending it to `outputs`.\n",
    "\n",
    "Step 2.D: Sample x to the be \"out\"'s one-hot version (the prediction) so that you can pass it to the next LSTM's step.  We have already provided this line of code, which uses a [Lambda](https://keras.io/layers/core/#lambda) function. \n",
    "```python\n",
    "x = Lambda(one_hot)(out) \n",
    "```\n",
    "[Minor technical note: Rather than sampling a value at random according to the probabilities in `out`, this line of code actually chooses the single most likely note at each step using an argmax.]\n"
   ]
  },
  {
   "cell_type": "code",
   "execution_count": 10,
   "metadata": {},
   "outputs": [],
   "source": [
    "# GRADED FUNCTION: music_inference_model\n",
    "\n",
    "def music_inference_model(LSTM_cell, densor, n_values = 78, n_a = 64, Ty = 100):\n",
    "    \"\"\"\n",
    "    Uses the trained \"LSTM_cell\" and \"densor\" from model() to generate a sequence of values.\n",
    "    \n",
    "    Arguments:\n",
    "    LSTM_cell -- the trained \"LSTM_cell\" from model(), Keras layer object\n",
    "    densor -- the trained \"densor\" from model(), Keras layer object\n",
    "    n_values -- integer, number of unique values\n",
    "    n_a -- number of units in the LSTM_cell\n",
    "    Ty -- integer, number of time steps to generate\n",
    "    \n",
    "    Returns:\n",
    "    inference_model -- Keras model instance\n",
    "    \"\"\"\n",
    "    \n",
    "    # Define the input of your model with a shape \n",
    "    x0 = Input(shape=(1, n_values))\n",
    "    \n",
    "    # Define s0, initial hidden state for the decoder LSTM\n",
    "    a0 = Input(shape=(n_a,), name='a0')\n",
    "    c0 = Input(shape=(n_a,), name='c0')\n",
    "    a = a0\n",
    "    c = c0\n",
    "    x = x0\n",
    "\n",
    "    ### START CODE HERE ###\n",
    "    # Step 1: Create an empty list of \"outputs\" to later store your predicted values (≈1 line)\n",
    "    outputs = []\n",
    "    \n",
    "    # Step 2: Loop over Ty and generate a value at every time step\n",
    "    for t in range(Ty):\n",
    "        \n",
    "        # Step 2.A: Perform one step of LSTM_cell (≈1 line)\n",
    "        a, _, c = LSTM_cell(x, initial_state=[a, c])\n",
    "        \n",
    "        # Step 2.B: Apply Dense layer to the hidden state output of the LSTM_cell (≈1 line)\n",
    "        out = Dense(n_values,activation='softmax')(a)\n",
    "\n",
    "        # Step 2.C: Append the prediction \"out\" to \"outputs\". out.shape = (None, 78) (≈1 line)\n",
    "        outputs.append(out)\n",
    "        \n",
    "        # Step 2.D: Select the next value according to \"out\", and set \"x\" to be the one-hot representation of the\n",
    "        #           selected value, which will be passed as the input to LSTM_cell on the next step. We have provided \n",
    "        #           the line of code you need to do this. \n",
    "        x = Lambda(one_hot)(out)\n",
    "        \n",
    "    # Step 3: Create model instance with the correct \"inputs\" and \"outputs\" (≈1 line)\n",
    "    inference_model = Model(inputs=[x0,a0,c0],outputs=outputs)\n",
    "    \n",
    "    ### END CODE HERE ###\n",
    "    \n",
    "    return inference_model"
   ]
  },
  {
   "cell_type": "markdown",
   "metadata": {},
   "source": [
    "Run the cell below to define your inference model. This model is hard coded to generate 50 values."
   ]
  },
  {
   "cell_type": "code",
   "execution_count": 11,
   "metadata": {},
   "outputs": [],
   "source": [
    "inference_model = music_inference_model(LSTM_cell, densor, n_values = 78, n_a = 64, Ty = 50)"
   ]
  },
  {
   "cell_type": "markdown",
   "metadata": {},
   "source": [
    "Finally, this creates the zero-valued vectors you will use to initialize `x` and the LSTM state variables `a` and `c`. "
   ]
  },
  {
   "cell_type": "code",
   "execution_count": 34,
   "metadata": {},
   "outputs": [],
   "source": [
    "x_initializer = np.zeros((1, 1, 78))\n",
    "a_initializer = np.zeros((1, n_a))\n",
    "c_initializer = np.zeros((1, n_a))"
   ]
  },
  {
   "cell_type": "markdown",
   "metadata": {},
   "source": [
    "**Exercise**: Implement `predict_and_sample()`. This function takes many arguments including the inputs [x_initializer, a_initializer, c_initializer]. In order to predict the output corresponding to this input, you will need to carry-out 3 steps:\n",
    "1. Use your inference model to predict an output given your set of inputs. The output `pred` should be a list of length $T_y$ where each element is a numpy-array of shape (1, n_values).\n",
    "2. Convert `pred` into a numpy array of $T_y$ indices. Each index corresponds is computed by taking the `argmax` of an element of the `pred` list. [Hint](https://docs.scipy.org/doc/numpy/reference/generated/numpy.argmax.html).\n",
    "3. Convert the indices into their one-hot vector representations. [Hint](https://keras.io/utils/#to_categorical)."
   ]
  },
  {
   "cell_type": "code",
   "execution_count": 63,
   "metadata": {},
   "outputs": [],
   "source": [
    "# GRADED FUNCTION: predict_and_sample\n",
    "\n",
    "def predict_and_sample(inference_model, x_initializer = x_initializer, a_initializer = a_initializer, \n",
    "                       c_initializer = c_initializer):\n",
    "    \"\"\"\n",
    "    Predicts the next value of values using the inference model.\n",
    "    \n",
    "    Arguments:\n",
    "    inference_model -- Keras model instance for inference time\n",
    "    x_initializer -- numpy array of shape (1, 1, 78), one-hot vector initializing the values generation\n",
    "    a_initializer -- numpy array of shape (1, n_a), initializing the hidden state of the LSTM_cell\n",
    "    c_initializer -- numpy array of shape (1, n_a), initializing the cell state of the LSTM_cel\n",
    "    \n",
    "    Returns:\n",
    "    results -- numpy-array of shape (Ty, 78), matrix of one-hot vectors representing the values generated\n",
    "    indices -- numpy-array of shape (Ty, 1), matrix of indices representing the values generated\n",
    "    \"\"\"\n",
    "    \n",
    "    ### START CODE HERE ###\n",
    "    # Step 1: Use your inference model to predict an output sequence given x_initializer, a_initializer and c_initializer.\n",
    "    pred =  inference_model.predict([x_initializer,a_initializer,c_initializer])\n",
    "    # Step 2: Convert \"pred\" into an np.array() of indices with the maximum probabilities\n",
    "    indices = np.array(list(map(lambda x: np.argmax(x),pred)))\n",
    "    # Step 3: Convert indices to one-hot vectors, the shape of the results should be (1, )\n",
    "    results = np.zeros((indices.shape[0],x_initializer.shape[2]))\n",
    "    results[np.arange(indices.shape[0]),indices]=1\n",
    "    ### END CODE HERE ###\n",
    "    \n",
    "    return results, indices"
   ]
  },
  {
   "cell_type": "code",
   "execution_count": 64,
   "metadata": {},
   "outputs": [
    {
     "name": "stdout",
     "output_type": "stream",
     "text": [
      "np.argmax(results[12]) = 65\n",
      "np.argmax(results[17]) = 40\n",
      "list(indices[12:18]) = [65, 20, 40, 43, 31, 40]\n"
     ]
    }
   ],
   "source": [
    "results, indices = predict_and_sample(inference_model, x_initializer, a_initializer, c_initializer)\n",
    "print(\"np.argmax(results[12]) =\", np.argmax(results[12]))\n",
    "print(\"np.argmax(results[17]) =\", np.argmax(results[17]))\n",
    "print(\"list(indices[12:18]) =\", list(indices[12:18]))"
   ]
  },
  {
   "cell_type": "markdown",
   "metadata": {},
   "source": [
    "**Expected Output**: Your results may differ because Keras' results are not completely predictable. However, if you have trained your LSTM_cell with model.fit() for exactly 100 epochs as described above, you should very likely observe a sequence of indices that are not all identical. Moreover, you should observe that: np.argmax(results[12]) is the first element of list(indices[12:18]) and np.argmax(results[17]) is the last element of list(indices[12:18]). \n",
    "\n",
    "<table>\n",
    "    <tr>\n",
    "        <td>\n",
    "            **np.argmax(results[12])** =\n",
    "        </td>\n",
    "        <td>\n",
    "        1\n",
    "        </td>\n",
    "    </tr>\n",
    "    <tr>\n",
    "        <td>\n",
    "            **np.argmax(results[12])** =\n",
    "        </td>\n",
    "        <td>\n",
    "        42\n",
    "        </td>\n",
    "    </tr>\n",
    "    <tr>\n",
    "        <td>\n",
    "            **list(indices[12:18])** =\n",
    "        </td>\n",
    "        <td>\n",
    "            [array([1]), array([42]), array([54]), array([17]), array([1]), array([42])]\n",
    "        </td>\n",
    "    </tr>\n",
    "</table>"
   ]
  },
  {
   "cell_type": "markdown",
   "metadata": {},
   "source": [
    "#### 3.3 - Generate music \n",
    "\n",
    "Finally, you are ready to generate music. Your RNN generates a sequence of values. The following code generates music by first calling your `predict_and_sample()` function. These values are then post-processed into musical chords (meaning that multiple values or notes can be played at the same time). \n",
    "\n",
    "Most computational music algorithms use some post-processing because it is difficult to generate music that sounds good without such post-processing. The post-processing does things such as clean up the generated audio by making sure the same sound is not repeated too many times, that two successive notes are not too far from each other in pitch, and so on. One could argue that a lot of these post-processing steps are hacks; also, a lot the music generation literature has also focused on hand-crafting post-processors, and a lot of the output quality depends on the quality of the post-processing and not just the quality of the RNN. But this post-processing does make a huge difference, so lets use it in our implementation as well. \n",
    "\n",
    "Lets make some music! "
   ]
  },
  {
   "cell_type": "markdown",
   "metadata": {},
   "source": [
    "Run the following cell to generate music and record it into your `out_stream`. This can take a couple of minutes."
   ]
  },
  {
   "cell_type": "code",
   "execution_count": 65,
   "metadata": {
    "scrolled": false
   },
   "outputs": [
    {
     "name": "stdout",
     "output_type": "stream",
     "text": [
      "Predicting new values for different set of chords.\n",
      "Generated 51 sounds using the predicted values for the set of chords (\"1\") and after pruning\n",
      "Generated 51 sounds using the predicted values for the set of chords (\"2\") and after pruning\n",
      "Generated 51 sounds using the predicted values for the set of chords (\"3\") and after pruning\n",
      "Generated 51 sounds using the predicted values for the set of chords (\"4\") and after pruning\n",
      "Generated 51 sounds using the predicted values for the set of chords (\"5\") and after pruning\n",
      "Your generated music is saved in output/my_music.midi\n"
     ]
    }
   ],
   "source": [
    "out_stream = generate_music(inference_model)"
   ]
  },
  {
   "cell_type": "markdown",
   "metadata": {},
   "source": [
    "To listen to your music, click File->Open... Then go to \"output/\" and download \"my_music.midi\". Either play it on your computer with an application that can read midi files if you have one, or use one of the free online \"MIDI to mp3\" conversion tools to convert this to mp3.  \n",
    "\n",
    "As reference, here also is a 30sec audio clip we generated using this algorithm. "
   ]
  },
  {
   "cell_type": "code",
   "execution_count": null,
   "metadata": {},
   "outputs": [],
   "source": [
    "IPython.display.Audio('./data/30s_trained_model.mp3')"
   ]
  },
  {
   "cell_type": "markdown",
   "metadata": {},
   "source": [
    "### Congratulations!\n",
    "\n",
    "You have come to the end of the notebook. \n",
    "\n",
    "<font color=\"blue\">\n",
    "Here's what you should remember:\n",
    "- A sequence model can be used to generate musical values, which are then post-processed into midi music. \n",
    "- Fairly similar models can be used to generate dinosaur names or to generate music, with the major difference being the input fed to the model.  \n",
    "- In Keras, sequence generation involves defining layers with shared weights, which are then repeated for the different time steps $1, \\ldots, T_x$. "
   ]
  },
  {
   "cell_type": "markdown",
   "metadata": {},
   "source": [
    "Congratulations on completing this assignment and generating a jazz solo! "
   ]
  },
  {
   "cell_type": "markdown",
   "metadata": {},
   "source": [
    "**References**\n",
    "\n",
    "The ideas presented in this notebook came primarily from three computational music papers cited below. The implementation here also took significant inspiration and used many components from Ji-Sung Kim's github repository.\n",
    "\n",
    "- Ji-Sung Kim, 2016, [deepjazz](https://github.com/jisungk/deepjazz)\n",
    "- Jon Gillick, Kevin Tang and Robert Keller, 2009. [Learning Jazz Grammars](http://ai.stanford.edu/~kdtang/papers/smc09-jazzgrammar.pdf)\n",
    "- Robert Keller and David Morrison, 2007, [A Grammatical Approach to Automatic Improvisation](http://smc07.uoa.gr/SMC07%20Proceedings/SMC07%20Paper%2055.pdf)\n",
    "- François Pachet, 1999, [Surprising Harmonies](http://citeseerx.ist.psu.edu/viewdoc/download?doi=10.1.1.5.7473&rep=rep1&type=pdf)\n",
    "\n",
    "We're also grateful to François Germain for valuable feedback."
   ]
  }
 ],
 "metadata": {
  "coursera": {
   "course_slug": "nlp-sequence-models",
   "graded_item_id": "EG0F7",
   "launcher_item_id": "cxJXc"
  },
  "kernelspec": {
   "display_name": "Python 3",
   "language": "python",
   "name": "python3"
  },
  "language_info": {
   "codemirror_mode": {
    "name": "ipython",
    "version": 3
   },
   "file_extension": ".py",
   "mimetype": "text/x-python",
   "name": "python",
   "nbconvert_exporter": "python",
   "pygments_lexer": "ipython3",
   "version": "3.6.5"
  }
 },
 "nbformat": 4,
 "nbformat_minor": 2
}
